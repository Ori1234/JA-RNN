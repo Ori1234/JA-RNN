{
  "nbformat": 4,
  "nbformat_minor": 0,
  "metadata": {
    "colab": {
      "name": "Thesis 8 march",
      "provenance": [],
      "collapsed_sections": [],
      "machine_shape": "hm",
      "include_colab_link": true
    },
    "kernelspec": {
      "name": "python3",
      "display_name": "Python 3"
    },
    "accelerator": "GPU"
  },
  "cells": [
    {
      "cell_type": "markdown",
      "metadata": {
        "id": "view-in-github",
        "colab_type": "text"
      },
      "source": [
        "<a href=\"https://colab.research.google.com/github/Ori1234/JA-RNN/blob/master/Thesis_8_march.ipynb\" target=\"_parent\"><img src=\"https://colab.research.google.com/assets/colab-badge.svg\" alt=\"Open In Colab\"/></a>"
      ]
    },
    {
      "cell_type": "markdown",
      "metadata": {
        "id": "9oFP8V9qDldY",
        "colab_type": "text"
      },
      "source": [
        "https://webcache.googleusercontent.com/search?q=cache:viNLSTwuTS0J:https://www.reddit.com/r/datascience/comments/bkrzah/google_colab_how_to_avoid_timeoutdisconnect_issues/+&cd=2&hl=en&ct=clnk&gl=il\n",
        "\n",
        "Go to the google Colab console (ctrl+shift+i)\n",
        "\n",
        "Dont exit the console until you get \"Working\" as the output in the console window.\n",
        "\n",
        "\n",
        "Note to self: Make sure you dont run anything for more than 12 hrs on Colab\n",
        "\n",
        "\n",
        "\n",
        "\n",
        "\n",
        "\n",
        "```\n",
        "\n",
        "function ClickConnect(){console.log(\"Working\");if (document.querySelector(\"paper-button#ok\")!=null){document.querySelector(\"paper-button#ok\").click()}}val=setInterval(ClickConnect,60000)\n",
        "\n",
        "clearInterval(val)\n",
        "```\n",
        "\n"
      ]
    },
    {
      "cell_type": "markdown",
      "metadata": {
        "id": "4ltiajqo3ptE",
        "colab_type": "text"
      },
      "source": [
        "**SUMMERY**\n",
        "\n",
        "say somthing"
      ]
    },
    {
      "cell_type": "markdown",
      "metadata": {
        "id": "XdTdNSHUmCvD",
        "colab_type": "text"
      },
      "source": [
        "#IMPORTS"
      ]
    },
    {
      "cell_type": "code",
      "metadata": {
        "id": "roia04jL0jCr",
        "colab_type": "code",
        "colab": {}
      },
      "source": [
        "CELL_NAME=\"IMPORTS\"\n",
        "from __future__ import absolute_import, division, print_function, unicode_literals\n",
        "\n",
        "\n",
        "import tensorflow as tf\n",
        "#tf.enable_eager_execution()\n",
        "from datetime import datetime\n",
        "\n",
        "\n",
        "from sklearn.model_selection import train_test_split\n",
        "from sklearn.metrics import accuracy_score\n",
        "\n",
        "import random\n",
        "import numpy as np\n",
        "import os\n",
        "import re\n",
        "import unicodedata\n",
        "import math\n",
        "from termcolor import colored, cprint\n",
        "import editdistance\n",
        "\n",
        "\n",
        "#We recommend you upgrade now or ensure your notebook will continue to use TensorFlow 1.x via the %tensorflow_version 1.x magic: more info.\n"
      ],
      "execution_count": 0,
      "outputs": []
    },
    {
      "cell_type": "markdown",
      "metadata": {
        "id": "IVSrDNbLhC7H",
        "colab_type": "text"
      },
      "source": [
        "#GLOBAL VARS"
      ]
    },
    {
      "cell_type": "code",
      "metadata": {
        "id": "e1fPaxl8g_BK",
        "colab_type": "code",
        "colab": {}
      },
      "source": [
        "this_time=str(datetime.now())\n",
        "GLOBAL_epoch=0\n",
        "DEBUG=False"
      ],
      "execution_count": 0,
      "outputs": []
    },
    {
      "cell_type": "markdown",
      "metadata": {
        "id": "4AndYz46gsER",
        "colab_type": "text"
      },
      "source": [
        "#LOGGING"
      ]
    },
    {
      "cell_type": "code",
      "metadata": {
        "id": "ldvhaPtVF0Kd",
        "colab_type": "code",
        "colab": {}
      },
      "source": [
        "######To clean logs\n",
        "######!rm log*.log"
      ],
      "execution_count": 0,
      "outputs": []
    },
    {
      "cell_type": "code",
      "metadata": {
        "id": "raxiE-PU7A-E",
        "colab_type": "code",
        "outputId": "083c48cd-4f0c-492d-815c-17bd00974170",
        "colab": {
          "base_uri": "https://localhost:8080/",
          "height": 35
        }
      },
      "source": [
        "CELL_NAME=\"START LOG\"\n",
        "\n",
        "\n",
        "log_file=\"LOG___\"+this_time+\".txt\"\n",
        "f_logg= open(log_file,\"w\")\n",
        "print(\"logging to file (will be added to mail)\",log_file)\n",
        "  \n",
        "\n",
        "\n",
        "\n",
        "\n",
        "def _print_log(also_print,*txts):  \n",
        "  txt=\"\"\n",
        "  for t in txts:\n",
        "    txt+=\" \"+str(t)\n",
        "  f_logg.write(CELL_NAME+\" \"+str(datetime.now())+\": \"+txt+'\\n') #TODO ADD TIME!!!!\n",
        "  if also_print:\n",
        "    print(*txts)\n",
        "\n",
        "def print_log(*txts):\n",
        "  if (DEBUG):\n",
        "    print(*txts)\n",
        "  _print_log(False,*txts)\n",
        "\n",
        "\n",
        "def print_log_screen(*txts):\n",
        "  _print_log(True,*txts)\n",
        "\n",
        "\n",
        "def log_flush():\n",
        "  f_logg.flush()\n",
        "\n",
        "def close_log():\n",
        "  f_logg.close()\n",
        "\n",
        "\n",
        "\n",
        "#DON'T FORGET TO CLOSE THE FILE AT THE END\n"
      ],
      "execution_count": 5,
      "outputs": [
        {
          "output_type": "stream",
          "text": [
            "logging to file (will be added to mail) LOG___2020-05-10 16:22:34.571397.txt\n"
          ],
          "name": "stdout"
        }
      ]
    },
    {
      "cell_type": "code",
      "metadata": {
        "id": "mh93f3m4fb3Q",
        "colab_type": "code",
        "outputId": "1566e14f-7a1b-4bf7-dcfd-2c24effb3cc8",
        "colab": {
          "base_uri": "https://localhost:8080/",
          "height": 90
        }
      },
      "source": [
        "\n",
        "#PAIST HERE TO SEE PROPERLY THE SHOW DIFF PART IN LOGS\n",
        "text='''MAIN:  (1) ‫ אלא באד'נה . פכיפ לא | إلاّ بإذنه . فكيف لا | إلاّ بإذنه . فكيف لا | 0.0000\n",
        "MAIN:  (2) ‫ להמ , ולטלבוא וג'והא | لهم , ولطلبوا وجوها\u001b[1m\u001b[31mً\u001b[0m | لهم , ولطلبوا وجوها | 0.0500\n",
        "MAIN:  (3) ‫ , ודפעהמא אלי מוסי H | , ودفعهما إلى موسى H | , ودفعهما إلى موسى H | 0.0000\n",
        "MAIN:  LER (label error rate):  0.033400332030791034'''\n",
        "print(text)\n",
        "\n",
        "\n",
        "\n"
      ],
      "execution_count": 6,
      "outputs": [
        {
          "output_type": "stream",
          "text": [
            "MAIN:  (1) ‫ אלא באד'נה . פכיפ לא | إلاّ بإذنه . فكيف لا | إلاّ بإذنه . فكيف لا | 0.0000\n",
            "MAIN:  (2) ‫ להמ , ולטלבוא וג'והא | لهم , ولطلبوا وجوها\u001b[1m\u001b[31mً\u001b[0m | لهم , ولطلبوا وجوها | 0.0500\n",
            "MAIN:  (3) ‫ , ודפעהמא אלי מוסי H | , ودفعهما إلى موسى H | , ودفعهما إلى موسى H | 0.0000\n",
            "MAIN:  LER (label error rate):  0.033400332030791034\n"
          ],
          "name": "stdout"
        }
      ]
    },
    {
      "cell_type": "markdown",
      "metadata": {
        "id": "PF7hxxLw2gZp",
        "colab_type": "text"
      },
      "source": [
        "#Mount Drive"
      ]
    },
    {
      "cell_type": "code",
      "metadata": {
        "id": "seUeDrwE2cb7",
        "colab_type": "code",
        "outputId": "0044f845-cffa-4fcb-bb50-4fcca6d8540f",
        "colab": {
          "base_uri": "https://localhost:8080/",
          "height": 146
        }
      },
      "source": [
        "CELL_NAME=\"MOUNT DRIVE\"\n",
        "print(\"mounting to drive at /gdrive\")\n",
        "from google.colab import drive\n",
        "drive.mount('/gdrive')\n"
      ],
      "execution_count": 7,
      "outputs": [
        {
          "output_type": "stream",
          "text": [
            "mounting to drive at /gdrive\n",
            "Go to this URL in a browser: https://accounts.google.com/o/oauth2/auth?client_id=947318989803-6bn6qk8qdgf4n4g3pfee6491hc0brc4i.apps.googleusercontent.com&redirect_uri=urn%3aietf%3awg%3aoauth%3a2.0%3aoob&response_type=code&scope=email%20https%3a%2f%2fwww.googleapis.com%2fauth%2fdocs.test%20https%3a%2f%2fwww.googleapis.com%2fauth%2fdrive%20https%3a%2f%2fwww.googleapis.com%2fauth%2fdrive.photos.readonly%20https%3a%2f%2fwww.googleapis.com%2fauth%2fpeopleapi.readonly\n",
            "\n",
            "Enter your authorization code:\n",
            "··········\n",
            "Mounted at /gdrive\n"
          ],
          "name": "stdout"
        }
      ]
    },
    {
      "cell_type": "markdown",
      "metadata": {
        "id": "X6lTDTAb9VqY",
        "colab_type": "text"
      },
      "source": [
        "#MODEL PARAMETERS"
      ]
    },
    {
      "cell_type": "code",
      "metadata": {
        "id": "AZ8uN3dj9Uhn",
        "colab_type": "code",
        "colab": {
          "base_uri": "https://localhost:8080/",
          "height": 90
        },
        "outputId": "96c59edf-68e0-4e78-a0de-2cc294464363"
      },
      "source": [
        "CELL_NAME=\"BATCH_SIZE and STATEFUL\"\n",
        "\n",
        "STATEFUL=False\n",
        "BATCH_SIZE = 128\n",
        "TO_SHUFFLE=True\n",
        "\n",
        "embedding_dim = 8\n",
        "rnn_units = 1024\n",
        "\n",
        "\n",
        "print_log_screen(\"set batch size to \"+str(BATCH_SIZE))\n",
        "print_log_screen(\"STATEFUL: \"+str(STATEFUL))\n",
        "print_log_screen(\"embedding_dim: \"+str(embedding_dim))\n",
        "print_log_screen(\"rnn_units: \"+str(rnn_units))"
      ],
      "execution_count": 8,
      "outputs": [
        {
          "output_type": "stream",
          "text": [
            "set batch size to 128\n",
            "STATEFUL: False\n",
            "embedding_dim: 8\n",
            "rnn_units: 1024\n"
          ],
          "name": "stdout"
        }
      ]
    },
    {
      "cell_type": "markdown",
      "metadata": {
        "id": "KMwuVCRK0upw",
        "colab_type": "text"
      },
      "source": [
        "# INIT RANDOM"
      ]
    },
    {
      "cell_type": "code",
      "metadata": {
        "id": "d_gEIvtr0znU",
        "colab_type": "code",
        "colab": {}
      },
      "source": [
        "CELL_NAME=\"RANDOM SEED\"\n",
        "\n",
        "#https://stackoverflow.com/questions/36288235/how-to-get-stable-results-with-tensorflow-setting-random-seed\n",
        "def init_random():\n",
        "  print_log_screen(\"init random to 1\")\n",
        "  np.random.seed(1)\n",
        "  tf.compat.v1.set_random_seed(1)\n"
      ],
      "execution_count": 0,
      "outputs": []
    },
    {
      "cell_type": "code",
      "metadata": {
        "id": "qUbUyZx3i1OB",
        "colab_type": "code",
        "colab": {
          "base_uri": "https://localhost:8080/",
          "height": 35
        },
        "outputId": "d1ba9b84-ae44-455f-f960-2de0392955c8"
      },
      "source": [
        "CELL_NAME=\"RANDOM SEED\"\n",
        "init_random()"
      ],
      "execution_count": 10,
      "outputs": [
        {
          "output_type": "stream",
          "text": [
            "init random to 1\n"
          ],
          "name": "stdout"
        }
      ]
    },
    {
      "cell_type": "markdown",
      "metadata": {
        "id": "Bn9DB__L2M9g",
        "colab_type": "text"
      },
      "source": [
        "#CONSTANTS"
      ]
    },
    {
      "cell_type": "code",
      "metadata": {
        "id": "57tqrGT52Nrz",
        "colab_type": "code",
        "colab": {}
      },
      "source": [
        "arab_nikud=[u\"\\u0652\",u\"\\u0650\", u\"\\u064F\",u\"\\u064E\", ]#sukuun,kasra, Damma,# fatHa\n",
        "tanween=[u\"\\u064B\", # fatHatayn\n",
        "         u\"\\u064C\", # Dammatayn\n",
        "         u\"\\u064D\", ]\n",
        "shada=u\"\\u0651\"\n",
        "\n",
        "hamza_on_line=u\"\\u0621\"\n",
        "\n",
        "LTRchar=u'\\u202B'   #align rtl symbole\n",
        "BLANK=\"_\"\n"
      ],
      "execution_count": 0,
      "outputs": []
    },
    {
      "cell_type": "markdown",
      "metadata": {
        "id": "IBZBFNnRFscK",
        "colab_type": "text"
      },
      "source": [
        "#UTILS"
      ]
    },
    {
      "cell_type": "markdown",
      "metadata": {
        "id": "PXctuG0ZIwCT",
        "colab_type": "text"
      },
      "source": [
        "##show diff"
      ]
    },
    {
      "cell_type": "code",
      "metadata": {
        "id": "bWhnKORfyw8X",
        "colab_type": "code",
        "colab": {}
      },
      "source": [
        "CELL_NAME=\"DEF show diff\"\n",
        "import difflib\n",
        "\n",
        "def show_diff(t1,t2,col):\n",
        "    \"\"\"Unify operations between two compared strings\n",
        "seqm is a difflib.SequenceMatcher instance whose a & b are strings\"\"\"\n",
        "    seqm= difflib.SequenceMatcher(None,t1,t2)   \n",
        "    output1=[]\n",
        "    output2= []\n",
        "    for opcode, a0, a1, b0, b1 in seqm.get_opcodes():\n",
        "        \n",
        "        if opcode == 'equal':            \n",
        "            output1.append(seqm.a[a0:a1])\n",
        "            output2.append(seqm.b[b0:b1])\n",
        "        elif opcode == 'insert':            \n",
        "            output2.append(colored(seqm.b[b0:b1],col,attrs=['bold']))\n",
        "        elif opcode == 'delete':\n",
        "            output1.append(colored(seqm.a[a0:a1],col,attrs=['bold']))\n",
        "        elif opcode == 'replace':            \n",
        "            output1.append(colored(seqm.a[a0:a1],col,attrs=['bold']))\n",
        "            output2.append(colored(seqm.b[b0:b1],col,attrs=['bold']))\n",
        "        else:\n",
        "            raise RuntimeError(\"unexpected opcode\")\n",
        "    return ''.join(output1),''.join(output2)\n",
        "\n",
        "# #USEAGE:\n",
        "# s1=\"لامة النصارى واستحقو\" \n",
        "# s2=\"لأمّة النصارى واستحقوّا\"\n",
        "# a,b=show_diff(s1,s2,'blue')\n",
        "# #print_log(\"\".join(b))\n",
        "# print_log(a,\"|\",b)\n",
        "\n"
      ],
      "execution_count": 0,
      "outputs": []
    },
    {
      "cell_type": "markdown",
      "metadata": {
        "id": "Q2EONT-4FvdF",
        "colab_type": "text"
      },
      "source": [
        "##send mail"
      ]
    },
    {
      "cell_type": "code",
      "metadata": {
        "id": "h6YGN7tvFu2s",
        "colab_type": "code",
        "colab": {}
      },
      "source": [
        "CELL_NAME=\"SEND MAIL\"\n",
        "\n",
        "#NEED TO ALLOW LESS SECURE APPS AT:  \n",
        "#https://myaccount.google.com/lesssecureapps?utm_source=google-account&utm_medium=web\n",
        "\n",
        "#Send Alert Email at finish with GMail\n",
        "##ref: https://webcache.googleusercontent.com/search?q=cache:peuNIUcC5eAJ:https://rohitmidha23.github.io/Colab-Tricks/+&cd=1&hl=en&ct=clnk&gl=il\n",
        "#https://www.google.com/search?safe=strict&rlz=1C1SQJL_iwIL818IL818&sxsrf=ACYBGNQn05BVmX0bKCQOdxEZsOV8sylztA%3A1568909507810&ei=w6iDXeKYMZLSxgO1qYSICg&q=smtplib.smtp+sendmail+attachment&oq=smtplib.smtp+sendmail+att&gs_l=psy-ab.3.0.33i21j33i160.1435.2378..3438...0.2..0.188.632.0j4......0....1..gws-wiz.......0i71j0j0i22i30.7MbuYV36t10\n",
        "####how to define app password see: https://kinsta.com/knowledgebase/free-smtp-server/\n",
        "\n",
        "import smtplib\n",
        "from os import path\n",
        "from os.path import basename\n",
        "from email.mime.application import MIMEApplication\n",
        "from email.mime.multipart import MIMEMultipart\n",
        "from email.mime.text import MIMEText\n",
        "from email.utils import COMMASPACE, formatdate\n",
        "\n",
        "def send_results(subject,description):\n",
        "  THISTHIS=\"qczvfrlypitxxsfc\"\n",
        "\n",
        "  server = smtplib.SMTP('smtp.gmail.com', 587)\n",
        "  #server = smtplib.SMTP('localhost')\n",
        "  server.starttls()\n",
        "  server.login(\"kuti.sulimani@gmail.com\", THISTHIS)\n",
        "\n",
        "  msg = MIMEMultipart()\n",
        "  msg['From'] = \"sender_gmail_here@gmail.com\"\n",
        "  msg['To'] = COMMASPACE.join([\"oriterner@gmail.com\"])\n",
        "  msg['Date'] = formatdate(localtime=True)\n",
        "  msg['Subject'] = subject\n",
        "\n",
        "\n",
        "  msg.attach(MIMEText(description))\n",
        "  files=[log_file,\"/content/train.png\",\"/content/test.png\",\"/content/accuracys.png\",\"/content/my_log.txt\"]  #list of graphs to send or logs....\n",
        "  for f in files or []:\n",
        "      if not path.exists(f):\n",
        "        continue\n",
        "      with open(f, \"rb\") as fil:\n",
        "          part = MIMEApplication(\n",
        "              fil.read(),\n",
        "              Name=basename(f)\n",
        "          )\n",
        "      # After the file is closed\n",
        "      part['Content-Disposition'] = 'attachment; filename=\"%s\"' % basename(f)\n",
        "      msg.attach(part)\n",
        "\n",
        "\n",
        "  server.sendmail(\"sender_gmail_here@gmail.com\", \"oriterner@gmail.com\", msg.as_string())\n",
        "  server.quit()"
      ],
      "execution_count": 0,
      "outputs": []
    },
    {
      "cell_type": "markdown",
      "metadata": {
        "id": "Wzg25sCsGdYP",
        "colab_type": "text"
      },
      "source": [
        "##plot"
      ]
    },
    {
      "cell_type": "code",
      "metadata": {
        "id": "CFDNZ49DGcgi",
        "colab_type": "code",
        "colab": {}
      },
      "source": [
        "CELL_NAME=\"PLOT\"\n",
        "\n",
        "import matplotlib.pyplot as plt\n",
        "losses=[1,2,3]\n",
        "def my_plot_save(data_series,save_name,decor='r--'):\n",
        "  t = range(0, len(data_series))\n",
        "  plt.plot(t, data_series, decor)\n",
        "  plt.savefig(save_name) #\"/content/foo.png\"\n",
        "  plt.show()\n",
        "#my_plot_save(losses,\"train.png\")"
      ],
      "execution_count": 0,
      "outputs": []
    },
    {
      "cell_type": "markdown",
      "metadata": {
        "colab_type": "text",
        "id": "zQtssRgtEvv1"
      },
      "source": [
        "##letter mapping"
      ]
    },
    {
      "cell_type": "code",
      "metadata": {
        "id": "7kMPZNXh4Zoz",
        "colab_type": "code",
        "colab": {}
      },
      "source": [
        "CELL_NAME=\"LETTER MAPPING\"\n",
        "\n",
        "tag=\"'\"\n",
        "\n",
        "additional_letters=\".H,?:;[]()!-\\\" 0123456789\"+tag\n",
        "\n",
        "#\"א\": \"اإآٱأ\", with wasla\n",
        "letter_dict={   #make sure all are here\n",
        "    \"א\": \"اإآٱأ\",\n",
        "    \"ב\":\"ب\" ,\n",
        "    \"ג\":\"غ\",\n",
        "    \"ג\"+tag:\"ج\",\n",
        "    \"ד\":\"د\",\n",
        "    \"ד\"+tag:\"ذ\",\n",
        "    \"ה\":\"ه\",\n",
        "    \"ה\"+tag:\"ة\",\n",
        "    \"ו\":\"وؤ\",\n",
        "    \"ז\":\"ز\",\n",
        "    \"ח\":\"ح\",\n",
        "    \"ט\":\"ط\",\n",
        "    \"ט\"+tag:\"ظ\",\n",
        "    \"י\":\"يىئ\",\n",
        "    \"כ\":\"ك\",\n",
        "    \"כ\"+tag:\"خ\",\n",
        "    \"ל\":\"ل\",\n",
        "    \"מ\":\"م\",\n",
        "    \"נ\":\"ن\",\n",
        "    \"ס\":\"س\",\n",
        "    \"ע\":\"ع\",\n",
        "    \"פ\":\"ف\",\n",
        "    \"צ\":\"ص\",\n",
        "    \"צ\"+tag:\"ض\",\n",
        "    \"ק\":\"ق\",\n",
        "    \"ר\":\"ر\",\n",
        "    \"ש\":\"ش\",\n",
        "    \"ת\":\"ت\",\n",
        "    \"ת\"+tag:\"ث\",\n",
        "}\n",
        "#######################################################\n",
        "for c in additional_letters:\n",
        "  letter_dict[c]=c\n",
        "\n",
        "arab_heb_maping={}\n",
        "heb_arab_maping={}\n",
        "for heb,arr in letter_dict.items():\n",
        "  heb_arab_maping[heb]=arr[0]\n",
        "  for a in arr:\n",
        "    arab_heb_maping[a]=heb\n",
        "\n",
        "\n",
        "print_log(\"arab_heb_maping\",arab_heb_maping)\n",
        "print_log(\"length:\",len(arab_heb_maping))\n",
        "print_log(\"heb_arab_maping\",heb_arab_maping)\n",
        "print_log(\"length:\",len(heb_arab_maping))\n",
        "\n",
        "#################################################################3\n",
        "#FUNCTIONS:\n",
        "\n",
        "def remove_chars_not_in_map(phrase,map):\n",
        "  res=[]\n",
        "  for c in phrase:  \n",
        "    if c in map:\n",
        "      res.append(c)\n",
        "    else:\n",
        "      print_log(LTRchar+\"Skipping char not in predefined map\\n ( \"+c+\" )\\nin sentences:\\n\"+phrase+'\\n')      \n",
        "  return \"\".join(res)\n",
        "\n",
        "def remove_chars_not_in_JA_map(ja):\n",
        "  return remove_chars_not_in_map(ja,heb_arab_maping)\n",
        "\n",
        "extended_arab_chars=list(arab_heb_maping.keys())\n",
        "extended_arab_chars+=tanween\n",
        "extended_arab_chars.append(shada)\n",
        "extended_arab_chars.append(hamza_on_line)\n",
        "\n",
        "def remove_chars_not_in_arab_map(arr):\n",
        "  return remove_chars_not_in_map(arr,extended_arab_chars)\n",
        "\n",
        "\n",
        "def simple_letter_map(heb_str): \n",
        "  res=[]\n",
        "  tag=\"'\"\n",
        "  iterator = iter(range(len(heb_str)))\n",
        "  for i in iterator:\n",
        "    if i+1!=len(heb_str) and heb_str[i+1]==tag:     \n",
        "      if heb_str[i]+tag in heb_arab_maping:\n",
        "        ar_leter=heb_arab_maping[heb_str[i]+tag]\n",
        "        res.append(ar_leter)\n",
        "      else:\n",
        "        ar_leter=heb_arab_maping[heb_str[i]]\n",
        "        res.append(ar_leter)\n",
        "        res.append(tag)\n",
        "      next(iterator, None)\n",
        "    else:      \n",
        "      ar_leter=heb_arab_maping[heb_str[i]]\n",
        "      res.append(ar_leter)\n",
        "  return \"\".join(res)     \n",
        "\n",
        "\n",
        "def reverse_simple_map(arr_str):\n",
        "  ja_str=[]\n",
        "  for c in arr_str:\n",
        "    if c in arab_heb_maping:\n",
        "      ja_str.append(arab_heb_maping[c])\n",
        "    #else:\n",
        "      #print_log(\"reverse_simple_map: char ( \"+c+\" ) not in letter mapping and will be skiped\")\n",
        "      #print_log(arr_str)\n",
        "  return \"\".join(ja_str)"
      ],
      "execution_count": 0,
      "outputs": []
    },
    {
      "cell_type": "markdown",
      "metadata": {
        "id": "kCn2zeq_2sGE",
        "colab_type": "text"
      },
      "source": [
        "#Data"
      ]
    },
    {
      "cell_type": "code",
      "metadata": {
        "id": "OtRTahEBmLU-",
        "colab_type": "code",
        "colab": {}
      },
      "source": [
        "CELL_NAME=\"DATA PATHS\"\n",
        "\n",
        "hakuzari=\"/gdrive/My Drive/thesis-data/for_ctc_train22_FRIDBERG3.txt\"\n",
        "haemunot=\"/gdrive/My Drive/thesis-data/haemunot_vedeot/for_ctc_train22_FRIDBERG5.txt\"\n",
        "kfir_kuzari_test=\"/gdrive/My Drive/thesis-data/kfir1/kfir_kuzari_test_ORIGINAL.txt\"\n",
        "kfir_rasag_test=\"/gdrive/My Drive/thesis-data/kfir1/kfir_rasag_test_ORIGINAL.txt\"\n",
        "kfir_kuzari_test_SWITCH=\"/gdrive/My Drive/thesis-data/kfir1/kfir_kuzari_test_SWITCH_GIM_GHAYN.txt\"\n",
        "kfir_rasag_test_SWITCH=\"/gdrive/My Drive/thesis-data/kfir1/kfir_rasag_test_SWITCH_GIM_GHAYN.txt\"\n",
        "\n"
      ],
      "execution_count": 0,
      "outputs": []
    },
    {
      "cell_type": "markdown",
      "metadata": {
        "id": "qWjUhtjL2-31",
        "colab_type": "text"
      },
      "source": [
        "##preprocess sentences"
      ]
    },
    {
      "cell_type": "code",
      "metadata": {
        "id": "0Nrphwz1_7Wm",
        "colab_type": "code",
        "colab": {}
      },
      "source": [
        "CELL_NAME=\"HELPERS\"\n",
        "\n",
        "##HELPERS\n",
        "\n",
        "\n",
        "# def view_data(data):\n",
        "#   for i,j,l1,l2 in data.take(3):\n",
        "#     print_log_screen(LTRchar,undouble_hebrew(decode_JA(i[0],l1[0])),\" | \",decode_arr(j[0],l2[0]))\n",
        "\n",
        "def view_data(data):\n",
        "  print_log(\"=\"*200)\n",
        "  for i,j,l1,l2 in data.take(1):\n",
        "    for t in range(5):\n",
        "      print_log_screen(LTRchar,undouble_hebrew(decode_JA(i[t],l1[t])),\" | \",decode_arr(j[t],l2[t]))\n",
        "  print_log(\"=\"*200)\n",
        "\n",
        "\n",
        "def clear_blank(s):\n",
        "  return s.replace(BLANK,\"\")\n"
      ],
      "execution_count": 0,
      "outputs": []
    },
    {
      "cell_type": "code",
      "metadata": {
        "id": "sXqPPcio2_go",
        "colab_type": "code",
        "colab": {}
      },
      "source": [
        "CELL_NAME=\"PREPROCESS SENTENCES\"\n",
        "\n",
        "\n",
        "def normalize_unicode(s):\n",
        "    s = s.strip()\n",
        "    return ''.join(c for c in unicodedata.normalize('NFC', s))\n",
        "        #if unicodedata.category(c) != 'Mn')\n",
        "\n",
        "\n",
        "#ARABIC:\n",
        "def remove_arab_nikud(s):\n",
        "  return ''.join(c for c in  s  if c not in arab_nikud)\n",
        "\n",
        "def replace_arab_style_punctuation(s): \n",
        "  return s.replace(\"،\",\",\").replace(\"؛\",\";\").replace(\"؟\",\"?\")\n",
        "\n",
        "def standard_nunization(s):\n",
        "  return s.replace(\"ًا\",\"اً\")\n",
        "\n",
        "#CHECK\n",
        "assert(standard_nunization(\"بيتًا\")==\"بيتاً\")\n",
        "\n",
        "#JUDEO-ARABIC\n",
        "# def preprocess_JA(w):\n",
        "#     w = normalize_unicode(w.strip())\n",
        "#     w = w.replace('ם','מ').replace('ן','נ').replace('ץ','צ').replace('ף','פ').replace('ך','כ')\n",
        "#     w = w.replace('ֿ',\"'\") #sometimes instead of tag there is a horizontal line above letter\n",
        "#     return w\n",
        "\n",
        "\n",
        "def dropout(ja_str,keep):\n",
        "  res=[]\n",
        "  for c in ja_str:\n",
        "    if c==\" \":\n",
        "      res.append(c)\n",
        "    elif (np.random.binomial(1,keep)):\n",
        "      res.append(c)\n",
        "    else:\n",
        "      res.append(BLANK)\n",
        "  return \"\".join(res)\n",
        "\n",
        "\n",
        "def double_hebrew(w):    \n",
        "    res=\"\"\n",
        "    for i in w:\n",
        "      res+=i\n",
        "      if not i==\" \":  ##THIS 2 LINES IS THE CHANGE THAT WAS ADDED AT THE LAST MINUTE \n",
        "        res+=i    \n",
        "    return res\n",
        "\n",
        "\n",
        "def undouble_hebrew(s):\n",
        "  res=\"\"\n",
        "  words=s.split()\n",
        "  for w in words:\n",
        "    for i in range(0,len(w),2):\n",
        "      res+=w[i]\n",
        "    res+=' '\n",
        "  return res.strip()\n",
        "\n",
        "\n"
      ],
      "execution_count": 0,
      "outputs": []
    },
    {
      "cell_type": "markdown",
      "metadata": {
        "id": "9ftz4BjtfDnq",
        "colab_type": "text"
      },
      "source": [
        "##languageIndex"
      ]
    },
    {
      "cell_type": "code",
      "metadata": {
        "id": "sMmOvLIryMPk",
        "colab_type": "code",
        "colab": {}
      },
      "source": [
        "CELL_NAME=\"LANGUAGE INDEX\"\n",
        "\n",
        "# This class creates a char -> index mapping (e.g,. \"d\" -> 5) and vice-versa \n",
        "# (e.g., 5 -> \"d\") for each language,\n",
        "\n",
        "#this class takes a corpus of lines (lang) and extract the vocab\n",
        "# (letters and signs), stores the corpus and the vocab (with revers map)\n",
        "# it also addes the BLANK symbol to the vocab. (makes sure that BLANK is not in the corpus)\n",
        "BLANK=\"_\"\n",
        "class LanguageIndex():\n",
        "  def __init__(self, allowed_letters):\n",
        "    self.allowed_letters = allowed_letters\n",
        "    self.char2idx = {}\n",
        "    self.idx2char = {}\n",
        "    self.vocab = set()\n",
        "    \n",
        "    self.create_index()\n",
        "    \n",
        "  def create_index(self):\n",
        "    for c in self.allowed_letters:\n",
        "      #for c in phrase:     #for the meantime don't habdle the diatrics in- hebrew (the tag) and hope the ctc will handle...wishfully\n",
        "        self.vocab.update(c)\n",
        "      #for c in additional_letters:\n",
        "      #  self.vocab.update(c)\n",
        "    self.vocab = sorted(self.vocab)\n",
        "    print_log(\"vocab: \",self.vocab)   # maps id (i.e. map index) to char\n",
        "    \n",
        "    \n",
        "    for index, char in enumerate(self.vocab): #reverse map: char to id\n",
        "      self.char2idx[char] = index\n",
        "    print_log(\"len(self.vocab)\",len(self.vocab))\n",
        "    assert(BLANK not in self.char2idx)\n",
        "    self.char2idx[BLANK] = len(self.vocab)   #add BLANK to reverse map\n",
        "    print_log(\"len(self.char2idx)\",len(self.char2idx)) #should print successor of privous print\n",
        "    print_log(self.char2idx[BLANK],BLANK)\n",
        "    \n",
        "    \n",
        "    for char, index in self.char2idx.items():  #this is a map equal to the array vocab, but with BLANK\n",
        "      self.idx2char[index] = char"
      ],
      "execution_count": 0,
      "outputs": []
    },
    {
      "cell_type": "code",
      "metadata": {
        "id": "x8Ch9lK2o-Jp",
        "colab_type": "code",
        "colab": {}
      },
      "source": [
        "CELL_NAME=\"LANGUAGE INDEX\"\n",
        "\n",
        "inp_lang = LanguageIndex(\"\".join(heb_arab_maping.keys()))\n",
        "targ_lang = LanguageIndex(\"\".join(extended_arab_chars))\n",
        "\n",
        "\n",
        "def print_by_idx_CTC(idx,dict,leng=-1):\n",
        "     # print_log(len(idx))\n",
        "      if leng==-1:\n",
        "       # print_log(len(idx))\n",
        "        leng=len(idx)\n",
        "        \n",
        "      result=\"\"\n",
        "      for i in idx[:leng]:\n",
        "        result += dict[i.numpy()]\n",
        "      return result\n",
        "\n",
        "def decode_JA(idx,leng=-1):\n",
        "  return print_by_idx_CTC(idx,inp_lang.idx2char,leng)\n",
        "\n",
        "def decode_arr(idx,leng=-1):\n",
        "  return print_by_idx_CTC(idx,targ_lang.idx2char,leng)\n",
        "\n",
        "\n",
        "def vectorize(s,dict):  \n",
        "  #return [dict[c] for c in s]\n",
        "  res=[]\n",
        "  for c in s:\n",
        "    if c not in dict:\n",
        "      print_log_screen(\"VECTORIZE: char not in dict - need to call preprocess_lines before calling produce_dataset \")      \n",
        "    else:\n",
        "      res.append(dict[c])  \n",
        "  return res\n",
        "\n",
        "def encode_JA(ja):\n",
        "  return vectorize(ja,inp_lang.char2idx)\n",
        "\n",
        "def encode_arr(arr):\n",
        "  return vectorize(arr,targ_lang.char2idx)\n",
        "\n"
      ],
      "execution_count": 0,
      "outputs": []
    },
    {
      "cell_type": "markdown",
      "metadata": {
        "id": "3E7wKGxCzxuE",
        "colab_type": "text"
      },
      "source": [
        "##FUCNTION FOR GEN DATA"
      ]
    },
    {
      "cell_type": "markdown",
      "metadata": {
        "id": "0Xjn9m6nyHv7",
        "colab_type": "text"
      },
      "source": [
        "###SPLIT TEST TRAIN"
      ]
    },
    {
      "cell_type": "code",
      "metadata": {
        "id": "e62bZRaH7L8z",
        "colab_type": "code",
        "colab": {}
      },
      "source": [
        "CELL_NAME=\"TEST TRAIN SPLIT\"\n",
        "\n",
        "def split_test_train(input_file,output_train,output_test,test_percent=0.2):\n",
        "  with open(input_file, 'rb') as f:\n",
        "      text = f.read().decode(encoding='utf-8')  \n",
        "  text=text.replace(\"&nbsp\",\"\")\n",
        "  lines=text.strip().split('\\n')\n",
        "  num_of_lines=len(lines)\n",
        "  test_size=math.floor(num_of_lines*test_percent)\n",
        "  idx=[0]*test_size + [1]*(num_of_lines-test_size)\n",
        "  random.shuffle(idx)\n",
        "  print(idx)\n",
        "  \n",
        "  f_train=open(output_train,'w+')\n",
        "  f_test=open(output_test,'w+')\n",
        "  \n",
        "  train = []\n",
        "  test = []\n",
        "  for a,i in zip(lines,idx):\n",
        "    if i:\n",
        "      train.append(a)\n",
        "      f_train.write(a+'\\n')\n",
        "    else:\n",
        "      test.append(a)\n",
        "      f_test.write(a+'\\n')\n",
        "  \n",
        "  f_train.close()\n",
        "  f_test.close()\n",
        "\n",
        "  print(len(train),train[0:10])\n",
        "  print(len(test),test[0:10])\n",
        "\n",
        "#split_test_train(hakuzari,hakuzari+\".train.txt\",hakuzari+\".test.txt\")"
      ],
      "execution_count": 0,
      "outputs": []
    },
    {
      "cell_type": "code",
      "metadata": {
        "id": "58vNbHqdTly_",
        "colab_type": "code",
        "colab": {}
      },
      "source": [
        "#SHOLD ONLY BE CALLED TO RESPLIT TEST AND TRAIN\n",
        "#split_test_train(hakuzari,hakuzari+\".train.txt\",hakuzari+\".test.txt\")\n",
        "#split_test_train(haemunot,haemunot+\".train.txt\",haemunot+\".test.txt\")"
      ],
      "execution_count": 0,
      "outputs": []
    },
    {
      "cell_type": "markdown",
      "metadata": {
        "id": "zW_YqhOHyNUs",
        "colab_type": "text"
      },
      "source": [
        "###load_lines"
      ]
    },
    {
      "cell_type": "code",
      "metadata": {
        "id": "vwEx-7TJ2uD4",
        "colab_type": "code",
        "colab": {}
      },
      "source": [
        "CELL_NAME=\"LOAD_LINES\"\n",
        "\n",
        "def load_lines(input_file=hakuzari):\n",
        "  print_log_screen(\"loading text: \"+input_file)\n",
        "  with open(input_file, 'rb') as f:\n",
        "    text = f.read().decode(encoding='utf-8')\n",
        "    #text=text.replace('ֿ',\"'\")   ##allread doing it inside preprocess_JA()\n",
        "    text=text.replace(\"&nbsp\",\"\")\n",
        "  lines=text.strip().split('\\n')\n",
        "  print_log(\"first lines:\",lines[0:100])\n",
        "  print_log_screen(\"len(lines)\", len(lines)) # 10923 kuzari 10358 haemunot\n",
        "  return lines\n",
        "\n",
        "#lines=load_lines(haemunot)\n"
      ],
      "execution_count": 0,
      "outputs": []
    },
    {
      "cell_type": "markdown",
      "metadata": {
        "id": "WyI8c-qU-DEe",
        "colab_type": "text"
      },
      "source": [
        "###preprocess_lines"
      ]
    },
    {
      "cell_type": "code",
      "metadata": {
        "id": "ro14w9OP-Dt_",
        "colab_type": "code",
        "colab": {}
      },
      "source": [
        "def preprocess_JA(ja):\n",
        "    ja=replace_arab_style_punctuation(ja)\n",
        "    ja=clear_blank(ja) #acctually should be taken care of by remove_chars_not_in_map ...\n",
        "    ja = normalize_unicode(ja.strip())\n",
        "    ja = ja.replace('ם','מ').replace('ן','נ').replace('ץ','צ').replace('ף','פ').replace('ך','כ')\n",
        "    ja = ja.replace('ֿ',\"'\") #sometimes instead of tag there is a horizontal line above letter\n",
        "    ja=remove_chars_not_in_JA_map(ja)\n",
        "    return ja\n",
        "\n",
        "def preprocess_arr(arr):\n",
        "    arr=remove_arab_nikud(arr)\n",
        "    arr=standard_nunization(arr)\n",
        "    arr=replace_arab_style_punctuation(arr)\n",
        "    arr=clear_blank(arr) #acctually should be taken care of by remove_chars_not_in_map ...\n",
        "    arr=normalize_unicode(arr)     \n",
        "    arr=remove_chars_not_in_arab_map(arr)\n",
        "    return arr\n",
        "\n",
        "def preprocess_lines(ja_arr_lines):\n",
        "  res=[]\n",
        "  for l in ja_arr_lines:\n",
        "    ja,arr=l.split('\\t')\n",
        "\n",
        "    ja=preprocess_JA(ja)\n",
        "      \n",
        "    arr=preprocess_arr(arr)\n",
        "    \n",
        "    res.append(ja+'\\t'+arr)\n",
        "  return res\n",
        "    \n"
      ],
      "execution_count": 0,
      "outputs": []
    },
    {
      "cell_type": "markdown",
      "metadata": {
        "id": "2jWF3taWySyb",
        "colab_type": "text"
      },
      "source": [
        "###create_parralele_phrases"
      ]
    },
    {
      "cell_type": "code",
      "metadata": {
        "id": "PvF0XWGTzZ7s",
        "colab_type": "code",
        "colab": {}
      },
      "source": [
        "# Takes a file of <heb, arab> phrases separated by tab\n",
        "# Return phares pairs in the format: [ENGLISH, SPANISH]\n",
        "def create_parralel_phrases(lines,keep=1):\n",
        "    phrase_pairs=[]\n",
        "    for l in lines:\n",
        "      heb,arr=l.split('\\t')\n",
        "      \n",
        "      # heb=clear_blank(replace_arab_style_punctuation(heb)) #TODO needed?\n",
        "      # heb=preprocess_JA(heb)\n",
        "      heb=dropout(heb,keep)\n",
        "      heb=double_hebrew(heb)      \n",
        "\n",
        "      # arr=remove_arab_nikud(arr)\n",
        "      # arr=standard_nunization(arr)\n",
        "      # arr=clear_blank(replace_arab_style_punctuation(arr))\n",
        "      # arr=normalize_unicode(arr) \n",
        "      \n",
        "      phrase_pairs.append([heb,arr])        \n",
        "    return phrase_pairs\n"
      ],
      "execution_count": 0,
      "outputs": []
    },
    {
      "cell_type": "markdown",
      "metadata": {
        "id": "94LaMY0igcWT",
        "colab_type": "text"
      },
      "source": [
        "###produce_dataset"
      ]
    },
    {
      "cell_type": "code",
      "metadata": {
        "id": "ZuiTkrWRLYG1",
        "colab_type": "code",
        "colab": {}
      },
      "source": [
        "CELL_NAME=\"produce_dataset\"\n",
        "\n",
        "def max_length(tensor):\n",
        "    return max(len(t) for t in tensor)\n",
        "\n",
        "\n",
        "def produce_dataset(parallel_phrase,to_shuffle=False):\n",
        "  \n",
        "    input_tensor = [encode_JA(heb) for heb, arr in parallel_phrase]\n",
        "    input_lengths=[len(heb) for heb,arr in parallel_phrase]\n",
        "  \n",
        "    target_tensor = [encode_arr(arr) for heb, arr in parallel_phrase]\n",
        "    target_lengths = [len(arr)  for heb,arr in parallel_phrase]\n",
        "  \n",
        "\n",
        "    print_log(\"VECTORIZE EXAMPLE\")\n",
        "    print_log(LTRchar,parallel_phrase[0])\n",
        "    print_log(input_lengths[0])\n",
        "    print_log(target_lengths[0])\n",
        "    print_log(input_tensor[0])\n",
        "    print_log(target_tensor[0])\n",
        "    print_log(\"\\n\")\n",
        "\n",
        "    # Padding the input and output tensor to the maximum length\n",
        "    max=max_length(input_tensor)\n",
        "    if max>70:\n",
        "      max=70\n",
        "    input_tensor = tf.keras.preprocessing.sequence.pad_sequences(input_tensor, \n",
        "                                                                 maxlen=max,\n",
        "                                                                 padding='post',\n",
        "                                                                 value=inp_lang.char2idx[BLANK])\n",
        "    max=max_length(target_tensor)\n",
        "    if max>70:\n",
        "      max=70    \n",
        "    target_tensor = tf.keras.preprocessing.sequence.pad_sequences(target_tensor, \n",
        "                                                                  maxlen=max,\n",
        "                                                                  padding='post',\n",
        "                                                                  value=targ_lang.char2idx[BLANK])\n",
        "    print_log(len(input_tensor), \n",
        "        len(target_tensor))      \n",
        "    BUFFER_SIZE = len(input_tensor)\n",
        "    \n",
        "    dataset = tf.data.Dataset.from_tensor_slices((input_tensor, \n",
        "                                                  target_tensor,\n",
        "                                                  input_lengths,\n",
        "                                                  target_lengths))\n",
        "    if to_shuffle:\n",
        "      dataset=dataset.shuffle(BUFFER_SIZE,reshuffle_each_iteration=True)\n",
        "\n",
        "                                                  \n",
        "    dataset_double=dataset.batch(BATCH_SIZE, drop_remainder=True)\n",
        "    return dataset_double\n",
        "    \n",
        "    return dataset_double\n"
      ],
      "execution_count": 0,
      "outputs": []
    },
    {
      "cell_type": "code",
      "metadata": {
        "id": "2kFSbZTPfe0m",
        "colab_type": "code",
        "colab": {}
      },
      "source": [
        "# CELL_NAME=\"DEF create_data_tensors\"\n",
        "\n",
        "# def max_length(tensor):\n",
        "#     return max(len(t) for t in tensor)\n",
        "\n",
        "\n",
        "# def create_data_tensors(pairs):\n",
        "  \n",
        "#     input_tensor = [encode_JA(heb) for heb, arr in pairs]\n",
        "#     input_lenghts=[len(heb) for heb,arr in pairs]\n",
        "  \n",
        "#     target_tensor = [encode_arr(arr) for heb, arr in pairs]\n",
        "#     target_lengths = [len(arr)  for heb,arr in pairs]\n",
        "  \n",
        "\n",
        "#     print_log()\n",
        "#     print_log(LTRchar,pairs[0])\n",
        "#     print_log(input_lenghts[0])\n",
        "#     print_log(target_lengths[0])\n",
        "#     print_log(input_tensor[0])\n",
        "#     print_log(target_tensor[0])\n",
        "\n",
        "#     # Padding the input and output tensor to the maximum length\n",
        "#     max=max_length(input_tensor)\n",
        "#     if max>70:\n",
        "#       max=70\n",
        "#     input_tensor = tf.keras.preprocessing.sequence.pad_sequences(input_tensor, \n",
        "#                                                                  maxlen=max,\n",
        "#                                                                  padding='post',\n",
        "#                                                                   value=inp_lang.char2idx[BLANK])\n",
        "#     max=max_length(target_tensor)\n",
        "#     if max>70:\n",
        "#       max=70    \n",
        "#     target_tensor = tf.keras.preprocessing.sequence.pad_sequences(target_tensor, \n",
        "#                                                                   maxlen=max,\n",
        "#                                                                   padding='post',\n",
        "#                                                                   value=targ_lang.char2idx[BLANK])\n",
        "#     return input_tensor, target_tensor ,input_lenghts,target_lengths"
      ],
      "execution_count": 0,
      "outputs": []
    },
    {
      "cell_type": "markdown",
      "metadata": {
        "id": "SQkyeHLzi_sN",
        "colab_type": "text"
      },
      "source": [
        "generate the data tensor"
      ]
    },
    {
      "cell_type": "code",
      "metadata": {
        "id": "23ovSfOPxoy-",
        "colab_type": "code",
        "colab": {}
      },
      "source": [
        "# CELL_NAME=\"DEF GEN DATA\"\n",
        "\n",
        "# def gen_data(input_tensor, target_tensor,input_lenghts,target_lengths,_test_size=0.2):  \n",
        "#   input_tensor_train, input_tensor_val, \\\n",
        "#   target_tensor_train, target_tensor_val, \\\n",
        "#   input_lengths_train, input_lengths_val, \\\n",
        "#   target_lengths_train, target_lengths_val = train_test_split(input_tensor,\n",
        "#                                                               target_tensor,\n",
        "#                                                               input_lenghts,\n",
        "#                                                               target_lengths, test_size=_test_size)\n",
        "  \n",
        "#   print_log(len(input_tensor_train), \n",
        "#         len(target_tensor_train), \n",
        "#         len(input_tensor_val), \n",
        "#         len(target_tensor_val))\n",
        "  \n",
        "#   BUFFER_SIZE = len(input_tensor_train)\n",
        "  \n",
        "#   dataset = tf.data.Dataset.from_tensor_slices((input_tensor_train, \n",
        "#                                                 target_tensor_train,\n",
        "#                                                 input_lengths_train,\n",
        "#                                                 target_lengths_train)).shuffle(BUFFER_SIZE,reshuffle_each_iteration=True)\n",
        "\n",
        "\n",
        "#   test_dataset = tf.data.Dataset.from_tensor_slices((input_tensor_val, \n",
        "#                                                     target_tensor_val,\n",
        "#                                                     input_lengths_val,\n",
        "#                                                     target_lengths_val)).shuffle(BUFFER_SIZE,reshuffle_each_iteration=False)                                                  \n",
        "  \n",
        "#   dataset_double=dataset.batch(BATCH_SIZE, drop_remainder=True)\n",
        "\n",
        "#   test_dataset_double=test_dataset.batch(BATCH_SIZE, drop_remainder=True)\n",
        "\n",
        "#   return dataset_double,test_dataset_double\n",
        "\n"
      ],
      "execution_count": 0,
      "outputs": []
    },
    {
      "cell_type": "markdown",
      "metadata": {
        "id": "LI0elYUMb8Ls",
        "colab_type": "text"
      },
      "source": [
        "##activate gen data"
      ]
    },
    {
      "cell_type": "code",
      "metadata": {
        "id": "1izFnzJAMynm",
        "colab_type": "code",
        "colab": {
          "base_uri": "https://localhost:8080/",
          "height": 454
        },
        "outputId": "f1c00ddf-ad55-4a09-9d88-ef7e7d3dd6fb"
      },
      "source": [
        "CELL_NAME=\"LOAD DATASET NEW\"\n",
        "\n",
        "#only once per file\n",
        "kuzari_lines_train=preprocess_lines(\n",
        "    load_lines(hakuzari+\".train.txt\")\n",
        ")\n",
        "\n",
        "#to recalc dropout:\n",
        "train_dataset_double_kuzari= produce_dataset(create_parralel_phrases(kuzari_lines_train,1),to_shuffle=TO_SHUFFLE)\n",
        "\n",
        "print_log_screen(\"train_dataset_double_kuzari\")\n",
        "view_data(train_dataset_double_kuzari)\n",
        "\n",
        "\n",
        "#only once per file\n",
        "kuzari_lines_test=preprocess_lines(\n",
        "    load_lines(hakuzari+\".test.txt\")\n",
        ")\n",
        "\n",
        "#to recalc dropout:\n",
        "test_dataset_double_kuzari= produce_dataset(create_parralel_phrases(kuzari_lines_test,1)\n",
        "                                      ,to_shuffle=False)\n",
        "\n",
        "print_log_screen(\"test_dataset_double_kuzari\")\n",
        "view_data(test_dataset_double_kuzari)\n",
        "\n",
        "\n",
        "#only once per file\n",
        "rasag_lines_test=preprocess_lines(\n",
        "    load_lines(haemunot+\".test.txt\")\n",
        ")\n",
        "\n",
        "#to recalc dropout:\n",
        "test_dataset_double_rasag= produce_dataset(create_parralel_phrases(rasag_lines_test,1)\n",
        "                                      ,to_shuffle=False)\n",
        "\n",
        "print_log_screen(\"test_dataset_double_rasag\")\n",
        "view_data(test_dataset_double_rasag)\n",
        "\n",
        " "
      ],
      "execution_count": 28,
      "outputs": [
        {
          "output_type": "stream",
          "text": [
            "loading text: /gdrive/My Drive/thesis-data/for_ctc_train22_FRIDBERG3.txt.train.txt\n",
            "len(lines) 8739\n",
            "train_dataset_double_kuzari\n",
            "‫ אעט'מ מנ אעתקאדהמ אלחד'ת  |  أعظم من اعتقادهم الحدث\n",
            "‫ אלי הד'ה אלדרג'ה אלרוחאניה  |  إلى هذه الدرجة الروحانية\n",
            "‫ אלאלאהי אלד'י ראמ קרבה  |  الإلهيّ الذي رام قربه\n",
            "‫ . ולא אלתקלל מנ אלמאל  |  . ولا التقلّل من المال\n",
            "‫ , ותלתד' ברויה' אלנור  |  , وتلتذّ برؤية النور\n",
            "loading text: /gdrive/My Drive/thesis-data/for_ctc_train22_FRIDBERG3.txt.test.txt\n",
            "len(lines) 2184\n",
            "test_dataset_double_kuzari\n",
            "‫ ואהל אלאדיאנ ת'מ עלי  |  وأهل الأديان ثمّ على\n",
            "‫ , אלד'י כאנ ענד מלכ אלכ'זר  |  , الذي كان عند ملك الخزر\n",
            "‫ אלדאכ'ל פי דינ אליהוד  |  الداخل في دين اليهود\n",
            "‫ כתאב אלתואריכ' , אנה  |  كتاب التواريخ , أنه\n",
            "‫ תכרר עליה רויא , כאנ  |  تكرّر عليه رؤيا , كأنّ\n",
            "loading text: /gdrive/My Drive/thesis-data/haemunot_vedeot/for_ctc_train22_FRIDBERG5.txt.test.txt\n",
            "len(lines) 2071\n",
            "test_dataset_double_rasag\n",
            "‫ באנ קאל תבארכ אללה אלאה  |  بأن قال تبارك الله إله\n",
            "‫ אמא עלי את'ר מא אפתתחנא  |  أمّا على إثر ما افتتحنا\n",
            "‫ פי מטאלבהמ וענ וג'ה זואלהא  |  في مطالبهم وعن وجه زوالها\n",
            "‫ H H H . וארי אנ אג'על  |  H H H . وأرى أن أجعل\n",
            "‫ אלשבה באי סבב כאנ מנ  |  الشبه بأي سبب كان من\n"
          ],
          "name": "stdout"
        }
      ]
    },
    {
      "cell_type": "code",
      "metadata": {
        "id": "Ofru0hLdgwVc",
        "colab_type": "code",
        "colab": {}
      },
      "source": [
        "# CELL_NAME=\"LOAD DATASET\"\n",
        "\n",
        "\n",
        "# lines=load_lines(hakuzari)\n",
        "# pairs = create_parralel_phrases(lines,1)  \n",
        "# input_tensor, target_tensor ,input_lenghts,target_lengths = create_data_tensors(pairs)\n",
        "# dataset_double_kuzari,test_dataset_double_kuzari=gen_data(input_tensor, target_tensor,input_lenghts,target_lengths)\n",
        "# print_log_screen(\"test_dataset_double_kuzari\")\n",
        "# view_data(test_dataset_double_kuzari)\n",
        "\n",
        "# lines1=load_lines(haemunot)\n",
        "# pairs1 = create_parralel_phrases(lines1,1)  \n",
        "# input_tensor1, target_tensor1 ,input_lenghts1,target_lengths1 = create_data_tensors(pairs1)\n",
        "# dataset_double_rasag,test_dataset_double_rasag=gen_data(input_tensor1, target_tensor1,input_lenghts1,target_lengths1)\n",
        "# print_log_screen(\"test_dataset_double_rasag\")\n",
        "# view_data(test_dataset_double_rasag)\n",
        "\n",
        "\n",
        "# # def gen kuzari_drop(lines,keep):\n",
        "# #   pairs = create_parralel_phrases(lines,0.90)  \n",
        "# #   input_tensor, target_tensor ,input_lenghts,target_lengths = create_data_tensors(pairs)\n",
        "# #   dataset_double_kuzari,test_dataset_double_kuzari=gen_data(input_tensor, target_tensor,input_lenghts,target_lengths)\n",
        "  "
      ],
      "execution_count": 0,
      "outputs": []
    },
    {
      "cell_type": "markdown",
      "metadata": {
        "id": "1m_4H-rpFyk8",
        "colab_type": "text"
      },
      "source": [
        "##SYNTHETIC DATA"
      ]
    },
    {
      "cell_type": "markdown",
      "metadata": {
        "id": "GpKhndwM10b0",
        "colab_type": "text"
      },
      "source": [
        "###load_lines_synth"
      ]
    },
    {
      "cell_type": "code",
      "metadata": {
        "id": "uOU-bSFtpEgu",
        "colab_type": "code",
        "colab": {}
      },
      "source": [
        "CELL_NAME=\"load_lines_synth\"\n",
        "\n",
        "#TODO edit when time permits\n",
        "\n",
        "def load_lines_synth(file_path=\"/gdrive/My Drive/JUDEO-ARAB/ibn_sina_ilhyat.txt\"):\n",
        "  with open(file_path, 'rb') as f:\n",
        "      text = f.read().decode(encoding='utf-8')\n",
        "\n",
        "\n",
        "  text=replace_arab_style_punctuation(text) #TODO WHAT ABOUT OTHER ARAB NORMALIZATION???\n",
        "  #TODO somthing with new line - this indicates new content!!!\n",
        "\n",
        "  #add space before and after punctuation signs\n",
        "  text = re.sub(r\"([:;?.!,¿])\", r\" \\1 \", text)\n",
        "  text = re.sub(r'[\" \"]+', \" \", text)    \n",
        "\n",
        "  words=text.split()  \n",
        "  SENTENCE_LIMIT=20\n",
        "  sentences=[]\n",
        "  char_count=0\n",
        "  res=[]\n",
        "  for w in words:\n",
        "  #  w=w.rstrip(\" \").strip(\" \")\n",
        "    char_count+=len(w)+1 #len of word + space afterwards\n",
        "    res.append(w)\n",
        "    if char_count>SENTENCE_LIMIT:    \n",
        "      #sentences.append(normalize_unicode(remove_arab_nikud(\" \".join(res))))\n",
        "      sentences.append(\" \".join(res))\n",
        "      res=[]\n",
        "      char_count=0\n",
        "  return sentences\n",
        "\n",
        "# res=load_lines_synth()\n",
        "# print(len(res))\n",
        "#res[-5:]\n"
      ],
      "execution_count": 0,
      "outputs": []
    },
    {
      "cell_type": "markdown",
      "metadata": {
        "id": "b9CAcJjeyB_E",
        "colab_type": "text"
      },
      "source": [
        "###preprocess_synth_lines"
      ]
    },
    {
      "cell_type": "code",
      "metadata": {
        "id": "HdHcLRT0uhA4",
        "colab_type": "code",
        "colab": {}
      },
      "source": [
        "def preprocess_synth_lines(arab_sentences):\n",
        "  res_sentences=[]\n",
        "  for arr in arab_sentences:    \n",
        "    arr=preprocess_arr(arr)\n",
        "    res_sentences.append(arr)\n",
        "  return res_sentences"
      ],
      "execution_count": 0,
      "outputs": []
    },
    {
      "cell_type": "code",
      "metadata": {
        "id": "0mOenDCDtDfR",
        "colab_type": "code",
        "colab": {}
      },
      "source": [
        "# CELL_NAME=\"GEN SYNTH\"\n",
        "\n",
        "# #TODO edit when time permits\n",
        "\n",
        "# def load_lines_synth(ibnsina=\"/gdrive/My Drive/JUDEO-ARAB/ibn_sina_ilhyat.txt\"):\n",
        "#   with open(ibnsina, 'rb') as f:\n",
        "#       ibnsina_text = f.read().decode(encoding='utf-8')\n",
        "\n",
        "\n",
        "#   ibnsina_text=replace_arab_style_punctuation(ibnsina_text) #TODO WHAT ABOUT OTHER ARAB NORMALIZATION???\n",
        "#   #TODO somthing with new line - this indicates new content!!!\n",
        "\n",
        "#   #add space before and after punctuation signs\n",
        "#   ibnsina_text = re.sub(r\"([:;?.!,¿])\", r\" \\1 \", ibnsina_text)\n",
        "#   ibnsina_text = re.sub(r'[\" \"]+', \" \", ibnsina_text)    \n",
        "  \n",
        "#   return ibnsina_text\n",
        "\n",
        "\n"
      ],
      "execution_count": 0,
      "outputs": []
    },
    {
      "cell_type": "code",
      "metadata": {
        "id": "k3kHwSPQLfIX",
        "colab_type": "code",
        "colab": {}
      },
      "source": [
        "# CELL_NAME=\"DEF gen_synth_sentences\"\n",
        "\n",
        "# def gen_synth_sentences(sina_words):\n",
        "#   #SENTENCE_LIMIT=random.randint(1,50) #this didn't work. try random with range1,10\n",
        "#   SENTENCE_LIMIT=20\n",
        "#   sentences=[]\n",
        "#   char_count=0\n",
        "#   res=[]\n",
        "#   for w in sina_words:\n",
        "#   #  w=w.rstrip(\" \").strip(\" \")\n",
        "#     char_count+=len(w)+1 #len of word + space afterwards\n",
        "#     res.append(w)\n",
        "#     if char_count>SENTENCE_LIMIT:    \n",
        "#       sentences.append(normalize_unicode(remove_arab_nikud(\" \".join(res))))\n",
        "#       res=[]\n",
        "#       char_count=0\n",
        "#     #  SENTENCE_LIMIT=random.randint(1,50)          \n",
        "#   return sentences\n",
        "\n",
        "# # #ACTIVATE\n",
        "# # sentences=gen_synth_sentences(sina_words)\n",
        "# # len(sentences)\n",
        "# # sentences[:5]\n"
      ],
      "execution_count": 0,
      "outputs": []
    },
    {
      "cell_type": "markdown",
      "metadata": {
        "id": "v7AqGe0R1_a_",
        "colab_type": "text"
      },
      "source": [
        "###create_parralel_phrases_synth"
      ]
    },
    {
      "cell_type": "code",
      "metadata": {
        "id": "EMt2VQPrMtIA",
        "colab_type": "code",
        "colab": {}
      },
      "source": [
        "CELL_NAME=\"DEF gen_dropout\"\n",
        "\n",
        "def create_parralel_phrases_synth(sentences,keep=0.90):\n",
        "  arab_setences=[]\n",
        "  heb_sentences=[]\n",
        "  for arr in sentences:\n",
        "    arab_setences.append(arr)           \n",
        "    heb=reverse_simple_map(arr)\n",
        "    heb=dropout(heb,keep)\n",
        "    heb_sentences.append(double_hebrew(heb))\n",
        "\n",
        "  print_log(heb_sentences[:5]) \n",
        "  print_log(arab_setences[:5])\n",
        "\n",
        "  print_log(len(arab_setences))\n",
        "  \n",
        "  return list(zip(heb_sentences,arab_setences))\n",
        "\n",
        "  #input_tensor_synth, target_tensor_synth, \\  \n",
        "  # input_lenghts_synth,target_lengths_synth = create_data_tensors(list(zip(heb_sentences,arab_setences)))\n",
        "  \n",
        "  # # Show length\n",
        "  # print_log(len(input_tensor_synth), len(target_tensor_synth))\n",
        "  # print_log(len(input_lenghts_synth), len(target_lengths_synth))\n",
        "\n",
        "  # BUFFER_SIZE = len(input_tensor_synth)\n",
        "\n",
        "  # dataset_synth = tf.data.Dataset.from_tensor_slices((input_tensor_synth,\n",
        "  #                                                     target_tensor_synth,\n",
        "  #                                                     input_lenghts_synth,\n",
        "  #                                                     target_lengths_synth)).shuffle(BUFFER_SIZE)\n",
        "\n",
        "\n",
        "  # dataset_double_synt=dataset_synth.batch(BATCH_SIZE, drop_remainder=True)\n",
        "  # return dataset_double_synt\n",
        "\n"
      ],
      "execution_count": 0,
      "outputs": []
    },
    {
      "cell_type": "code",
      "metadata": {
        "id": "uUcBdNP-Ms-J",
        "colab_type": "code",
        "colab": {}
      },
      "source": [
        "# CELL_NAME=\"DEF gen_dropout_all\"\n",
        "\n",
        "# def gen_dropout_all(sntcs1,*sentences,keep=1):\n",
        "#   result_dataset=gen_dropout(sntcs1,keep)\n",
        "#   for sntcs in sentences:\n",
        "#     result_dataset.concatenate(gen_dropout(sntcs,keep))\n",
        "#   return result_dataset.shuffle(1000)\n",
        "\n",
        "# #   BUFFER_SIZE=1000 #TODO get size\n",
        "# #   return dataset_double_synt3.concatenate(dataset_double_kuzari).shuffle(BUFFER_SIZE)  ##TODO: this is without dropout. \n",
        "# # #view_data(gen_dropout_all())"
      ],
      "execution_count": 0,
      "outputs": []
    },
    {
      "cell_type": "markdown",
      "metadata": {
        "id": "auU5EkGq5fW9",
        "colab_type": "text"
      },
      "source": [
        "##activate gen synth"
      ]
    },
    {
      "cell_type": "code",
      "metadata": {
        "id": "1WTc9QYMawy_",
        "colab_type": "code",
        "colab": {
          "base_uri": "https://localhost:8080/",
          "height": 381
        },
        "outputId": "5c3ec9e9-54b4-4a0e-abb1-1a214879710c"
      },
      "source": [
        "synth_path0=\"/gdrive/My Drive/JUDEO-ARAB/ibn_sina_ilhyat.txt\"\n",
        "synth_sentences0=preprocess_synth_lines(\n",
        "    load_lines_synth(synth_path0)\n",
        ")\n",
        "\n",
        "\n",
        "synth_phrase_pairs0=create_parralel_phrases_synth(synth_sentences0,\n",
        "                                                  0.9)\n",
        "synth_dataset0=produce_dataset(synth_phrase_pairs0,\n",
        "                               to_shuffle=TO_SHUFFLE)\n",
        "view_data(synth_dataset0)\n",
        "\n",
        "#####################3\n",
        "synth_path1=\"/gdrive/My Drive/JUDEO-ARAB/daruri-IR.txt\"\n",
        "synth_sentences1=preprocess_synth_lines(\n",
        "    load_lines_synth(synth_path1)\n",
        ")\n",
        "synth_phrase_pairs1=create_parralel_phrases_synth(synth_sentences1,\n",
        "                                                  0.9)\n",
        "synth_dataset1=produce_dataset(synth_phrase_pairs1,\n",
        "                               to_shuffle=TO_SHUFFLE)\n",
        "view_data(synth_dataset1)\n",
        "\n",
        "\n",
        "#######################33\n",
        "synth_path2=\"/gdrive/My Drive/JUDEO-ARAB/farabi-tahsil.txt\"\n",
        "synth_sentences2=preprocess_synth_lines(\n",
        "    load_lines_synth(synth_path2)\n",
        ")\n",
        "synth_phrase_pairs2=create_parralel_phrases_synth(synth_sentences2,\n",
        "                                                  0.9)\n",
        "synth_dataset2=produce_dataset(synth_phrase_pairs2,\n",
        "                               to_shuffle=TO_SHUFFLE)\n",
        "view_data(synth_dataset2)\n",
        "\n",
        "##########################3\n",
        "synth_path3=\"/gdrive/My Drive/JUDEO-ARAB/huruf.txt\"\n",
        "synth_sentences3=preprocess_synth_lines(\n",
        "    load_lines_synth(synth_path3)\n",
        ")\n",
        "\n",
        "synth_phrase_pairs3=create_parralel_phrases_synth(synth_sentences3,\n",
        "                                                  0.9)\n",
        "synth_dataset3=produce_dataset(synth_phrase_pairs3,\n",
        "                               to_shuffle=False)\n",
        "view_data(synth_dataset3)\n",
        "\n",
        "\n",
        "\n"
      ],
      "execution_count": 33,
      "outputs": [
        {
          "output_type": "stream",
          "text": [
            "‫ _א_ת וו_דה' לחקת _ פתכונ  |  كانت ووحدة لحقت , فتكون\n",
            "‫ ת_ונ וחדה' אלת'נאייה' גיר  |  تكون وحدة الثنائية غير\n",
            "‫ _חרכה' או אתצאל פיכונ  |  بحركة أو اتصال فيكون\n",
            "‫ אלאמכאנ וח_יקתה , והו  |  الإمكان وحقيقته , وهو\n",
            "‫ ענה כת'רה' מתפקה' אלנו_  |  عنه كثرة متفقة النوع\n",
            "‫ מעהמ __'א אלכ'לאפ לאנה_  |  معهم هذا الخلاف لأنهم\n",
            "‫ ומנהא חאלה' א__ריצ' ו_למסאפר  |  ومنها حالة المريض والمسافر\n",
            "‫ אלי שהר או שה__נ פ_'איז  |  إلى شهر أو شهرين فجائز\n",
            "‫ איה' פי אלתמסכ באלא_'מאע  |  آية في التمسك بالإجماع\n",
            "‫ , פאנ ד'לכ ממתנ_ . 254  |  , فإن ذلك ممتنع . 254\n",
            "‫ אלת_לימ פי הד_א אלג'נס  |  التعليم في هذا الجنس\n",
            "‫ מא יל_מסה מנ אעטא שי  |  ما يلتمسه من إعطاء شيء\n",
            "‫ נפוס _למד_יינ ותד'_ ותרק  |  نفوس المدنيين وتذل وترق\n",
            "‫ אלעלמ אלאנסא_י ואלעל_  |  العلم الإنساني والعلم\n",
            "‫ איצ'א מבד_ ותכונ לה אשיא  |  أيضا مبدأ وتكون له أشياء\n",
            "‫ כתאב רסאלה' אלחרופ ללפילסופ  |  كتاب رسالة الحروف للفيلسوف\n",
            "‫ אבי נצר אלפאראבי בסמ  |  أبي نصر الفارابيّ بسم\n",
            "‫ אללה אלרחמנ אלרחי_ ובה  |  الله الرحمن الرحيم وبه\n",
            "‫ נס_עינ אלחמד ללה _ב  |  نستعين الحمد لله ربّ\n",
            "‫ _לעאלמינ ו_לסל_מ עלי  |  العالمين والسلام على\n"
          ],
          "name": "stdout"
        }
      ]
    },
    {
      "cell_type": "markdown",
      "metadata": {
        "id": "OT4q_5EwyowP",
        "colab_type": "text"
      },
      "source": [
        "##gen_all_synth"
      ]
    },
    {
      "cell_type": "code",
      "metadata": {
        "id": "vkbugLUuw2Ux",
        "colab_type": "code",
        "colab": {}
      },
      "source": [
        "CELL_NAME=\"GEN_ALL_SYNTH\"\n",
        "all_synth_lines=synth_sentences0+synth_sentences1+synth_sentences2+synth_sentences3\n",
        "\n",
        "def gen_all_synth(keep):\n",
        "  all_synth_phrase_pairs=create_parralel_phrases_synth(all_synth_lines,\n",
        "                                                      keep)\n",
        "  all_synth_dataset=produce_dataset(all_synth_phrase_pairs,\n",
        "                                   to_shuffle=TO_SHUFFLE)\n",
        "  view_data(all_synth_dataset)\n",
        "  return all_synth_dataset"
      ],
      "execution_count": 0,
      "outputs": []
    },
    {
      "cell_type": "code",
      "metadata": {
        "id": "b9PbEec88luZ",
        "colab_type": "code",
        "colab": {}
      },
      "source": [
        "# synth_path3=\"/gdrive/My Drive/JUDEO-ARAB/huruf.txt\"\n",
        "# synth_sentences3=preprocess_synth_lines(\n",
        "#     load_lines_synth(synth_path3)\n",
        "# )\n",
        "# ################\n",
        "# synth_phrase_pairs3=create_parralel_phrases_synth(synth_sentences3,\n",
        "#                                                   0.9)\n",
        "# synth_dataset3=produce_dataset(synth_phrase_pairs3,\n",
        "#                                to_shuffle=TO_SHUFFLE)\n",
        "# view_data(synth_dataset3)\n",
        "\n",
        "# #################\n",
        "# synth_phrase_pairs3=create_parralel_phrases_synth(synth_sentences3,\n",
        "#                                                   0.9)\n",
        "# synth_dataset3=produce_dataset(synth_phrase_pairs3,\n",
        "#                                to_shuffle=TO_SHUFFLE)\n",
        "# view_data(synth_dataset3)\n",
        "\n",
        "# ##################\n",
        "# synth_phrase_pairs3=create_parralel_phrases_synth(synth_sentences3,\n",
        "#                                                   0.9)\n",
        "# synth_dataset3=produce_dataset(synth_phrase_pairs3,\n",
        "#                                to_shuffle=TO_SHUFFLE)\n",
        "# view_data(synth_dataset3)\n"
      ],
      "execution_count": 0,
      "outputs": []
    },
    {
      "cell_type": "markdown",
      "metadata": {
        "id": "jR2BCYUxIVv4",
        "colab_type": "text"
      },
      "source": [
        "#MODEL"
      ]
    },
    {
      "cell_type": "code",
      "metadata": {
        "id": "cwLpB4zfAY7Z",
        "colab_type": "code",
        "colab": {
          "base_uri": "https://localhost:8080/",
          "height": 92
        },
        "outputId": "9fb288aa-af7d-4d0f-8174-b05b3e2565a9"
      },
      "source": [
        "CELL_NAME=\"BUILD MODEL\"\n",
        "\n",
        "#BASED ON THE MODEL FROM https://www.tensorflow.org/tutorials/sequences/text_generation\n",
        "\n",
        "\n",
        "if tf.test.is_gpu_available():\n",
        "  rnn=tf.compat.v1.keras.layers.CuDNNGRU\n",
        "else:\n",
        "  import functools\n",
        "  rnn = functools.partial(\n",
        "    tf.keras.layers.GRU, recurrent_activation='sigmoid')\n",
        "  \n",
        "def build_model(vocab_size_heb1,vocab_size_ar, embedding_dim, rnn_units, batch_size):\n",
        "  model = tf.keras.Sequential([\n",
        "    tf.keras.layers.Embedding(vocab_size_heb1, embedding_dim,\n",
        "                              batch_input_shape=[batch_size, None]),\n",
        "    tf.keras.layers.Bidirectional(rnn(rnn_units,\n",
        "        return_sequences=True,\n",
        "        recurrent_initializer='glorot_uniform',\n",
        "        stateful=STATEFUL)),\n",
        "   tf.keras.layers.Bidirectional(rnn(rnn_units, \n",
        "        return_sequences=True,\n",
        "        recurrent_initializer='glorot_uniform',\n",
        "        stateful=STATEFUL)),\n",
        "   tf.keras.layers.Bidirectional(rnn(rnn_units,\n",
        "        return_sequences=True,\n",
        "        recurrent_initializer='glorot_uniform',\n",
        "        stateful=STATEFUL)),\n",
        "    tf.keras.layers.Bidirectional(rnn(rnn_units,\n",
        "        return_sequences=True,\n",
        "        recurrent_initializer='glorot_uniform',\n",
        "        stateful=STATEFUL)),\n",
        "    tf.keras.layers.Dense(vocab_size_ar\n",
        "                         )\n",
        "  ])\n",
        "  return model"
      ],
      "execution_count": 35,
      "outputs": [
        {
          "output_type": "stream",
          "text": [
            "WARNING:tensorflow:From <ipython-input-35-fe0c13a5ddfd>:6: is_gpu_available (from tensorflow.python.framework.test_util) is deprecated and will be removed in a future version.\n",
            "Instructions for updating:\n",
            "Use `tf.config.list_physical_devices('GPU')` instead.\n"
          ],
          "name": "stdout"
        }
      ]
    },
    {
      "cell_type": "code",
      "metadata": {
        "id": "1DAfj8zQGhKX",
        "colab_type": "code",
        "colab": {}
      },
      "source": [
        "CELL_NAME=\"BUILD MODEL1\"\n",
        "def rebuild():\n",
        "  #BUILD MODEL\n",
        "  model = build_model(\n",
        "    vocab_size_ar = len(targ_lang.char2idx),\n",
        "    vocab_size_heb1 = len(inp_lang.char2idx),\n",
        "    embedding_dim=embedding_dim,\n",
        "    rnn_units=rnn_units,\n",
        "    batch_size=BATCH_SIZE,\n",
        "    )\n",
        "\n",
        "  model.summary()\n",
        "  return model\n",
        "#model=rebuild()"
      ],
      "execution_count": 0,
      "outputs": []
    },
    {
      "cell_type": "code",
      "metadata": {
        "id": "9mdbbN5XLlGa",
        "colab_type": "code",
        "colab": {
          "base_uri": "https://localhost:8080/",
          "height": 381
        },
        "outputId": "6f4a6dae-d016-4bad-f1b9-23a46dd0ba92"
      },
      "source": [
        "model=rebuild()"
      ],
      "execution_count": 37,
      "outputs": [
        {
          "output_type": "stream",
          "text": [
            "Model: \"sequential\"\n",
            "_________________________________________________________________\n",
            "Layer (type)                 Output Shape              Param #   \n",
            "=================================================================\n",
            "embedding (Embedding)        (128, None, 8)            384       \n",
            "_________________________________________________________________\n",
            "bidirectional (Bidirectional (128, None, 2048)         6352896   \n",
            "_________________________________________________________________\n",
            "bidirectional_1 (Bidirection (128, None, 2048)         18886656  \n",
            "_________________________________________________________________\n",
            "bidirectional_2 (Bidirection (128, None, 2048)         18886656  \n",
            "_________________________________________________________________\n",
            "bidirectional_3 (Bidirection (128, None, 2048)         18886656  \n",
            "_________________________________________________________________\n",
            "dense (Dense)                (128, None, 67)           137283    \n",
            "=================================================================\n",
            "Total params: 63,150,531\n",
            "Trainable params: 63,150,531\n",
            "Non-trainable params: 0\n",
            "_________________________________________________________________\n"
          ],
          "name": "stdout"
        }
      ]
    },
    {
      "cell_type": "markdown",
      "metadata": {
        "id": "sRAxxqXvBekE",
        "colab_type": "text"
      },
      "source": [
        "##CHECKPOINTS"
      ]
    },
    {
      "cell_type": "code",
      "metadata": {
        "id": "wAGaUtdVBcj_",
        "colab_type": "code",
        "colab": {}
      },
      "source": [
        "CELL_NAME=\"DEFINE CHECKPOINT\"\n",
        "\n",
        "checkpoint_path='/gdrive/My Drive/checkpoints/'+this_time+\"/ckpt\"\n",
        "def save_checkpoint(massage,ckp_path=checkpoint_path):\n",
        "  print_log_screen(\"saving checkpoing at \"+checkpoint_path)\n",
        "  model.save_weights(checkpoint_path)\n",
        "  f_check= open(checkpoint_path+\".txt\",\"a+\")  \n",
        "  f_check.write(\"saving chekcpoing at epoch\"+ str(GLOBAL_epoch) +'\\n')\n",
        "  f_check.write(massage+'\\n')\n",
        "  f_check.close()\n",
        "  \n",
        "def load_checkpoint(checkpoint_path=checkpoint_path):\n",
        "  checkpoint_path=\"/gdrive/My Drive/checkpoints/\"+checkpoint_path+\"/ckpt\"\n",
        "  print_log_screen(\"loading checkpoing from \"+checkpoint_path)\n",
        "  model1=rebuild()\n",
        "  model1.load_weights(checkpoint_path)\n",
        "  return model1\n"
      ],
      "execution_count": 0,
      "outputs": []
    },
    {
      "cell_type": "markdown",
      "metadata": {
        "id": "cK87dh5brMUG",
        "colab_type": "text"
      },
      "source": [
        "#TESTING FUNCTIONS"
      ]
    },
    {
      "cell_type": "markdown",
      "metadata": {
        "id": "13p5-wog3JMo",
        "colab_type": "text"
      },
      "source": [
        "## forward run single letters\n"
      ]
    },
    {
      "cell_type": "code",
      "metadata": {
        "id": "IwSqhhfqy6Nb",
        "colab_type": "code",
        "colab": {}
      },
      "source": [
        "CELL_NAME=\"TEST single letters\"\n",
        "def test_single_letters(): \n",
        "  total_accuracy=0\n",
        "  total_examples=0\n",
        "\n",
        "  all_heb_letters=inp_lang.vocab\n",
        "  \n",
        "  num_of_letters=len(inp_lang.vocab)\n",
        "  num_of_arab_letters=len(targ_lang.vocab)\n",
        "\n",
        "#  print_log(num_of_letters)\n",
        "  letters_as_int=[]\n",
        "  tag=inp_lang.char2idx[\"'\"]\n",
        "  for t in range(num_of_letters):\n",
        "    letters_as_int.append([t]*2)\n",
        "  for t in range(BATCH_SIZE-num_of_letters):\n",
        "    letters_as_int.append([0,0])    \n",
        "\n",
        "  letters_tensor=tf.convert_to_tensor(letters_as_int)\n",
        "  \n",
        "  predict_ltrs=model(letters_tensor)\n",
        "  \n",
        "  \n",
        "  for jj in range(num_of_letters):\n",
        "      print(\"candidate:***({0})***\".format(inp_lang.vocab[jj]))\n",
        "      \n",
        "      pred_distr=predict_ltrs[jj][1]\n",
        "      pred_distr=tf.nn.softmax(pred_distr)\n",
        "      for ii in range(num_of_arab_letters):\n",
        "       print(\"{0:.3f}({1})  \".format(pred_distr[ii],targ_lang.vocab[ii]),end = '')\n",
        "      print(\"{0:.3f} <blank>\".format(pred_distr[num_of_arab_letters]))\n",
        "      maximum=tf.argmax(pred_distr).numpy()\n",
        "      max_score=tf.math.reduce_max(pred_distr).numpy()\n",
        "      if (maximum<num_of_arab_letters):\n",
        "        print(\"prediction***({0})***{1:.3f}\".format(targ_lang.vocab[maximum],max_score))\n",
        "      else:\n",
        "        print(\"####max is the blank symbole\")\n",
        "      print_log('-'*10)\n",
        "  \n",
        "#test_single_letters()"
      ],
      "execution_count": 0,
      "outputs": []
    },
    {
      "cell_type": "code",
      "metadata": {
        "id": "0B8G14-fL8Ez",
        "colab_type": "code",
        "colab": {
          "base_uri": "https://localhost:8080/",
          "height": 1000
        },
        "outputId": "25b63e4d-568e-430f-88c0-832c636908a9"
      },
      "source": [
        "model=load_checkpoint(\"2020-05-07 15:51:26.100845\")\n",
        "test_single_letters()"
      ],
      "execution_count": 47,
      "outputs": [
        {
          "output_type": "stream",
          "text": [
            "loading checkpoing from /gdrive/My Drive/checkpoints/2020-05-07 15:51:26.100845/ckpt\n",
            "Model: \"sequential_2\"\n",
            "_________________________________________________________________\n",
            "Layer (type)                 Output Shape              Param #   \n",
            "=================================================================\n",
            "embedding_2 (Embedding)      (128, None, 8)            384       \n",
            "_________________________________________________________________\n",
            "bidirectional_8 (Bidirection (128, None, 2048)         6352896   \n",
            "_________________________________________________________________\n",
            "bidirectional_9 (Bidirection (128, None, 2048)         18886656  \n",
            "_________________________________________________________________\n",
            "bidirectional_10 (Bidirectio (128, None, 2048)         18886656  \n",
            "_________________________________________________________________\n",
            "bidirectional_11 (Bidirectio (128, None, 2048)         18886656  \n",
            "_________________________________________________________________\n",
            "dense_2 (Dense)              (128, None, 67)           137283    \n",
            "=================================================================\n",
            "Total params: 63,150,531\n",
            "Trainable params: 63,150,531\n",
            "Non-trainable params: 0\n",
            "_________________________________________________________________\n",
            "candidate:***( )***\n",
            "1.000( )  0.000(!)  0.000(\")  0.000(')  0.000(()  0.000())  0.000(,)  0.000(-)  0.000(.)  0.000(0)  0.000(1)  0.000(2)  0.000(3)  0.000(4)  0.000(5)  0.000(6)  0.000(7)  0.000(8)  0.000(9)  0.000(:)  0.000(;)  0.000(?)  0.000(H)  0.000([)  0.000(])  0.000(ء)  0.000(آ)  0.000(أ)  0.000(ؤ)  0.000(إ)  0.000(ئ)  0.000(ا)  0.000(ب)  0.000(ة)  0.000(ت)  0.000(ث)  0.000(ج)  0.000(ح)  0.000(خ)  0.000(د)  0.000(ذ)  0.000(ر)  0.000(ز)  0.000(س)  0.000(ش)  0.000(ص)  0.000(ض)  0.000(ط)  0.000(ظ)  0.000(ع)  0.000(غ)  0.000(ف)  0.000(ق)  0.000(ك)  0.000(ل)  0.000(م)  0.000(ن)  0.000(ه)  0.000(و)  0.000(ى)  0.000(ي)  0.000(ً)  0.000(ٌ)  0.000(ٍ)  0.000(ّ)  0.000(ٱ)  0.000 <blank>\n",
            "prediction***( )***1.000\n",
            "candidate:***(!)***\n",
            "0.000( )  0.000(!)  0.000(\")  0.000(')  0.000(()  0.000())  0.000(,)  0.000(-)  0.000(.)  0.000(0)  0.000(1)  0.000(2)  0.000(3)  0.000(4)  0.000(5)  0.000(6)  0.000(7)  0.000(8)  0.000(9)  0.000(:)  0.000(;)  0.000(?)  0.000(H)  0.000([)  0.000(])  0.000(ء)  0.000(آ)  0.000(أ)  0.000(ؤ)  0.000(إ)  0.000(ئ)  0.000(ا)  0.000(ب)  0.000(ة)  0.000(ت)  0.000(ث)  0.000(ج)  0.000(ح)  0.000(خ)  0.000(د)  0.000(ذ)  0.000(ر)  0.000(ز)  0.000(س)  0.000(ش)  0.000(ص)  0.000(ض)  0.000(ط)  0.000(ظ)  0.000(ع)  0.000(غ)  0.000(ف)  0.000(ق)  0.000(ك)  0.000(ل)  0.000(م)  0.000(ن)  0.000(ه)  0.000(و)  0.000(ى)  0.000(ي)  0.000(ً)  0.000(ٌ)  0.000(ٍ)  0.000(ّ)  0.000(ٱ)  1.000 <blank>\n",
            "####max is the blank symbole\n",
            "candidate:***(\")***\n",
            "0.000( )  0.000(!)  0.000(\")  0.000(')  0.000(()  0.000())  0.000(,)  0.000(-)  0.000(.)  0.000(0)  0.000(1)  0.000(2)  0.000(3)  0.000(4)  0.000(5)  0.000(6)  0.000(7)  0.000(8)  0.000(9)  0.000(:)  0.000(;)  0.000(?)  0.000(H)  0.000([)  0.000(])  0.000(ء)  0.000(آ)  0.000(أ)  0.000(ؤ)  0.000(إ)  0.000(ئ)  0.000(ا)  0.000(ب)  0.000(ة)  0.000(ت)  0.000(ث)  0.000(ج)  0.000(ح)  0.000(خ)  0.000(د)  0.000(ذ)  0.000(ر)  0.000(ز)  0.000(س)  0.000(ش)  0.000(ص)  0.000(ض)  0.000(ط)  0.000(ظ)  0.000(ع)  0.000(غ)  0.001(ف)  0.000(ق)  0.000(ك)  0.000(ل)  0.000(م)  0.000(ن)  0.000(ه)  0.000(و)  0.000(ى)  0.000(ي)  0.000(ً)  0.000(ٌ)  0.000(ٍ)  0.001(ّ)  0.000(ٱ)  0.997 <blank>\n",
            "####max is the blank symbole\n",
            "candidate:***(')***\n",
            "0.000( )  0.000(!)  0.000(\")  0.000(')  0.000(()  0.000())  0.000(,)  0.000(-)  0.000(.)  0.000(0)  0.000(1)  0.000(2)  0.000(3)  0.000(4)  0.000(5)  0.000(6)  0.000(7)  0.000(8)  0.000(9)  0.000(:)  0.000(;)  0.000(?)  0.000(H)  0.000([)  0.000(])  0.000(ء)  0.000(آ)  0.000(أ)  0.000(ؤ)  0.000(إ)  0.000(ئ)  0.000(ا)  0.000(ب)  0.000(ة)  0.000(ت)  0.000(ث)  0.000(ج)  0.000(ح)  0.000(خ)  0.000(د)  0.000(ذ)  0.000(ر)  0.000(ز)  0.000(س)  0.000(ش)  0.000(ص)  0.000(ض)  0.000(ط)  0.000(ظ)  0.000(ع)  0.000(غ)  0.000(ف)  0.000(ق)  0.000(ك)  0.000(ل)  0.000(م)  0.000(ن)  0.000(ه)  0.000(و)  0.000(ى)  0.000(ي)  0.000(ً)  0.000(ٌ)  0.000(ٍ)  0.000(ّ)  0.000(ٱ)  1.000 <blank>\n",
            "####max is the blank symbole\n",
            "candidate:***(()***\n",
            "0.000( )  0.000(!)  0.000(\")  0.000(')  0.161(()  0.001())  0.000(,)  0.000(-)  0.000(.)  0.000(0)  0.000(1)  0.000(2)  0.000(3)  0.000(4)  0.000(5)  0.000(6)  0.000(7)  0.000(8)  0.000(9)  0.000(:)  0.000(;)  0.000(?)  0.000(H)  0.000([)  0.000(])  0.000(ء)  0.000(آ)  0.000(أ)  0.000(ؤ)  0.000(إ)  0.000(ئ)  0.000(ا)  0.000(ب)  0.000(ة)  0.000(ت)  0.000(ث)  0.000(ج)  0.000(ح)  0.000(خ)  0.000(د)  0.000(ذ)  0.000(ر)  0.000(ز)  0.000(س)  0.000(ش)  0.000(ص)  0.000(ض)  0.000(ط)  0.000(ظ)  0.000(ع)  0.000(غ)  0.000(ف)  0.000(ق)  0.000(ك)  0.000(ل)  0.000(م)  0.000(ن)  0.000(ه)  0.000(و)  0.000(ى)  0.000(ي)  0.000(ً)  0.000(ٌ)  0.000(ٍ)  0.000(ّ)  0.000(ٱ)  0.838 <blank>\n",
            "####max is the blank symbole\n",
            "candidate:***())***\n",
            "0.000( )  0.000(!)  0.000(\")  0.000(')  0.000(()  0.038())  0.000(,)  0.000(-)  0.000(.)  0.000(0)  0.000(1)  0.000(2)  0.000(3)  0.000(4)  0.000(5)  0.000(6)  0.000(7)  0.000(8)  0.000(9)  0.000(:)  0.000(;)  0.000(?)  0.000(H)  0.000([)  0.000(])  0.000(ء)  0.000(آ)  0.000(أ)  0.000(ؤ)  0.000(إ)  0.000(ئ)  0.000(ا)  0.000(ب)  0.000(ة)  0.000(ت)  0.000(ث)  0.000(ج)  0.000(ح)  0.000(خ)  0.000(د)  0.000(ذ)  0.001(ر)  0.000(ز)  0.000(س)  0.000(ش)  0.000(ص)  0.000(ض)  0.000(ط)  0.000(ظ)  0.000(ع)  0.000(غ)  0.000(ف)  0.000(ق)  0.000(ك)  0.000(ل)  0.000(م)  0.000(ن)  0.000(ه)  0.000(و)  0.000(ى)  0.000(ي)  0.000(ً)  0.000(ٌ)  0.000(ٍ)  0.000(ّ)  0.000(ٱ)  0.961 <blank>\n",
            "####max is the blank symbole\n",
            "candidate:***(,)***\n",
            "0.022( )  0.000(!)  0.000(\")  0.000(')  0.000(()  0.000())  0.608(,)  0.000(-)  0.000(.)  0.000(0)  0.000(1)  0.000(2)  0.000(3)  0.000(4)  0.000(5)  0.000(6)  0.000(7)  0.000(8)  0.000(9)  0.000(:)  0.000(;)  0.000(?)  0.000(H)  0.000([)  0.000(])  0.000(ء)  0.000(آ)  0.000(أ)  0.000(ؤ)  0.000(إ)  0.000(ئ)  0.000(ا)  0.000(ب)  0.000(ة)  0.000(ت)  0.000(ث)  0.000(ج)  0.000(ح)  0.000(خ)  0.000(د)  0.000(ذ)  0.001(ر)  0.000(ز)  0.000(س)  0.000(ش)  0.000(ص)  0.000(ض)  0.000(ط)  0.000(ظ)  0.000(ع)  0.000(غ)  0.000(ف)  0.000(ق)  0.000(ك)  0.000(ل)  0.000(م)  0.000(ن)  0.000(ه)  0.000(و)  0.000(ى)  0.000(ي)  0.000(ً)  0.000(ٌ)  0.000(ٍ)  0.000(ّ)  0.000(ٱ)  0.367 <blank>\n",
            "prediction***(,)***0.608\n",
            "candidate:***(-)***\n",
            "0.001( )  0.000(!)  0.000(\")  0.000(')  0.000(()  0.000())  0.000(,)  0.999(-)  0.000(.)  0.000(0)  0.000(1)  0.000(2)  0.000(3)  0.000(4)  0.000(5)  0.000(6)  0.000(7)  0.000(8)  0.000(9)  0.000(:)  0.000(;)  0.000(?)  0.000(H)  0.000([)  0.000(])  0.000(ء)  0.000(آ)  0.000(أ)  0.000(ؤ)  0.000(إ)  0.000(ئ)  0.000(ا)  0.000(ب)  0.000(ة)  0.000(ت)  0.000(ث)  0.000(ج)  0.000(ح)  0.000(خ)  0.000(د)  0.000(ذ)  0.000(ر)  0.000(ز)  0.000(س)  0.000(ش)  0.000(ص)  0.000(ض)  0.000(ط)  0.000(ظ)  0.000(ع)  0.000(غ)  0.000(ف)  0.000(ق)  0.000(ك)  0.000(ل)  0.000(م)  0.000(ن)  0.000(ه)  0.000(و)  0.000(ى)  0.000(ي)  0.000(ً)  0.000(ٌ)  0.000(ٍ)  0.000(ّ)  0.000(ٱ)  0.000 <blank>\n",
            "prediction***(-)***0.999\n",
            "candidate:***(.)***\n",
            "0.002( )  0.000(!)  0.000(\")  0.000(')  0.000(()  0.000())  0.000(,)  0.000(-)  0.001(.)  0.000(0)  0.000(1)  0.000(2)  0.000(3)  0.000(4)  0.000(5)  0.000(6)  0.000(7)  0.000(8)  0.000(9)  0.000(:)  0.000(;)  0.000(?)  0.000(H)  0.000([)  0.000(])  0.000(ء)  0.000(آ)  0.000(أ)  0.000(ؤ)  0.000(إ)  0.000(ئ)  0.000(ا)  0.000(ب)  0.000(ة)  0.000(ت)  0.000(ث)  0.000(ج)  0.000(ح)  0.000(خ)  0.000(د)  0.000(ذ)  0.000(ر)  0.000(ز)  0.000(س)  0.000(ش)  0.000(ص)  0.000(ض)  0.000(ط)  0.000(ظ)  0.000(ع)  0.000(غ)  0.000(ف)  0.000(ق)  0.000(ك)  0.000(ل)  0.000(م)  0.000(ن)  0.000(ه)  0.000(و)  0.000(ى)  0.000(ي)  0.000(ً)  0.000(ٌ)  0.000(ٍ)  0.001(ّ)  0.000(ٱ)  0.996 <blank>\n",
            "####max is the blank symbole\n",
            "candidate:***(0)***\n",
            "0.002( )  0.000(!)  0.000(\")  0.000(')  0.000(()  0.000())  0.000(,)  0.000(-)  0.000(.)  0.001(0)  0.000(1)  0.000(2)  0.000(3)  0.000(4)  0.000(5)  0.000(6)  0.000(7)  0.000(8)  0.000(9)  0.000(:)  0.000(;)  0.000(?)  0.000(H)  0.000([)  0.000(])  0.000(ء)  0.000(آ)  0.000(أ)  0.000(ؤ)  0.000(إ)  0.000(ئ)  0.000(ا)  0.000(ب)  0.000(ة)  0.000(ت)  0.000(ث)  0.000(ج)  0.000(ح)  0.000(خ)  0.000(د)  0.000(ذ)  0.000(ر)  0.000(ز)  0.000(س)  0.000(ش)  0.000(ص)  0.000(ض)  0.000(ط)  0.000(ظ)  0.000(ع)  0.000(غ)  0.000(ف)  0.000(ق)  0.000(ك)  0.000(ل)  0.000(م)  0.000(ن)  0.000(ه)  0.000(و)  0.000(ى)  0.000(ي)  0.000(ً)  0.000(ٌ)  0.000(ٍ)  0.001(ّ)  0.000(ٱ)  0.995 <blank>\n",
            "####max is the blank symbole\n",
            "candidate:***(1)***\n",
            "0.000( )  0.000(!)  0.000(\")  0.000(')  0.000(()  0.000())  0.000(,)  0.000(-)  0.000(.)  0.000(0)  0.001(1)  0.000(2)  0.000(3)  0.000(4)  0.000(5)  0.000(6)  0.000(7)  0.000(8)  0.000(9)  0.000(:)  0.000(;)  0.000(?)  0.000(H)  0.000([)  0.000(])  0.000(ء)  0.000(آ)  0.000(أ)  0.000(ؤ)  0.000(إ)  0.000(ئ)  0.000(ا)  0.000(ب)  0.000(ة)  0.000(ت)  0.000(ث)  0.000(ج)  0.000(ح)  0.000(خ)  0.000(د)  0.000(ذ)  0.000(ر)  0.000(ز)  0.000(س)  0.000(ش)  0.000(ص)  0.000(ض)  0.000(ط)  0.000(ظ)  0.000(ع)  0.000(غ)  0.000(ف)  0.000(ق)  0.000(ك)  0.000(ل)  0.000(م)  0.000(ن)  0.000(ه)  0.000(و)  0.000(ى)  0.000(ي)  0.000(ً)  0.000(ٌ)  0.000(ٍ)  0.000(ّ)  0.000(ٱ)  0.998 <blank>\n",
            "####max is the blank symbole\n",
            "candidate:***(2)***\n",
            "0.000( )  0.000(!)  0.000(\")  0.000(')  0.000(()  0.000())  0.000(,)  0.000(-)  0.000(.)  0.000(0)  0.000(1)  0.000(2)  0.000(3)  0.000(4)  0.000(5)  0.000(6)  0.000(7)  0.000(8)  0.000(9)  0.000(:)  0.000(;)  0.000(?)  0.000(H)  0.000([)  0.000(])  0.000(ء)  0.000(آ)  0.000(أ)  0.000(ؤ)  0.000(إ)  0.000(ئ)  0.000(ا)  0.000(ب)  0.000(ة)  0.000(ت)  0.000(ث)  0.000(ج)  0.000(ح)  0.000(خ)  0.000(د)  0.000(ذ)  0.000(ر)  0.000(ز)  0.000(س)  0.000(ش)  0.000(ص)  0.000(ض)  0.000(ط)  0.000(ظ)  0.000(ع)  0.000(غ)  0.000(ف)  0.000(ق)  0.000(ك)  0.000(ل)  0.000(م)  0.000(ن)  0.000(ه)  0.000(و)  0.000(ى)  0.000(ي)  0.000(ً)  0.000(ٌ)  0.000(ٍ)  0.001(ّ)  0.000(ٱ)  0.999 <blank>\n",
            "####max is the blank symbole\n",
            "candidate:***(3)***\n",
            "0.000( )  0.000(!)  0.000(\")  0.000(')  0.000(()  0.000())  0.000(,)  0.000(-)  0.000(.)  0.000(0)  0.000(1)  0.000(2)  0.001(3)  0.000(4)  0.000(5)  0.000(6)  0.000(7)  0.000(8)  0.000(9)  0.000(:)  0.000(;)  0.000(?)  0.000(H)  0.000([)  0.000(])  0.000(ء)  0.000(آ)  0.000(أ)  0.000(ؤ)  0.000(إ)  0.000(ئ)  0.000(ا)  0.000(ب)  0.000(ة)  0.000(ت)  0.000(ث)  0.000(ج)  0.000(ح)  0.000(خ)  0.000(د)  0.000(ذ)  0.000(ر)  0.000(ز)  0.000(س)  0.000(ش)  0.000(ص)  0.000(ض)  0.000(ط)  0.000(ظ)  0.000(ع)  0.000(غ)  0.000(ف)  0.000(ق)  0.000(ك)  0.000(ل)  0.000(م)  0.000(ن)  0.000(ه)  0.000(و)  0.000(ى)  0.000(ي)  0.000(ً)  0.000(ٌ)  0.000(ٍ)  0.001(ّ)  0.000(ٱ)  0.998 <blank>\n",
            "####max is the blank symbole\n",
            "candidate:***(4)***\n",
            "0.000( )  0.000(!)  0.000(\")  0.000(')  0.000(()  0.000())  0.000(,)  0.000(-)  0.001(.)  0.000(0)  0.000(1)  0.000(2)  0.000(3)  0.006(4)  0.000(5)  0.000(6)  0.000(7)  0.000(8)  0.000(9)  0.000(:)  0.000(;)  0.000(?)  0.000(H)  0.000([)  0.000(])  0.000(ء)  0.000(آ)  0.000(أ)  0.000(ؤ)  0.000(إ)  0.000(ئ)  0.000(ا)  0.000(ب)  0.000(ة)  0.000(ت)  0.000(ث)  0.000(ج)  0.000(ح)  0.000(خ)  0.000(د)  0.000(ذ)  0.000(ر)  0.000(ز)  0.000(س)  0.000(ش)  0.000(ص)  0.000(ض)  0.000(ط)  0.000(ظ)  0.000(ع)  0.000(غ)  0.000(ف)  0.000(ق)  0.000(ك)  0.000(ل)  0.000(م)  0.000(ن)  0.000(ه)  0.000(و)  0.000(ى)  0.000(ي)  0.000(ً)  0.000(ٌ)  0.000(ٍ)  0.000(ّ)  0.000(ٱ)  0.993 <blank>\n",
            "####max is the blank symbole\n",
            "candidate:***(5)***\n",
            "0.001( )  0.000(!)  0.000(\")  0.000(')  0.000(()  0.000())  0.000(,)  0.000(-)  0.000(.)  0.000(0)  0.000(1)  0.000(2)  0.000(3)  0.000(4)  0.001(5)  0.000(6)  0.000(7)  0.000(8)  0.000(9)  0.000(:)  0.000(;)  0.000(?)  0.000(H)  0.000([)  0.000(])  0.000(ء)  0.000(آ)  0.000(أ)  0.000(ؤ)  0.000(إ)  0.000(ئ)  0.000(ا)  0.000(ب)  0.000(ة)  0.000(ت)  0.000(ث)  0.000(ج)  0.000(ح)  0.000(خ)  0.000(د)  0.000(ذ)  0.000(ر)  0.000(ز)  0.000(س)  0.000(ش)  0.000(ص)  0.000(ض)  0.000(ط)  0.000(ظ)  0.000(ع)  0.000(غ)  0.000(ف)  0.000(ق)  0.000(ك)  0.000(ل)  0.000(م)  0.000(ن)  0.000(ه)  0.000(و)  0.000(ى)  0.000(ي)  0.000(ً)  0.000(ٌ)  0.000(ٍ)  0.000(ّ)  0.000(ٱ)  0.997 <blank>\n",
            "####max is the blank symbole\n",
            "candidate:***(6)***\n",
            "0.000( )  0.000(!)  0.000(\")  0.000(')  0.000(()  0.000())  0.000(,)  0.000(-)  0.000(.)  0.000(0)  0.000(1)  0.000(2)  0.000(3)  0.000(4)  0.000(5)  0.004(6)  0.000(7)  0.000(8)  0.000(9)  0.000(:)  0.000(;)  0.000(?)  0.000(H)  0.000([)  0.000(])  0.000(ء)  0.000(آ)  0.000(أ)  0.000(ؤ)  0.000(إ)  0.000(ئ)  0.000(ا)  0.000(ب)  0.000(ة)  0.000(ت)  0.000(ث)  0.000(ج)  0.000(ح)  0.000(خ)  0.000(د)  0.000(ذ)  0.000(ر)  0.000(ز)  0.000(س)  0.000(ش)  0.000(ص)  0.000(ض)  0.000(ط)  0.000(ظ)  0.000(ع)  0.000(غ)  0.000(ف)  0.000(ق)  0.000(ك)  0.000(ل)  0.000(م)  0.000(ن)  0.000(ه)  0.000(و)  0.000(ى)  0.000(ي)  0.000(ً)  0.000(ٌ)  0.000(ٍ)  0.001(ّ)  0.000(ٱ)  0.994 <blank>\n",
            "####max is the blank symbole\n",
            "candidate:***(7)***\n",
            "0.000( )  0.000(!)  0.000(\")  0.000(')  0.000(()  0.000())  0.000(,)  0.000(-)  0.000(.)  0.000(0)  0.000(1)  0.000(2)  0.000(3)  0.000(4)  0.000(5)  0.000(6)  0.003(7)  0.000(8)  0.000(9)  0.000(:)  0.000(;)  0.000(?)  0.000(H)  0.000([)  0.000(])  0.000(ء)  0.000(آ)  0.000(أ)  0.000(ؤ)  0.000(إ)  0.000(ئ)  0.000(ا)  0.000(ب)  0.000(ة)  0.000(ت)  0.000(ث)  0.000(ج)  0.000(ح)  0.000(خ)  0.000(د)  0.001(ذ)  0.000(ر)  0.000(ز)  0.000(س)  0.002(ش)  0.000(ص)  0.000(ض)  0.000(ط)  0.000(ظ)  0.000(ع)  0.000(غ)  0.000(ف)  0.000(ق)  0.000(ك)  0.000(ل)  0.000(م)  0.000(ن)  0.000(ه)  0.001(و)  0.000(ى)  0.002(ي)  0.000(ً)  0.000(ٌ)  0.000(ٍ)  0.002(ّ)  0.000(ٱ)  0.987 <blank>\n",
            "####max is the blank symbole\n",
            "candidate:***(8)***\n",
            "0.000( )  0.000(!)  0.000(\")  0.000(')  0.000(()  0.000())  0.000(,)  0.000(-)  0.000(.)  0.000(0)  0.000(1)  0.000(2)  0.000(3)  0.000(4)  0.000(5)  0.000(6)  0.000(7)  0.500(8)  0.000(9)  0.000(:)  0.000(;)  0.000(?)  0.000(H)  0.000([)  0.000(])  0.000(ء)  0.000(آ)  0.000(أ)  0.000(ؤ)  0.000(إ)  0.000(ئ)  0.000(ا)  0.000(ب)  0.000(ة)  0.000(ت)  0.000(ث)  0.000(ج)  0.000(ح)  0.000(خ)  0.000(د)  0.000(ذ)  0.000(ر)  0.000(ز)  0.000(س)  0.000(ش)  0.000(ص)  0.000(ض)  0.000(ط)  0.000(ظ)  0.000(ع)  0.000(غ)  0.000(ف)  0.000(ق)  0.000(ك)  0.000(ل)  0.000(م)  0.000(ن)  0.000(ه)  0.000(و)  0.000(ى)  0.000(ي)  0.000(ً)  0.000(ٌ)  0.000(ٍ)  0.001(ّ)  0.000(ٱ)  0.499 <blank>\n",
            "prediction***(8)***0.500\n",
            "candidate:***(9)***\n",
            "0.000( )  0.000(!)  0.000(\")  0.000(')  0.000(()  0.000())  0.000(,)  0.000(-)  0.000(.)  0.000(0)  0.000(1)  0.000(2)  0.000(3)  0.000(4)  0.000(5)  0.000(6)  0.000(7)  0.000(8)  0.023(9)  0.000(:)  0.000(;)  0.000(?)  0.000(H)  0.000([)  0.000(])  0.000(ء)  0.000(آ)  0.000(أ)  0.000(ؤ)  0.000(إ)  0.000(ئ)  0.000(ا)  0.000(ب)  0.000(ة)  0.000(ت)  0.000(ث)  0.000(ج)  0.000(ح)  0.000(خ)  0.000(د)  0.000(ذ)  0.000(ر)  0.000(ز)  0.000(س)  0.000(ش)  0.000(ص)  0.000(ض)  0.000(ط)  0.000(ظ)  0.000(ع)  0.000(غ)  0.000(ف)  0.000(ق)  0.000(ك)  0.000(ل)  0.000(م)  0.000(ن)  0.000(ه)  0.000(و)  0.000(ى)  0.000(ي)  0.000(ً)  0.000(ٌ)  0.000(ٍ)  0.000(ّ)  0.000(ٱ)  0.977 <blank>\n",
            "####max is the blank symbole\n",
            "candidate:***(:)***\n",
            "0.005( )  0.000(!)  0.000(\")  0.000(')  0.000(()  0.000())  0.000(,)  0.000(-)  0.000(.)  0.000(0)  0.000(1)  0.000(2)  0.000(3)  0.000(4)  0.000(5)  0.000(6)  0.000(7)  0.000(8)  0.000(9)  0.069(:)  0.000(;)  0.000(?)  0.000(H)  0.000([)  0.000(])  0.000(ء)  0.000(آ)  0.000(أ)  0.000(ؤ)  0.000(إ)  0.000(ئ)  0.000(ا)  0.000(ب)  0.000(ة)  0.000(ت)  0.000(ث)  0.000(ج)  0.000(ح)  0.000(خ)  0.000(د)  0.000(ذ)  0.000(ر)  0.000(ز)  0.000(س)  0.000(ش)  0.000(ص)  0.000(ض)  0.000(ط)  0.000(ظ)  0.000(ع)  0.000(غ)  0.000(ف)  0.000(ق)  0.000(ك)  0.000(ل)  0.000(م)  0.000(ن)  0.000(ه)  0.000(و)  0.000(ى)  0.000(ي)  0.000(ً)  0.000(ٌ)  0.000(ٍ)  0.000(ّ)  0.000(ٱ)  0.924 <blank>\n",
            "####max is the blank symbole\n",
            "candidate:***(;)***\n",
            "0.033( )  0.000(!)  0.000(\")  0.000(')  0.000(()  0.000())  0.000(,)  0.000(-)  0.000(.)  0.000(0)  0.000(1)  0.000(2)  0.000(3)  0.000(4)  0.000(5)  0.000(6)  0.000(7)  0.000(8)  0.000(9)  0.000(:)  0.966(;)  0.000(?)  0.000(H)  0.000([)  0.000(])  0.000(ء)  0.000(آ)  0.000(أ)  0.000(ؤ)  0.000(إ)  0.000(ئ)  0.000(ا)  0.000(ب)  0.000(ة)  0.000(ت)  0.000(ث)  0.000(ج)  0.000(ح)  0.000(خ)  0.000(د)  0.000(ذ)  0.000(ر)  0.000(ز)  0.000(س)  0.000(ش)  0.000(ص)  0.000(ض)  0.000(ط)  0.000(ظ)  0.000(ع)  0.000(غ)  0.000(ف)  0.000(ق)  0.000(ك)  0.000(ل)  0.000(م)  0.000(ن)  0.000(ه)  0.000(و)  0.000(ى)  0.000(ي)  0.000(ً)  0.000(ٌ)  0.000(ٍ)  0.000(ّ)  0.000(ٱ)  0.001 <blank>\n",
            "prediction***(;)***0.966\n",
            "candidate:***(?)***\n",
            "0.001( )  0.000(!)  0.000(\")  0.000(')  0.000(()  0.000())  0.002(,)  0.000(-)  0.000(.)  0.000(0)  0.000(1)  0.000(2)  0.000(3)  0.000(4)  0.000(5)  0.000(6)  0.000(7)  0.000(8)  0.000(9)  0.000(:)  0.000(;)  0.103(?)  0.000(H)  0.000([)  0.000(])  0.000(ء)  0.000(آ)  0.000(أ)  0.000(ؤ)  0.000(إ)  0.000(ئ)  0.000(ا)  0.000(ب)  0.000(ة)  0.000(ت)  0.000(ث)  0.000(ج)  0.000(ح)  0.000(خ)  0.000(د)  0.000(ذ)  0.003(ر)  0.000(ز)  0.000(س)  0.000(ش)  0.000(ص)  0.000(ض)  0.000(ط)  0.000(ظ)  0.000(ع)  0.000(غ)  0.000(ف)  0.000(ق)  0.000(ك)  0.000(ل)  0.000(م)  0.000(ن)  0.000(ه)  0.000(و)  0.000(ى)  0.000(ي)  0.001(ً)  0.000(ٌ)  0.000(ٍ)  0.000(ّ)  0.000(ٱ)  0.888 <blank>\n",
            "####max is the blank symbole\n",
            "candidate:***(H)***\n",
            "0.529( )  0.000(!)  0.000(\")  0.000(')  0.000(()  0.000())  0.000(,)  0.000(-)  0.000(.)  0.000(0)  0.000(1)  0.000(2)  0.000(3)  0.000(4)  0.000(5)  0.000(6)  0.000(7)  0.000(8)  0.000(9)  0.000(:)  0.000(;)  0.000(?)  0.468(H)  0.000([)  0.000(])  0.000(ء)  0.000(آ)  0.000(أ)  0.000(ؤ)  0.000(إ)  0.000(ئ)  0.000(ا)  0.000(ب)  0.000(ة)  0.000(ت)  0.000(ث)  0.000(ج)  0.000(ح)  0.000(خ)  0.000(د)  0.000(ذ)  0.000(ر)  0.000(ز)  0.000(س)  0.000(ش)  0.000(ص)  0.000(ض)  0.000(ط)  0.000(ظ)  0.000(ع)  0.000(غ)  0.000(ف)  0.002(ق)  0.000(ك)  0.000(ل)  0.000(م)  0.000(ن)  0.000(ه)  0.000(و)  0.000(ى)  0.000(ي)  0.000(ً)  0.000(ٌ)  0.000(ٍ)  0.000(ّ)  0.000(ٱ)  0.002 <blank>\n",
            "prediction***( )***0.529\n",
            "candidate:***([)***\n",
            "0.001( )  0.000(!)  0.000(\")  0.000(')  0.000(()  0.000())  0.000(,)  0.000(-)  0.000(.)  0.000(0)  0.000(1)  0.000(2)  0.000(3)  0.000(4)  0.000(5)  0.000(6)  0.000(7)  0.001(8)  0.000(9)  0.000(:)  0.001(;)  0.000(?)  0.000(H)  0.347([)  0.000(])  0.000(ء)  0.000(آ)  0.000(أ)  0.000(ؤ)  0.000(إ)  0.000(ئ)  0.000(ا)  0.000(ب)  0.000(ة)  0.000(ت)  0.000(ث)  0.000(ج)  0.000(ح)  0.000(خ)  0.000(د)  0.000(ذ)  0.000(ر)  0.000(ز)  0.000(س)  0.000(ش)  0.000(ص)  0.000(ض)  0.000(ط)  0.000(ظ)  0.000(ع)  0.000(غ)  0.000(ف)  0.000(ق)  0.000(ك)  0.000(ل)  0.000(م)  0.000(ن)  0.000(ه)  0.000(و)  0.000(ى)  0.000(ي)  0.000(ً)  0.000(ٌ)  0.000(ٍ)  0.001(ّ)  0.000(ٱ)  0.647 <blank>\n",
            "####max is the blank symbole\n",
            "candidate:***(])***\n",
            "0.029( )  0.000(!)  0.000(\")  0.000(')  0.000(()  0.000())  0.000(,)  0.000(-)  0.000(.)  0.000(0)  0.000(1)  0.000(2)  0.000(3)  0.000(4)  0.000(5)  0.000(6)  0.000(7)  0.000(8)  0.000(9)  0.000(:)  0.000(;)  0.000(?)  0.000(H)  0.000([)  0.512(])  0.000(ء)  0.000(آ)  0.000(أ)  0.000(ؤ)  0.000(إ)  0.000(ئ)  0.000(ا)  0.000(ب)  0.000(ة)  0.000(ت)  0.000(ث)  0.000(ج)  0.000(ح)  0.000(خ)  0.000(د)  0.001(ذ)  0.000(ر)  0.000(ز)  0.000(س)  0.002(ش)  0.000(ص)  0.000(ض)  0.000(ط)  0.000(ظ)  0.000(ع)  0.000(غ)  0.000(ف)  0.000(ق)  0.000(ك)  0.000(ل)  0.000(م)  0.000(ن)  0.000(ه)  0.000(و)  0.000(ى)  0.000(ي)  0.000(ً)  0.000(ٌ)  0.000(ٍ)  0.000(ّ)  0.000(ٱ)  0.454 <blank>\n",
            "prediction***(])***0.512\n",
            "candidate:***(א)***\n",
            "0.000( )  0.000(!)  0.000(\")  0.000(')  0.000(()  0.000())  0.000(,)  0.000(-)  0.000(.)  0.000(0)  0.000(1)  0.000(2)  0.000(3)  0.000(4)  0.000(5)  0.000(6)  0.000(7)  0.000(8)  0.000(9)  0.000(:)  0.000(;)  0.000(?)  0.000(H)  0.000([)  0.000(])  0.000(ء)  0.000(آ)  0.000(أ)  0.000(ؤ)  0.000(إ)  0.000(ئ)  0.004(ا)  0.000(ب)  0.000(ة)  0.000(ت)  0.000(ث)  0.000(ج)  0.000(ح)  0.000(خ)  0.000(د)  0.000(ذ)  0.000(ر)  0.000(ز)  0.000(س)  0.000(ش)  0.000(ص)  0.000(ض)  0.000(ط)  0.000(ظ)  0.000(ع)  0.000(غ)  0.000(ف)  0.000(ق)  0.000(ك)  0.000(ل)  0.000(م)  0.000(ن)  0.000(ه)  0.000(و)  0.000(ى)  0.000(ي)  0.000(ً)  0.000(ٌ)  0.000(ٍ)  0.000(ّ)  0.000(ٱ)  0.996 <blank>\n",
            "####max is the blank symbole\n",
            "candidate:***(ב)***\n",
            "0.000( )  0.000(!)  0.000(\")  0.000(')  0.000(()  0.000())  0.000(,)  0.000(-)  0.000(.)  0.000(0)  0.000(1)  0.000(2)  0.000(3)  0.000(4)  0.000(5)  0.000(6)  0.000(7)  0.000(8)  0.000(9)  0.000(:)  0.000(;)  0.000(?)  0.000(H)  0.000([)  0.000(])  0.000(ء)  0.000(آ)  0.000(أ)  0.000(ؤ)  0.000(إ)  0.000(ئ)  0.000(ا)  0.353(ب)  0.000(ة)  0.000(ت)  0.000(ث)  0.000(ج)  0.000(ح)  0.000(خ)  0.000(د)  0.000(ذ)  0.000(ر)  0.000(ز)  0.000(س)  0.000(ش)  0.000(ص)  0.000(ض)  0.000(ط)  0.000(ظ)  0.000(ع)  0.000(غ)  0.000(ف)  0.000(ق)  0.000(ك)  0.000(ل)  0.000(م)  0.000(ن)  0.000(ه)  0.000(و)  0.000(ى)  0.000(ي)  0.000(ً)  0.000(ٌ)  0.000(ٍ)  0.000(ّ)  0.000(ٱ)  0.647 <blank>\n",
            "####max is the blank symbole\n",
            "candidate:***(ג)***\n",
            "0.000( )  0.000(!)  0.000(\")  0.000(')  0.000(()  0.000())  0.000(,)  0.000(-)  0.000(.)  0.000(0)  0.000(1)  0.000(2)  0.000(3)  0.000(4)  0.000(5)  0.000(6)  0.000(7)  0.000(8)  0.000(9)  0.000(:)  0.000(;)  0.000(?)  0.000(H)  0.000([)  0.000(])  0.000(ء)  0.000(آ)  0.000(أ)  0.000(ؤ)  0.000(إ)  0.000(ئ)  0.000(ا)  0.000(ب)  0.000(ة)  0.000(ت)  0.000(ث)  0.002(ج)  0.000(ح)  0.000(خ)  0.000(د)  0.000(ذ)  0.000(ر)  0.000(ز)  0.000(س)  0.000(ش)  0.000(ص)  0.000(ض)  0.000(ط)  0.000(ظ)  0.000(ع)  0.009(غ)  0.000(ف)  0.002(ق)  0.000(ك)  0.000(ل)  0.000(م)  0.000(ن)  0.001(ه)  0.000(و)  0.000(ى)  0.000(ي)  0.000(ً)  0.000(ٌ)  0.000(ٍ)  0.000(ّ)  0.000(ٱ)  0.984 <blank>\n",
            "####max is the blank symbole\n",
            "candidate:***(ד)***\n",
            "0.000( )  0.000(!)  0.000(\")  0.000(')  0.000(()  0.000())  0.000(,)  0.000(-)  0.000(.)  0.000(0)  0.000(1)  0.000(2)  0.000(3)  0.000(4)  0.000(5)  0.000(6)  0.000(7)  0.000(8)  0.000(9)  0.000(:)  0.000(;)  0.000(?)  0.000(H)  0.000([)  0.000(])  0.000(ء)  0.000(آ)  0.000(أ)  0.000(ؤ)  0.000(إ)  0.000(ئ)  0.000(ا)  0.000(ب)  0.000(ة)  0.000(ت)  0.000(ث)  0.000(ج)  0.000(ح)  0.000(خ)  0.002(د)  0.000(ذ)  0.000(ر)  0.000(ز)  0.000(س)  0.000(ش)  0.000(ص)  0.000(ض)  0.000(ط)  0.000(ظ)  0.000(ع)  0.000(غ)  0.000(ف)  0.000(ق)  0.000(ك)  0.000(ل)  0.000(م)  0.000(ن)  0.000(ه)  0.000(و)  0.000(ى)  0.000(ي)  0.000(ً)  0.000(ٌ)  0.000(ٍ)  0.004(ّ)  0.000(ٱ)  0.994 <blank>\n",
            "####max is the blank symbole\n",
            "candidate:***(ה)***\n",
            "0.000( )  0.000(!)  0.000(\")  0.000(')  0.000(()  0.000())  0.000(,)  0.000(-)  0.000(.)  0.000(0)  0.000(1)  0.000(2)  0.000(3)  0.000(4)  0.000(5)  0.000(6)  0.000(7)  0.000(8)  0.000(9)  0.000(:)  0.000(;)  0.000(?)  0.000(H)  0.000([)  0.000(])  0.000(ء)  0.000(آ)  0.000(أ)  0.000(ؤ)  0.000(إ)  0.000(ئ)  0.000(ا)  0.000(ب)  0.000(ة)  0.000(ت)  0.000(ث)  0.000(ج)  0.000(ح)  0.000(خ)  0.000(د)  0.000(ذ)  0.000(ر)  0.000(ز)  0.000(س)  0.000(ش)  0.000(ص)  0.000(ض)  0.000(ط)  0.000(ظ)  0.000(ع)  0.000(غ)  0.000(ف)  0.000(ق)  0.000(ك)  0.000(ل)  0.000(م)  0.000(ن)  0.000(ه)  0.000(و)  0.000(ى)  0.000(ي)  0.000(ً)  0.000(ٌ)  0.000(ٍ)  0.000(ّ)  0.000(ٱ)  1.000 <blank>\n",
            "####max is the blank symbole\n",
            "candidate:***(ו)***\n",
            "0.000( )  0.000(!)  0.000(\")  0.000(')  0.000(()  0.000())  0.000(,)  0.000(-)  0.000(.)  0.000(0)  0.000(1)  0.000(2)  0.000(3)  0.000(4)  0.000(5)  0.000(6)  0.000(7)  0.000(8)  0.000(9)  0.000(:)  0.000(;)  0.000(?)  0.000(H)  0.000([)  0.000(])  0.000(ء)  0.000(آ)  0.000(أ)  0.000(ؤ)  0.000(إ)  0.000(ئ)  0.000(ا)  0.000(ب)  0.000(ة)  0.000(ت)  0.000(ث)  0.000(ج)  0.000(ح)  0.000(خ)  0.000(د)  0.000(ذ)  0.000(ر)  0.000(ز)  0.000(س)  0.000(ش)  0.000(ص)  0.000(ض)  0.000(ط)  0.000(ظ)  0.000(ع)  0.000(غ)  0.000(ف)  0.000(ق)  0.000(ك)  0.000(ل)  0.000(م)  0.000(ن)  0.000(ه)  0.436(و)  0.000(ى)  0.000(ي)  0.000(ً)  0.000(ٌ)  0.000(ٍ)  0.000(ّ)  0.000(ٱ)  0.563 <blank>\n",
            "####max is the blank symbole\n",
            "candidate:***(ז)***\n",
            "0.000( )  0.000(!)  0.000(\")  0.000(')  0.000(()  0.000())  0.000(,)  0.000(-)  0.000(.)  0.000(0)  0.000(1)  0.000(2)  0.000(3)  0.000(4)  0.000(5)  0.002(6)  0.000(7)  0.000(8)  0.000(9)  0.000(:)  0.000(;)  0.000(?)  0.000(H)  0.000([)  0.000(])  0.000(ء)  0.000(آ)  0.000(أ)  0.000(ؤ)  0.000(إ)  0.000(ئ)  0.000(ا)  0.000(ب)  0.000(ة)  0.000(ت)  0.000(ث)  0.000(ج)  0.000(ح)  0.000(خ)  0.000(د)  0.000(ذ)  0.000(ر)  0.395(ز)  0.000(س)  0.000(ش)  0.000(ص)  0.000(ض)  0.000(ط)  0.000(ظ)  0.000(ع)  0.000(غ)  0.000(ف)  0.000(ق)  0.000(ك)  0.000(ل)  0.000(م)  0.000(ن)  0.000(ه)  0.000(و)  0.000(ى)  0.000(ي)  0.000(ً)  0.000(ٌ)  0.000(ٍ)  0.007(ّ)  0.000(ٱ)  0.594 <blank>\n",
            "####max is the blank symbole\n",
            "candidate:***(ח)***\n",
            "0.000( )  0.000(!)  0.000(\")  0.000(')  0.000(()  0.000())  0.000(,)  0.000(-)  0.000(.)  0.000(0)  0.000(1)  0.000(2)  0.000(3)  0.000(4)  0.000(5)  0.000(6)  0.000(7)  0.000(8)  0.000(9)  0.000(:)  0.000(;)  0.000(?)  0.000(H)  0.000([)  0.000(])  0.000(ء)  0.000(آ)  0.000(أ)  0.000(ؤ)  0.000(إ)  0.000(ئ)  0.000(ا)  0.000(ب)  0.000(ة)  0.000(ت)  0.000(ث)  0.000(ج)  0.595(ح)  0.000(خ)  0.000(د)  0.000(ذ)  0.000(ر)  0.000(ز)  0.002(س)  0.000(ش)  0.000(ص)  0.000(ض)  0.000(ط)  0.000(ظ)  0.000(ع)  0.000(غ)  0.000(ف)  0.001(ق)  0.000(ك)  0.000(ل)  0.000(م)  0.001(ن)  0.000(ه)  0.000(و)  0.000(ى)  0.000(ي)  0.000(ً)  0.000(ٌ)  0.000(ٍ)  0.004(ّ)  0.000(ٱ)  0.397 <blank>\n",
            "prediction***(ح)***0.595\n",
            "candidate:***(ט)***\n",
            "0.000( )  0.000(!)  0.000(\")  0.000(')  0.000(()  0.000())  0.000(,)  0.000(-)  0.000(.)  0.000(0)  0.000(1)  0.000(2)  0.000(3)  0.000(4)  0.000(5)  0.000(6)  0.000(7)  0.000(8)  0.000(9)  0.000(:)  0.000(;)  0.000(?)  0.000(H)  0.000([)  0.000(])  0.000(ء)  0.000(آ)  0.000(أ)  0.000(ؤ)  0.000(إ)  0.000(ئ)  0.000(ا)  0.000(ب)  0.000(ة)  0.000(ت)  0.000(ث)  0.000(ج)  0.000(ح)  0.000(خ)  0.000(د)  0.000(ذ)  0.000(ر)  0.000(ز)  0.000(س)  0.000(ش)  0.000(ص)  0.000(ض)  0.005(ط)  0.000(ظ)  0.000(ع)  0.000(غ)  0.000(ف)  0.000(ق)  0.000(ك)  0.000(ل)  0.000(م)  0.000(ن)  0.000(ه)  0.000(و)  0.000(ى)  0.000(ي)  0.000(ً)  0.000(ٌ)  0.000(ٍ)  0.001(ّ)  0.000(ٱ)  0.994 <blank>\n",
            "####max is the blank symbole\n",
            "candidate:***(י)***\n",
            "0.000( )  0.000(!)  0.000(\")  0.000(')  0.000(()  0.000())  0.000(,)  0.000(-)  0.000(.)  0.000(0)  0.000(1)  0.000(2)  0.000(3)  0.000(4)  0.000(5)  0.000(6)  0.000(7)  0.000(8)  0.000(9)  0.000(:)  0.000(;)  0.000(?)  0.000(H)  0.000([)  0.000(])  0.000(ء)  0.000(آ)  0.000(أ)  0.000(ؤ)  0.000(إ)  0.000(ئ)  0.000(ا)  0.000(ب)  0.000(ة)  0.000(ت)  0.000(ث)  0.000(ج)  0.000(ح)  0.000(خ)  0.000(د)  0.000(ذ)  0.000(ر)  0.000(ز)  0.000(س)  0.000(ش)  0.000(ص)  0.000(ض)  0.000(ط)  0.000(ظ)  0.000(ع)  0.000(غ)  0.000(ف)  0.000(ق)  0.000(ك)  0.000(ل)  0.000(م)  0.000(ن)  0.000(ه)  0.000(و)  0.000(ى)  0.000(ي)  0.000(ً)  0.000(ٌ)  0.000(ٍ)  0.002(ّ)  0.000(ٱ)  0.997 <blank>\n",
            "####max is the blank symbole\n",
            "candidate:***(כ)***\n",
            "0.000( )  0.000(!)  0.000(\")  0.000(')  0.000(()  0.000())  0.000(,)  0.000(-)  0.000(.)  0.000(0)  0.000(1)  0.000(2)  0.000(3)  0.000(4)  0.000(5)  0.000(6)  0.000(7)  0.000(8)  0.000(9)  0.000(:)  0.000(;)  0.000(?)  0.000(H)  0.000([)  0.000(])  0.000(ء)  0.000(آ)  0.000(أ)  0.000(ؤ)  0.000(إ)  0.000(ئ)  0.000(ا)  0.000(ب)  0.000(ة)  0.000(ت)  0.000(ث)  0.000(ج)  0.000(ح)  0.000(خ)  0.000(د)  0.000(ذ)  0.000(ر)  0.000(ز)  0.000(س)  0.000(ش)  0.000(ص)  0.000(ض)  0.000(ط)  0.000(ظ)  0.000(ع)  0.000(غ)  0.000(ف)  0.000(ق)  0.005(ك)  0.000(ل)  0.000(م)  0.000(ن)  0.000(ه)  0.000(و)  0.000(ى)  0.000(ي)  0.000(ً)  0.000(ٌ)  0.000(ٍ)  0.000(ّ)  0.000(ٱ)  0.994 <blank>\n",
            "####max is the blank symbole\n",
            "candidate:***(ל)***\n",
            "0.000( )  0.000(!)  0.000(\")  0.000(')  0.000(()  0.000())  0.000(,)  0.000(-)  0.000(.)  0.000(0)  0.000(1)  0.000(2)  0.000(3)  0.000(4)  0.000(5)  0.000(6)  0.000(7)  0.000(8)  0.000(9)  0.000(:)  0.000(;)  0.000(?)  0.000(H)  0.000([)  0.000(])  0.000(ء)  0.000(آ)  0.000(أ)  0.000(ؤ)  0.000(إ)  0.000(ئ)  0.000(ا)  0.000(ب)  0.000(ة)  0.000(ت)  0.000(ث)  0.000(ج)  0.000(ح)  0.000(خ)  0.000(د)  0.000(ذ)  0.000(ر)  0.000(ز)  0.000(س)  0.000(ش)  0.000(ص)  0.000(ض)  0.000(ط)  0.000(ظ)  0.000(ع)  0.000(غ)  0.000(ف)  0.000(ق)  0.000(ك)  0.009(ل)  0.000(م)  0.000(ن)  0.000(ه)  0.000(و)  0.000(ى)  0.000(ي)  0.000(ً)  0.000(ٌ)  0.000(ٍ)  0.000(ّ)  0.000(ٱ)  0.991 <blank>\n",
            "####max is the blank symbole\n",
            "candidate:***(מ)***\n",
            "0.000( )  0.000(!)  0.000(\")  0.000(')  0.000(()  0.000())  0.000(,)  0.000(-)  0.000(.)  0.000(0)  0.000(1)  0.000(2)  0.000(3)  0.000(4)  0.000(5)  0.000(6)  0.000(7)  0.000(8)  0.000(9)  0.000(:)  0.000(;)  0.000(?)  0.000(H)  0.000([)  0.000(])  0.000(ء)  0.000(آ)  0.000(أ)  0.000(ؤ)  0.000(إ)  0.000(ئ)  0.000(ا)  0.000(ب)  0.000(ة)  0.000(ت)  0.000(ث)  0.000(ج)  0.000(ح)  0.000(خ)  0.000(د)  0.000(ذ)  0.000(ر)  0.000(ز)  0.000(س)  0.000(ش)  0.000(ص)  0.000(ض)  0.000(ط)  0.000(ظ)  0.000(ع)  0.000(غ)  0.000(ف)  0.000(ق)  0.000(ك)  0.000(ل)  0.045(م)  0.000(ن)  0.000(ه)  0.000(و)  0.000(ى)  0.000(ي)  0.000(ً)  0.000(ٌ)  0.000(ٍ)  0.036(ّ)  0.000(ٱ)  0.919 <blank>\n",
            "####max is the blank symbole\n",
            "candidate:***(נ)***\n",
            "0.000( )  0.000(!)  0.000(\")  0.000(')  0.000(()  0.000())  0.000(,)  0.000(-)  0.000(.)  0.000(0)  0.000(1)  0.000(2)  0.000(3)  0.000(4)  0.000(5)  0.000(6)  0.000(7)  0.000(8)  0.000(9)  0.000(:)  0.000(;)  0.000(?)  0.000(H)  0.000([)  0.000(])  0.000(ء)  0.000(آ)  0.000(أ)  0.000(ؤ)  0.000(إ)  0.000(ئ)  0.000(ا)  0.000(ب)  0.000(ة)  0.000(ت)  0.000(ث)  0.000(ج)  0.000(ح)  0.000(خ)  0.000(د)  0.000(ذ)  0.000(ر)  0.000(ز)  0.000(س)  0.000(ش)  0.000(ص)  0.000(ض)  0.000(ط)  0.000(ظ)  0.000(ع)  0.000(غ)  0.000(ف)  0.000(ق)  0.000(ك)  0.000(ل)  0.000(م)  0.052(ن)  0.000(ه)  0.000(و)  0.000(ى)  0.000(ي)  0.000(ً)  0.000(ٌ)  0.000(ٍ)  0.003(ّ)  0.000(ٱ)  0.944 <blank>\n",
            "####max is the blank symbole\n",
            "candidate:***(ס)***\n",
            "0.000( )  0.000(!)  0.000(\")  0.000(')  0.000(()  0.000())  0.000(,)  0.000(-)  0.000(.)  0.000(0)  0.000(1)  0.000(2)  0.000(3)  0.000(4)  0.000(5)  0.000(6)  0.000(7)  0.000(8)  0.000(9)  0.000(:)  0.000(;)  0.000(?)  0.000(H)  0.000([)  0.000(])  0.000(ء)  0.000(آ)  0.000(أ)  0.000(ؤ)  0.000(إ)  0.000(ئ)  0.000(ا)  0.000(ب)  0.000(ة)  0.000(ت)  0.000(ث)  0.000(ج)  0.000(ح)  0.000(خ)  0.000(د)  0.000(ذ)  0.000(ر)  0.000(ز)  0.960(س)  0.000(ش)  0.000(ص)  0.000(ض)  0.000(ط)  0.000(ظ)  0.000(ع)  0.000(غ)  0.000(ف)  0.000(ق)  0.000(ك)  0.000(ل)  0.000(م)  0.000(ن)  0.000(ه)  0.000(و)  0.000(ى)  0.000(ي)  0.000(ً)  0.000(ٌ)  0.000(ٍ)  0.000(ّ)  0.000(ٱ)  0.039 <blank>\n",
            "prediction***(س)***0.960\n",
            "candidate:***(ע)***\n",
            "0.000( )  0.000(!)  0.000(\")  0.000(')  0.000(()  0.000())  0.000(,)  0.000(-)  0.000(.)  0.000(0)  0.000(1)  0.000(2)  0.000(3)  0.000(4)  0.000(5)  0.000(6)  0.000(7)  0.000(8)  0.000(9)  0.000(:)  0.000(;)  0.000(?)  0.000(H)  0.000([)  0.000(])  0.000(ء)  0.000(آ)  0.000(أ)  0.000(ؤ)  0.000(إ)  0.000(ئ)  0.000(ا)  0.000(ب)  0.000(ة)  0.000(ت)  0.000(ث)  0.000(ج)  0.000(ح)  0.000(خ)  0.000(د)  0.000(ذ)  0.000(ر)  0.000(ز)  0.000(س)  0.000(ش)  0.000(ص)  0.000(ض)  0.000(ط)  0.000(ظ)  0.998(ع)  0.000(غ)  0.000(ف)  0.000(ق)  0.000(ك)  0.000(ل)  0.000(م)  0.000(ن)  0.000(ه)  0.000(و)  0.000(ى)  0.000(ي)  0.000(ً)  0.000(ٌ)  0.000(ٍ)  0.000(ّ)  0.000(ٱ)  0.002 <blank>\n",
            "prediction***(ع)***0.998\n",
            "candidate:***(פ)***\n",
            "0.000( )  0.000(!)  0.000(\")  0.000(')  0.000(()  0.000())  0.000(,)  0.000(-)  0.000(.)  0.000(0)  0.000(1)  0.000(2)  0.000(3)  0.000(4)  0.000(5)  0.000(6)  0.000(7)  0.000(8)  0.000(9)  0.000(:)  0.000(;)  0.000(?)  0.000(H)  0.000([)  0.000(])  0.000(ء)  0.000(آ)  0.000(أ)  0.000(ؤ)  0.000(إ)  0.000(ئ)  0.000(ا)  0.000(ب)  0.000(ة)  0.000(ت)  0.000(ث)  0.000(ج)  0.000(ح)  0.000(خ)  0.000(د)  0.000(ذ)  0.000(ر)  0.000(ز)  0.000(س)  0.000(ش)  0.000(ص)  0.000(ض)  0.000(ط)  0.000(ظ)  0.000(ع)  0.000(غ)  0.644(ف)  0.000(ق)  0.000(ك)  0.000(ل)  0.000(م)  0.000(ن)  0.000(ه)  0.000(و)  0.000(ى)  0.000(ي)  0.000(ً)  0.000(ٌ)  0.000(ٍ)  0.000(ّ)  0.000(ٱ)  0.355 <blank>\n",
            "prediction***(ف)***0.644\n",
            "candidate:***(צ)***\n",
            "0.000( )  0.000(!)  0.000(\")  0.000(')  0.000(()  0.000())  0.000(,)  0.000(-)  0.000(.)  0.000(0)  0.000(1)  0.000(2)  0.000(3)  0.000(4)  0.000(5)  0.000(6)  0.000(7)  0.000(8)  0.000(9)  0.000(:)  0.000(;)  0.000(?)  0.000(H)  0.000([)  0.000(])  0.000(ء)  0.000(آ)  0.000(أ)  0.000(ؤ)  0.000(إ)  0.000(ئ)  0.000(ا)  0.000(ب)  0.000(ة)  0.000(ت)  0.000(ث)  0.000(ج)  0.000(ح)  0.000(خ)  0.000(د)  0.000(ذ)  0.000(ر)  0.000(ز)  0.000(س)  0.000(ش)  0.015(ص)  0.000(ض)  0.000(ط)  0.000(ظ)  0.000(ع)  0.000(غ)  0.000(ف)  0.000(ق)  0.000(ك)  0.000(ل)  0.000(م)  0.000(ن)  0.000(ه)  0.000(و)  0.000(ى)  0.000(ي)  0.000(ً)  0.000(ٌ)  0.000(ٍ)  0.004(ّ)  0.000(ٱ)  0.981 <blank>\n",
            "####max is the blank symbole\n",
            "candidate:***(ק)***\n",
            "0.000( )  0.000(!)  0.000(\")  0.000(')  0.000(()  0.000())  0.000(,)  0.000(-)  0.000(.)  0.000(0)  0.000(1)  0.000(2)  0.000(3)  0.000(4)  0.000(5)  0.000(6)  0.000(7)  0.000(8)  0.000(9)  0.000(:)  0.000(;)  0.000(?)  0.000(H)  0.000([)  0.000(])  0.000(ء)  0.000(آ)  0.000(أ)  0.000(ؤ)  0.000(إ)  0.000(ئ)  0.000(ا)  0.000(ب)  0.000(ة)  0.000(ت)  0.000(ث)  0.000(ج)  0.000(ح)  0.000(خ)  0.000(د)  0.000(ذ)  0.000(ر)  0.000(ز)  0.000(س)  0.000(ش)  0.000(ص)  0.000(ض)  0.000(ط)  0.000(ظ)  0.000(ع)  0.000(غ)  0.000(ف)  0.980(ق)  0.000(ك)  0.000(ل)  0.000(م)  0.000(ن)  0.000(ه)  0.000(و)  0.000(ى)  0.000(ي)  0.000(ً)  0.000(ٌ)  0.000(ٍ)  0.000(ّ)  0.000(ٱ)  0.020 <blank>\n",
            "prediction***(ق)***0.980\n",
            "candidate:***(ר)***\n",
            "0.000( )  0.000(!)  0.000(\")  0.000(')  0.000(()  0.000())  0.003(,)  0.000(-)  0.000(.)  0.000(0)  0.000(1)  0.000(2)  0.000(3)  0.000(4)  0.000(5)  0.000(6)  0.000(7)  0.000(8)  0.000(9)  0.000(:)  0.000(;)  0.001(?)  0.000(H)  0.000([)  0.000(])  0.001(ء)  0.000(آ)  0.000(أ)  0.000(ؤ)  0.000(إ)  0.000(ئ)  0.000(ا)  0.000(ب)  0.000(ة)  0.000(ت)  0.000(ث)  0.000(ج)  0.000(ح)  0.000(خ)  0.000(د)  0.000(ذ)  0.705(ر)  0.000(ز)  0.000(س)  0.000(ش)  0.000(ص)  0.000(ض)  0.000(ط)  0.000(ظ)  0.000(ع)  0.000(غ)  0.000(ف)  0.000(ق)  0.000(ك)  0.000(ل)  0.000(م)  0.000(ن)  0.000(ه)  0.000(و)  0.000(ى)  0.000(ي)  0.000(ً)  0.000(ٌ)  0.000(ٍ)  0.002(ّ)  0.000(ٱ)  0.287 <blank>\n",
            "prediction***(ر)***0.705\n",
            "candidate:***(ש)***\n",
            "0.000( )  0.000(!)  0.000(\")  0.000(')  0.000(()  0.000())  0.000(,)  0.000(-)  0.000(.)  0.000(0)  0.000(1)  0.000(2)  0.000(3)  0.000(4)  0.000(5)  0.000(6)  0.000(7)  0.000(8)  0.000(9)  0.000(:)  0.000(;)  0.000(?)  0.000(H)  0.000([)  0.000(])  0.000(ء)  0.000(آ)  0.000(أ)  0.000(ؤ)  0.000(إ)  0.000(ئ)  0.000(ا)  0.000(ب)  0.000(ة)  0.000(ت)  0.000(ث)  0.000(ج)  0.000(ح)  0.000(خ)  0.000(د)  0.000(ذ)  0.000(ر)  0.000(ز)  0.000(س)  0.101(ش)  0.000(ص)  0.000(ض)  0.000(ط)  0.000(ظ)  0.000(ع)  0.000(غ)  0.000(ف)  0.000(ق)  0.000(ك)  0.000(ل)  0.000(م)  0.000(ن)  0.000(ه)  0.000(و)  0.000(ى)  0.000(ي)  0.000(ً)  0.000(ٌ)  0.000(ٍ)  0.001(ّ)  0.000(ٱ)  0.897 <blank>\n",
            "####max is the blank symbole\n",
            "candidate:***(ת)***\n",
            "0.000( )  0.000(!)  0.000(\")  0.000(')  0.000(()  0.000())  0.000(,)  0.000(-)  0.000(.)  0.000(0)  0.000(1)  0.000(2)  0.000(3)  0.000(4)  0.000(5)  0.000(6)  0.000(7)  0.000(8)  0.000(9)  0.000(:)  0.000(;)  0.000(?)  0.001(H)  0.000([)  0.000(])  0.000(ء)  0.000(آ)  0.000(أ)  0.000(ؤ)  0.000(إ)  0.000(ئ)  0.000(ا)  0.000(ب)  0.000(ة)  0.006(ت)  0.000(ث)  0.000(ج)  0.000(ح)  0.000(خ)  0.000(د)  0.000(ذ)  0.000(ر)  0.000(ز)  0.000(س)  0.000(ش)  0.000(ص)  0.000(ض)  0.000(ط)  0.000(ظ)  0.000(ع)  0.000(غ)  0.000(ف)  0.000(ق)  0.000(ك)  0.000(ل)  0.000(م)  0.001(ن)  0.000(ه)  0.000(و)  0.000(ى)  0.000(ي)  0.000(ً)  0.000(ٌ)  0.000(ٍ)  0.000(ّ)  0.000(ٱ)  0.992 <blank>\n",
            "####max is the blank symbole\n"
          ],
          "name": "stdout"
        }
      ]
    },
    {
      "cell_type": "markdown",
      "metadata": {
        "id": "T9vM09mq0ZSF",
        "colab_type": "text"
      },
      "source": [
        "##forward run text"
      ]
    },
    {
      "cell_type": "code",
      "metadata": {
        "id": "uM2_GVYmOwdT",
        "colab_type": "code",
        "colab": {
          "base_uri": "https://localhost:8080/",
          "height": 72
        },
        "outputId": "bb091a5c-6647-4207-f17e-f84686220281"
      },
      "source": [
        "CELL_NAME=\"DEF test__CTC_word_multiline\"\n",
        "\n",
        "#TODO edit code when time permits\n",
        "\n",
        "def forward_text(lines,num_of_paths=5,_BATCH_SIZE=BATCH_SIZE,print_deteils=False): \n",
        "  num_of_lines=len(lines)\n",
        "  assert(num_of_lines<=BATCH_SIZE)\n",
        "\n",
        "  inputs=[]\n",
        "  inputs_len=[]\n",
        "  for l in lines:\n",
        "    l = preprocess_JA(l)\n",
        "    l = double_hebrew(l)\n",
        "    v= encode_JA(l)\n",
        "    inputs.append(v)\n",
        "    inputs_len.append(len(v))\n",
        "\n",
        "  #PADD HORIZANTALY REST OF LINES TO FILL BATCH\n",
        "  for i in range(BATCH_SIZE-num_of_lines):\n",
        "    inputs.append([0])\n",
        "    inputs_len.append(1)\n",
        "\n",
        "  res=[]\n",
        "\n",
        "  #PADDDDDD\n",
        "  inputs = tf.keras.preprocessing.sequence.pad_sequences(inputs, \n",
        "                                                         maxlen=max_length(inputs),\n",
        "                                                         padding='post',\n",
        "                                                         value=inp_lang.char2idx[BLANK])\n",
        "    \n",
        "  inputs=tf.convert_to_tensor(inputs)\n",
        "    \n",
        "  predict_ltrs=model(inputs)\n",
        "  \n",
        "  inputs=tf.transpose(predict_ltrs,perm=[1,0,2]) #[max_time, batch_size, num_classes]\n",
        "  \n",
        "  decoded, log_probabilities=tf.nn.ctc_beam_search_decoder(\n",
        "                      inputs,\n",
        "                      inputs_len,top_paths=num_of_paths) \n",
        "\n",
        "  total_res=\"\"\n",
        "  for t in range(num_of_lines):\n",
        "    print_log(lines[t])\n",
        "    for i in reversed(range(num_of_paths)):\n",
        "      dense=tf.sparse.to_dense(decoded[i])   \n",
        "      prediction=decode_arr(dense[t])\n",
        "      print_log(\"#####PREDICTION\"+str(i)+\": \",prediction)\n",
        "    total_res+='\\n'+prediction\n",
        "  return total_res\n",
        "  \n",
        "#IMPORTED OBSERV: it seems that ctc decodes make much more than just argmax over sequences see https://towardsdatascience.com/beam-search-decoding-in-ctc-trained-neural-networks-5a889a3d85a7\n",
        "###  ا-ل-ط-ب-ي-ع-ي-ة  و-ك-ا-ل-اا   -م---ع-ع-ا-ا   ---> الطبيعية كمالاً مستعدّاً\n",
        "\n",
        "\n",
        "lines='''כמאלא\n",
        "כמאלא'''\n",
        "\n",
        "print_log_screen(forward_text(lines.split('\\n'),3,BATCH_SIZE))"
      ],
      "execution_count": 41,
      "outputs": [
        {
          "output_type": "stream",
          "text": [
            "\n",
            "6ىاح\n",
            "6ىاح\n"
          ],
          "name": "stdout"
        }
      ]
    },
    {
      "cell_type": "markdown",
      "metadata": {
        "id": "0K6i5QWGO4DS",
        "colab_type": "text"
      },
      "source": [
        "##TEST KFIR"
      ]
    },
    {
      "cell_type": "code",
      "metadata": {
        "id": "TsqzEV2rtpgF",
        "colab_type": "code",
        "colab": {
          "base_uri": "https://localhost:8080/",
          "height": 72
        },
        "outputId": "f217fe5a-1cbb-49f6-ef65-1e5c5924b0ac"
      },
      "source": [
        "CELL_NAME=\"DEF TEST KFIR\"\n",
        "#JA_lines should be allready with doubling\n",
        "#indexes - word index to be tested (if testing only on a certain word in the every line)\n",
        "def test_text_kfir(JA_lines,arr_lines,indexes=None,num_of_paths=1,SHOW_PRINT=False):   \n",
        "  num_of_lines=len(JA_lines)\n",
        "  num_of_letters= 0\n",
        "  assert(num_of_lines==len(arr_lines))\n",
        "  assert(num_of_lines<=BATCH_SIZE)\n",
        "\n",
        "  inputs=[]\n",
        "  inputs_len=[]\n",
        "  for l in JA_lines:\n",
        "    l = preprocess_JA(l)\n",
        "    #l = double_hebrew(l)\n",
        "    v=encode_JA(l)\n",
        "    inputs.append(v)\n",
        "    inputs_len.append(len(v))\n",
        "\n",
        "\n",
        "  #PADD HORIZANTALY\n",
        "  for i in range(BATCH_SIZE-num_of_lines):\n",
        "    inputs.append([0])\n",
        "    inputs_len.append(1)\n",
        "\n",
        "\n",
        "\n",
        "  res=[]\n",
        "  #PADDDDDD\n",
        "  inputs = tf.keras.preprocessing.sequence.pad_sequences(inputs, \n",
        "                                                         maxlen=max_length(inputs),\n",
        "                                                         padding='post',\n",
        "                                                         value=inp_lang.char2idx[BLANK])\n",
        "    \n",
        "  inputs=tf.convert_to_tensor(inputs)\n",
        "  predict_ltrs=model(inputs)\n",
        "\n",
        "  inputs=tf.transpose(predict_ltrs,perm=[1,0,2]) #[max_time, batch_size, num_classes]\n",
        "  \n",
        "  decoded, log_probabilities=tf.nn.ctc_beam_search_decoder(\n",
        "                      inputs,\n",
        "                      inputs_len,top_paths=num_of_paths) \n",
        "  \n",
        "  total_res=[]\n",
        "  total_edit_dist=0\n",
        "  total_normalized_edit_dist=0\n",
        "  line_counter=1\n",
        "  for t in range(num_of_lines):\n",
        "    real=arr_lines[t]\n",
        "    for i in reversed(range(num_of_paths)):\n",
        "      dense=tf.sparse.to_dense(decoded[i])   \n",
        "      prediction=decode_arr(dense[t]).strip() \n",
        "      # print_log(\"#####PREDICTION\"+str(i)+\": \",prediction)\n",
        "      total_res.append(prediction)\n",
        "    if indexes:\n",
        "      real=real.split()[indexes[t]]            \n",
        "      prediction=prediction.split()[indexes[t]]\n",
        "    ed_dist=editdistance.eval(real, prediction)\n",
        "    num_of_letters+=len(real)\n",
        "\n",
        "    normalized_ed_dist=ed_dist/len(real)\n",
        "    real,prediction=show_diff(real,prediction,'red')\n",
        "    if SHOW_PRINT:\n",
        "      print_log_screen(\"({0})\".format(line_counter),LTRchar,undouble_hebrew(JA_lines[t]),\"|\",real,\"|\",prediction,\"|\",\"{0:.4f}\".format(ed_dist))\n",
        "    line_counter+=1\n",
        "    total_normalized_edit_dist+=normalized_ed_dist\n",
        "    total_edit_dist+=ed_dist\n",
        "  return total_res,total_normalized_edit_dist,num_of_lines,total_edit_dist,num_of_letters\n",
        "  \n",
        "JA_lines='''ייככ''אאללףף\n",
        "עעלליי\n",
        "ההדד''הה\n",
        "אאללאאממאאננהה\n",
        "ווללאא'''\n",
        "\n",
        "JA_lines='''ייככ''אאללףף\n",
        "אאללאאממאאננהה ששללווםם'''\n",
        "\n",
        "# arr_lines='''يخالف\n",
        "# على\n",
        "# هذه\n",
        "# الأمانة\n",
        "# ولا'''\n",
        "\n",
        "arr_lines='''يخالف\n",
        "الأمانة الأمانة'''\n",
        "\n",
        "indexes=[0,1]\n",
        "#indexes=None\n",
        "\n",
        "\n",
        "test_text_kfir(JA_lines.split('\\n'),arr_lines.split('\\n'),indexes,SHOW_PRINT=True)"
      ],
      "execution_count": 51,
      "outputs": [
        {
          "output_type": "stream",
          "text": [
            "(1) ‫ יכ'אלף | يخالف | يخالف | 0.0000\n",
            "(2) ‫ אלאמאנה שלום | \u001b[1m\u001b[31mا\u001b[0mل\u001b[1m\u001b[31mأ\u001b[0mم\u001b[1m\u001b[31mانة\u001b[0m | \u001b[1m\u001b[31mع\u001b[0mل\u001b[1m\u001b[31mو\u001b[0mم | 5.0000\n"
          ],
          "name": "stdout"
        },
        {
          "output_type": "execute_result",
          "data": {
            "text/plain": [
              "(['يخالف', 'الأمانة علوم'], 0.7142857142857143, 2, 5, 12)"
            ]
          },
          "metadata": {
            "tags": []
          },
          "execution_count": 51
        }
      ]
    },
    {
      "cell_type": "code",
      "metadata": {
        "id": "eA5e5-59jCxY",
        "colab_type": "code",
        "colab": {
          "base_uri": "https://localhost:8080/",
          "height": 1000
        },
        "outputId": "bc8886b6-1d84-4364-aa9f-2323b9ef08a2"
      },
      "source": [
        "CELL_NAME=\"DEF test_kfir1\"\n",
        "#data_path : kfir_kuzari_test/kfir_rasag_test\n",
        "def test_kfir(data_path,SHOW_PRINT=False,indexes_filepath=None):\n",
        "  lines=load_lines(data_path)\n",
        "  pairs = create_parralel_phrases(lines)\n",
        "  if indexes_filepath:\n",
        "    indexes=[]\n",
        "    f_indexes=open(indexes_filepath,'r')\n",
        "    ind_lines=f_indexes.readlines()\n",
        "    assert(len(ind_lines)==len(lines))\n",
        "    for il in ind_lines:\n",
        "      indexes.append(int(il)) #need to iterate beacuase of the casting to int\n",
        "    f_indexes.close()    \n",
        "  # if replace_GAIN:\n",
        "  #   hebrew_lines=[heb.replace(\"גג\",\"גג''\").replace(\"גג''''\",\"גג\") for heb, arr in pairs]\n",
        "  # else:\n",
        "  #   hebrew_lines=[heb for heb, arr in pairs]\n",
        "  hebrew_lines=[heb for heb, arr in pairs]\n",
        "  arab_lines=[arr for heb, arr in pairs]\n",
        "\n",
        "  num_of_lines=len(pairs)\n",
        "  index=0\n",
        "  total_num_of_examples=0\n",
        "  total_num_of_letters=0\n",
        "  total_sum_e_d_normalized=0\n",
        "  total_sum_e_d=0\n",
        "  while index<=num_of_lines:\n",
        "    batch_hebrew=hebrew_lines[index:index+BATCH_SIZE]\n",
        "    batch_arab=arab_lines[index:index+BATCH_SIZE]\n",
        "    if indexes_filepath:\n",
        "      batch_indexes=indexes[index:index+BATCH_SIZE]\n",
        "    else:\n",
        "      batch_indexes=None\n",
        "    _,sum_of_e_d_normalized,num_of_examples,sum_of_e_d,num_of_letters=test_text_kfir(batch_hebrew,\n",
        "                                                                                     batch_arab,\n",
        "                                                                                     batch_indexes,\n",
        "                                                                                     SHOW_PRINT=SHOW_PRINT)\n",
        "    if SHOW_PRINT:\n",
        "      print_log_screen(\"BATCH (sum_of_e_d_normalized,num_of_examples): \",sum_of_e_d_normalized,num_of_examples)\n",
        "      print_log_screen(\"BATCH (sum_of_e_d,num_of_letters): \",sum_of_e_d,num_of_letters)\n",
        "    total_num_of_examples+=num_of_examples\n",
        "    total_num_of_letters+=num_of_letters\n",
        "    total_sum_e_d+=sum_of_e_d\n",
        "    total_sum_e_d_normalized+=sum_of_e_d_normalized\n",
        "    index+=BATCH_SIZE\n",
        "\n",
        "  print_log_screen(\"#examples:\",total_num_of_examples,\", accuracy:\",1-total_sum_e_d_normalized/total_num_of_examples)\n",
        "  print_log_screen(\"#letters:\",total_num_of_letters,\", accuracy1:\",1-total_sum_e_d/total_num_of_letters)\n",
        "  return total_sum_e_d_normalized/total_num_of_examples,total_sum_e_d/total_num_of_letters\n",
        "\n",
        "\n",
        "#test_kfir(kfir_kuzari_test_SWITCH,SHOW_PRINT=True)\n",
        "test_kfir(kfir_rasag_test_SWITCH,SHOW_PRINT=True)\n",
        "test_kfir(kfir_rasag_test,SHOW_PRINT=True)\n",
        "\n",
        "\n",
        "\n",
        "\n"
      ],
      "execution_count": 61,
      "outputs": [
        {
          "output_type": "stream",
          "text": [
            "loading text: /gdrive/My Drive/thesis-data/kfir1/kfir_rasag_test_SWITCH_GIM_GHAYN.txt\n",
            "len(lines) 50\n",
            "(1) ‫ דאר | دار | دار | 0.0000\n",
            "(2) ‫ אלגזא | الجزا\u001b[1m\u001b[31mء\u001b[0m | الجزا | 1.0000\n",
            "(3) ‫ וקבל | وقبل | وقبل | 0.0000\n",
            "(4) ‫ ד'לך | ذلك | ذلك | 0.0000\n",
            "(5) ‫ מא | ما | ما | 0.0000\n",
            "(6) ‫ ראי | رأى | رأى | 0.0000\n",
            "(7) ‫ אן | أن | أن\u001b[1m\u001b[31mّ\u001b[0m | 1.0000\n",
            "(8) ‫ יפרק | يفر\u001b[1m\u001b[31mّ\u001b[0mق | يفرق | 1.0000\n",
            "(9) ‫ בין | بين | بين | 0.0000\n",
            "(10) ‫ רוחה | روحه | روحه | 0.0000\n",
            "(11) ‫ וגסמה | وجسمه | وجسمه | 0.0000\n",
            "(12) ‫ אלי | إلى | إلى | 0.0000\n",
            "(13) ‫ וקת | وقت | وقت | 0.0000\n",
            "(14) ‫ אסתכמאל | استكمال | استكمال | 0.0000\n",
            "(15) ‫ אלנפוס | النفوس | النفوس | 0.0000\n",
            "(16) ‫ חתי | حتى | حت\u001b[1m\u001b[31mّ\u001b[0mى | 1.0000\n",
            "(17) ‫ יגמעהא | يجمعها | يجمعها | 0.0000\n",
            "(18) ‫ אלגמיע | الجميع | الجميع | 0.0000\n",
            "(19) ‫ עלי | على | على | 0.0000\n",
            "(20) ‫ מא | ما | ما | 0.0000\n",
            "(21) ‫ בינת | بي\u001b[1m\u001b[31mّ\u001b[0mنت | بينت | 1.0000\n",
            "(22) ‫ פלא | فلا | فلا | 0.0000\n",
            "(23) ‫ נעלם | نعلم | نعلم | 0.0000\n",
            "(24) ‫ יהודיא | يهوديّا\u001b[1m\u001b[31mً\u001b[0m | يهوديّا | 1.0000\n",
            "(25) ‫ יכ'אלף | يخالف | يخالف | 0.0000\n",
            "(26) ‫ עלי | على | على | 0.0000\n",
            "(27) ‫ הד'ה | هذه | هذه | 0.0000\n",
            "(28) ‫ אלאמאנה | الأمانة | الأمانة | 0.0000\n",
            "(29) ‫ ולא | ولا | ولا | 0.0000\n",
            "(30) ‫ יסתצעב | يستصعب | يستصعب | 0.0000\n",
            "(31) ‫ ענד | عند | عند | 0.0000\n",
            "(32) ‫ עקלה | عقله | عقله | 0.0000\n",
            "(33) ‫ כיף | كيف | كيف | 0.0000\n",
            "(34) ‫ יחיי | يحيي | يحيي | 0.0000\n",
            "(35) ‫ רבה | ربّه | ربّه | 0.0000\n",
            "(36) ‫ אלמותי | الموتى | الموتى | 0.0000\n",
            "(37) ‫ אד' | إذ | إذ | 0.0000\n",
            "(38) ‫ קד | قد | قد | 0.0000\n",
            "(39) ‫ צח | صحّ | صحّ | 0.0000\n",
            "(40) ‫ לה | له | له | 0.0000\n",
            "(41) ‫ אנה | أنه | أن\u001b[1m\u001b[31mّ\u001b[0mه | 1.0000\n",
            "(42) ‫ כ'לק | خلق | خلق | 0.0000\n",
            "(43) ‫ שיא | شيئاً | شيئاً | 0.0000\n",
            "(44) ‫ לא | لا | لا | 0.0000\n",
            "(45) ‫ מן | من | من | 0.0000\n",
            "(46) ‫ שי | شيء | شيء | 0.0000\n",
            "(47) ‫ פלא | فلا | فلا | 0.0000\n",
            "(48) ‫ יגוז | يجوز | يجوز | 0.0000\n",
            "(49) ‫ אן | أن | أن\u001b[1m\u001b[31mّ\u001b[0m | 1.0000\n",
            "(50) ‫ יסתעסר | يستعسر | يستعسر | 0.0000\n",
            "BATCH (sum_of_e_d_normalized,num_of_examples):  2.3583333333333334 50\n",
            "BATCH (sum_of_e_d,num_of_letters):  8 192\n",
            "#examples: 50 , accuracy: 0.9528333333333333\n",
            "#letters: 192 , accuracy1: 0.9583333333333334\n",
            "loading text: /gdrive/My Drive/thesis-data/kfir1/kfir_rasag_test_ORIGINAL.txt\n",
            "len(lines) 50\n",
            "(1) ‫ דאר | دار | دار | 0.0000\n",
            "(2) ‫ אלג'זא | الجزا\u001b[1m\u001b[31mء\u001b[0m | الجزا | 1.0000\n",
            "(3) ‫ וקבל | وقبل | وقبل | 0.0000\n",
            "(4) ‫ ד'לך | ذلك | ذلك | 0.0000\n",
            "(5) ‫ מא | ما | ما | 0.0000\n",
            "(6) ‫ ראי | رأى | رأى | 0.0000\n",
            "(7) ‫ אן | أن | أن\u001b[1m\u001b[31mّ\u001b[0m | 1.0000\n",
            "(8) ‫ יפרק | يفر\u001b[1m\u001b[31mّ\u001b[0mق | يفرق | 1.0000\n",
            "(9) ‫ בין | بين | بين | 0.0000\n",
            "(10) ‫ רוחה | روحه | روحه | 0.0000\n",
            "(11) ‫ וג'סמה | وجسمه | وجسمه | 0.0000\n",
            "(12) ‫ אלי | إلى | إلى | 0.0000\n",
            "(13) ‫ וקת | وقت | وقت | 0.0000\n",
            "(14) ‫ אסתכמאל | استكمال | استكمال | 0.0000\n",
            "(15) ‫ אלנפוס | النفوس | النفوس | 0.0000\n",
            "(16) ‫ חתי | حتى | حت\u001b[1m\u001b[31mّ\u001b[0mى | 1.0000\n",
            "(17) ‫ יג'מעהא | يجمعها | يجمعها | 0.0000\n",
            "(18) ‫ אלג'מיע | الجميع | الجميع | 0.0000\n",
            "(19) ‫ עלי | على | على | 0.0000\n",
            "(20) ‫ מא | ما | ما | 0.0000\n",
            "(21) ‫ בינת | بي\u001b[1m\u001b[31mّ\u001b[0mنت | بينت | 1.0000\n",
            "(22) ‫ פלא | فلا | فلا | 0.0000\n",
            "(23) ‫ נעלם | نعلم | نعلم | 0.0000\n",
            "(24) ‫ יהודיא | يهوديّا\u001b[1m\u001b[31mً\u001b[0m | يهوديّا | 1.0000\n",
            "(25) ‫ יכ'אלף | يخالف | يخالف | 0.0000\n",
            "(26) ‫ עלי | على | على | 0.0000\n",
            "(27) ‫ הד'ה | هذه | هذه | 0.0000\n",
            "(28) ‫ אלאמאנה | الأمانة | الأمانة | 0.0000\n",
            "(29) ‫ ולא | ولا | ولا | 0.0000\n",
            "(30) ‫ יסתצעב | يستصعب | يستصعب | 0.0000\n",
            "(31) ‫ ענד | عند | عند | 0.0000\n",
            "(32) ‫ עקלה | عقله | عقله | 0.0000\n",
            "(33) ‫ כיף | كيف | كيف | 0.0000\n",
            "(34) ‫ יחיי | يحيي | يحيي | 0.0000\n",
            "(35) ‫ רבה | ربّه | ربّه | 0.0000\n",
            "(36) ‫ אלמותי | الموتى | الموتى | 0.0000\n",
            "(37) ‫ אד' | إذ | إذ | 0.0000\n",
            "(38) ‫ קד | قد | قد | 0.0000\n",
            "(39) ‫ צח | صحّ | صحّ | 0.0000\n",
            "(40) ‫ לה | له | له | 0.0000\n",
            "(41) ‫ אנה | أنه | أن\u001b[1m\u001b[31mّ\u001b[0mه | 1.0000\n",
            "(42) ‫ כ'לק | خلق | خلق | 0.0000\n",
            "(43) ‫ שיא | شيئاً | شيئاً | 0.0000\n",
            "(44) ‫ לא | لا | لا | 0.0000\n",
            "(45) ‫ מן | من | من | 0.0000\n",
            "(46) ‫ שי | شيء | شيء | 0.0000\n",
            "(47) ‫ פלא | فلا | فلا | 0.0000\n",
            "(48) ‫ יג'וז | يجوز | يجوز | 0.0000\n",
            "(49) ‫ אן | أن | أن\u001b[1m\u001b[31mّ\u001b[0m | 1.0000\n",
            "(50) ‫ יסתעסר | يستعسر | يستعسر | 0.0000\n",
            "BATCH (sum_of_e_d_normalized,num_of_examples):  2.3583333333333334 50\n",
            "BATCH (sum_of_e_d,num_of_letters):  8 192\n",
            "#examples: 50 , accuracy: 0.9528333333333333\n",
            "#letters: 192 , accuracy1: 0.9583333333333334\n"
          ],
          "name": "stdout"
        },
        {
          "output_type": "execute_result",
          "data": {
            "text/plain": [
              "(0.04716666666666667, 0.041666666666666664)"
            ]
          },
          "metadata": {
            "tags": []
          },
          "execution_count": 61
        }
      ]
    },
    {
      "cell_type": "code",
      "metadata": {
        "id": "-qhhb8OaD1QT",
        "colab_type": "code",
        "colab": {
          "base_uri": "https://localhost:8080/",
          "height": 1000
        },
        "outputId": "0fb050a7-f324-4a2a-c9ee-978bf5da45aa"
      },
      "source": [
        "CELL_NAME=\"FOR NACHUM - CONTEXT ON KFIR\"\n",
        "\n",
        "#adjust test kfir to comp edits only for index word!\n",
        "DO_EMUNOT=True\n",
        "\n",
        "if DO_EMUNOT:\n",
        "  file_all = open(haemunot, \"r\")\n",
        "  file = open(kfir_rasag_test, \"r\") \n",
        "else:\n",
        "  file_all = open(haemunot, \"r\")  #no use in testing with lines from kuzari since I'm training on it.\n",
        "  file = open(kfir_kuzari_test_SWITCH, \"r\")\n",
        "\n",
        "arabic_lines=[]\n",
        "for l in file_all:\n",
        "  arabic_lines.append(remove_arab_nikud(standard_nunization(normalize_unicode(l))))\n",
        "\n",
        "greped=[]\n",
        "for l in file:\n",
        "  greped.append(remove_arab_nikud(standard_nunization(normalize_unicode(l))))\n",
        "\n",
        "#TODO maybe shuflle lines o/w alwayes return the first line...\n",
        "def grep(reg,ja,full_f,single_f,index_f):\n",
        "  #file_all = open(haemunot, \"r\")\n",
        "  for line in arabic_lines:\n",
        "      line=remove_arab_nikud(line)     \n",
        "      JA_line,arab_line=line.split('\\t')\n",
        "      if re.search(reg, arab_line):          \n",
        "          arab_words=arab_line.split()\n",
        "          JA_words=JA_line.split()\n",
        "          reg_ind=arab_words.index(reg.strip(\" $^\"))\n",
        "          if (not JA_words[reg_ind]==ja):\n",
        "            #TODO search for other option in text....\n",
        "             print(\"ja:\"+ja+ \"JA_words[reg_ind]:\" +JA_words[reg_ind])\n",
        "             print(\"JA_WORDS[reg_ind] (my version) will be outputed to both tests (with and without context)\")\n",
        "          assert(len(JA_words)==len(arab_words)) #MAYBE NOT ALWAYS THE CASE!!!          \n",
        "          arab_text=[]\n",
        "          JA_text=[]\n",
        "          for i in range(len(arab_words)):\n",
        "            if i==reg_ind:\n",
        "              arab_text.append(colored(arab_words[i],'red'))\n",
        "              JA_text.append(colored(JA_words[i],'red'))\n",
        "            else:\n",
        "              arab_text.append(arab_words[i]) \n",
        "              JA_text.append(JA_words[i])\n",
        "          full_line=\" \".join(JA_text)+'\\t'+\" \".join(arab_text)+'\\t'+str(reg_ind)\n",
        "          full_f.write(\" \".join(JA_words)+'\\t'+\" \".join(arab_words)+'\\n')\n",
        "          index_f.write(str(reg_ind)+'\\n')\n",
        "          single_words=JA_words[reg_ind]+'\\t'+arab_words[reg_ind]\n",
        "          single_f.write(single_words+'\\n')\n",
        "          return full_line\n",
        "  return\n",
        "          \n",
        "\n",
        "not_found_counter=0\n",
        "\n",
        "f1=open(\"with_context.txt\",'w+')\n",
        "f2=open(\"no_context.txt\",'w+')\n",
        "f3=open(\"context_idexes.txt\",'w+')\n",
        "\n",
        "for l in greped:  \n",
        "  arab=l.split('\\t')[1].strip()\n",
        "  ja=l.split('\\t')[0].strip()\n",
        " # print(ja)\n",
        "  if DO_EMUNOT:\n",
        "    ja=ja.replace(\"ג\",\"ג'\").replace(\"ג''\",\"ג\")    ##only for kuzari - change to regular (or won't grep)\n",
        " # print(ja)\n",
        "  arab=' '+arab+' ' \n",
        "  found=grep(arab,ja,f1,f2,f3)\n",
        " # print(\"grep: \"+arab)\n",
        "  if not found:\n",
        "    found=grep(\"^\"+arab.lstrip(),ja,f1,f2,f3)\n",
        "    if not found:\n",
        "      found=grep(arab.rstrip()+\"$\",ja,f1,f2,f3)\n",
        "      if not found:\n",
        "        not_found_counter+=1\n",
        "  if not found:\n",
        "    print(\"not found:\"+arab)\n",
        "  else:\n",
        "    print(found)\n",
        "f1.close()\n",
        "f2.close()\n",
        "f3.close()\n",
        "print(\"#not founds:\"+str(not_found_counter))"
      ],
      "execution_count": 62,
      "outputs": [
        {
          "output_type": "stream",
          "text": [
            "פי \u001b[31mדאר\u001b[0m אלדניא . ואבתדי\tفي \u001b[31mدار\u001b[0m الدنيا . وابتدئ\t1\n",
            "ja:אלגזאJA_words[reg_ind]:אלג'זא\n",
            "JA_WORDS[reg_ind] (my version) will be outputed to both tests (with and without context)\n",
            "נפענא עלי \u001b[31mאלג'זא\u001b[0m אצ'עאף\tنفعنا على \u001b[31mالجزاء\u001b[0m أضعاف\t2\n",
            ". \u001b[31mוקבל\u001b[0m ד'לך מא ראי אן\t. \u001b[31mوقبل\u001b[0m ذلك ما رأى أن\t1\n",
            "מת'ל \u001b[31mד'לך\u001b[0m בקולה : H H\tمثل \u001b[31mذلك\u001b[0m بقوله : H H\t1\n",
            "אמא עלי את'ר \u001b[31mמא\u001b[0m אפתתחנא\tأمّا على إثر \u001b[31mما\u001b[0m افتتحنا\t3\n",
            "ואחד מן \u001b[31mראי\u001b[0m נפסה פי אכ'טארה\tواحد من \u001b[31mرأى\u001b[0m نفسه في إخطاره\t2\n",
            "H H H . וארי \u001b[31mאן\u001b[0m אג'על\tH H H . وأرى \u001b[31mأن\u001b[0m أجعل\t5\n",
            "\u001b[31mיפרק\u001b[0m בין רוחה וג'סמה\t\u001b[31mيفرّق\u001b[0m بين روحه وجسمه\t0\n",
            "אלוקוף \u001b[31mבין\u001b[0m ידיה פלא יערפה\tالوقوف \u001b[31mبين\u001b[0m يديه فلا يعرفه\t1\n",
            "וטארת \u001b[31mרוחה\u001b[0m כמא קאל H\tوطارت \u001b[31mروحه\u001b[0m كما قال H\t1\n",
            "ja:וגסמהJA_words[reg_ind]:וג'סמה\n",
            "JA_WORDS[reg_ind] (my version) will be outputed to both tests (with and without context)\n",
            "יפרק בין רוחה \u001b[31mוג'סמה\u001b[0m\tيفرّق بين روحه \u001b[31mوجسمه\u001b[0m\t3\n",
            "חתי יתם וצולהם \u001b[31mאלי\u001b[0m אלמטלוב\tحتّى يتمّ وصولهم \u001b[31mإلى\u001b[0m المطلوب\t3\n",
            "אי \u001b[31mוקת\u001b[0m טלעתה כד'אך ואשד\tأي \u001b[31mوقت\u001b[0m طلعته كذاك وأشد\t1\n",
            "אלי וקת \u001b[31mאסתכמאל\u001b[0m אלנפוס\tإلى وقت \u001b[31mاستكمال\u001b[0m النفوس\t2\n",
            "פי \u001b[31mאלנפוס\u001b[0m פמאזג'תהא פצאר\tفي \u001b[31mالنفوس\u001b[0m فمازجتها فصار\t1\n",
            "וכל נאר \u001b[31mחתי\u001b[0m תלחק בתראב\tوكل نار \u001b[31mحتى\u001b[0m تلحق بتراب\t2\n",
            "ja:יגמעהאJA_words[reg_ind]:יג'מעהא\n",
            "JA_WORDS[reg_ind] (my version) will be outputed to both tests (with and without context)\n",
            "מן גירכם \u001b[31mיג'מעהא\u001b[0m אלי\tمن غيركم \u001b[31mيجمعها\u001b[0m إلى\t2\n",
            "ja:אלגמיעJA_words[reg_ind]:אלג'מיע\n",
            "JA_WORDS[reg_ind] (my version) will be outputed to both tests (with and without context)\n",
            ". ואכת'ר מן \u001b[31mאלג'מיע\u001b[0m מן\t. وأكثر من \u001b[31mالجميع\u001b[0m من\t3\n",
            "אמא \u001b[31mעלי\u001b[0m את'ר מא אפתתחנא\tأمّا \u001b[31mعلى\u001b[0m إثر ما افتتحنا\t1\n",
            "אמא עלי את'ר \u001b[31mמא\u001b[0m אפתתחנא\tأمّا على إثر \u001b[31mما\u001b[0m افتتحنا\t3\n",
            ". פאד' קד \u001b[31mבינת\u001b[0m הד'ה אלמקדמה\t. فإذا قد \u001b[31mبيّنت\u001b[0m هذه المقدمة\t3\n",
            "אלוקוף בין ידיה \u001b[31mפלא\u001b[0m יערפה\tالوقوف بين يديه \u001b[31mفلا\u001b[0m يعرفه\t3\n",
            "אן \u001b[31mנעלם\u001b[0m כיף ננט'ר ת'ם\tأن \u001b[31mنعلم\u001b[0m كيف ننظر ثمّ\t1\n",
            "not found: يهوديّاً \n",
            "\u001b[31mיכ'אלף\u001b[0m חקיקהֿ אלשי ,\t\u001b[31mيخالف\u001b[0m حقيقة لاشيء ,\t0\n",
            "אמא \u001b[31mעלי\u001b[0m את'ר מא אפתתחנא\tأمّا \u001b[31mعلى\u001b[0m إثر ما افتتحنا\t1\n",
            "אן \u001b[31mהד'ה\u001b[0m אלצ'רוב לא יסתפיד\tأنّ \u001b[31mهذه\u001b[0m الضروب لا يستفيد\t1\n",
            "למן כ'אלפנא פי הד'ה \u001b[31mאלאמאנה\u001b[0m\tلمن خالفنا في هذه \u001b[31mالأمانة\u001b[0m\t4\n",
            "אללבוס \u001b[31mולא\u001b[0m כ'איץ' יצעדהם\tالّلبوس \u001b[31mولا\u001b[0m خائضٌ يصعدهم\t1\n",
            "ולא \u001b[31mיסתצעב\u001b[0m ענד עקלה כיף\tولا \u001b[31mيستصعب\u001b[0m عند عقله كيف\t1\n",
            "אנמא הו \u001b[31mענד\u001b[0m עואמהם כמא\tإنّما هو \u001b[31mعند\u001b[0m عوامهم كما\t2\n",
            "לם יקם פי \u001b[31mעקלה\u001b[0m פאן הד'ה\tلم يقم في \u001b[31mعقله\u001b[0m فإنّ هذه\t3\n",
            "פינבגי אן נשרח \u001b[31mכיף\u001b[0m אלאסתדלאל\tفينبغي أن نشرح \u001b[31mكيف\u001b[0m الاستدلال\t3\n",
            "אן \u001b[31mיחיי\u001b[0m בחכמה וימית בחכמה\tأن \u001b[31mيحيي\u001b[0m بحكمة ويميت بحكمة\t1\n",
            "בהד'א ד'נבה עלי \u001b[31mרבה\u001b[0m לכנה\tبهذا ذنبه على \u001b[31mربّه\u001b[0m لكنّه\t3\n",
            "פי אחיה \u001b[31mאלמותי\u001b[0m . אלמקאלה\tفي إحياء \u001b[31mالموتى\u001b[0m . المقالة\t2\n",
            "אלמאל \u001b[31mאד'\u001b[0m קאל : H H H\tالمال \u001b[31mإذ\u001b[0m قال : H H H\t1\n",
            ". ומנהם מן \u001b[31mקד\u001b[0m וצל אלי\t. ومنهم من \u001b[31mقد\u001b[0m وصل إلى\t3\n",
            "כת'ירה פאד'א \u001b[31mצח\u001b[0m אן ד'לך\tكثيرة فإذا \u001b[31mصحّ\u001b[0m أنّ ذلك\t2\n",
            "יתפק \u001b[31mלה\u001b[0m אן יואפיה והו\tيتّفق \u001b[31mله\u001b[0m أن يوافيه وهو\t1\n",
            "לם יצח ענדה \u001b[31mאנה\u001b[0m ופאה\tلم يصحّ عنده \u001b[31mأنه\u001b[0m وفّاه\t3\n",
            "אן אלקול באנה \u001b[31mכ'לק\u001b[0m שיא\tأن القول بأنه \u001b[31mخلق\u001b[0m شيئاً\t3\n",
            "חסנא \u001b[31mשיא\u001b[0m מא ותחקקה ,\tحسّنا \u001b[31mشيئاً\u001b[0m ما وتحقّقه ,\t1\n",
            "קולא קריבא \u001b[31mלא\u001b[0m בעידא מן\tقولاً قريباً \u001b[31mلا\u001b[0m بعيداً من\t2\n",
            "בה \u001b[31mמן\u001b[0m חמד רבנא ואלת'נא\tبه \u001b[31mمن\u001b[0m حمد ربّنا والثناء\t1\n",
            "לכל \u001b[31mשי\u001b[0m מעלום באלחאל אלתי\tلكل \u001b[31mشيء\u001b[0m معلوم بالحال التي\t1\n",
            "אלוקוף בין ידיה \u001b[31mפלא\u001b[0m יערפה\tالوقوف بين يديه \u001b[31mفلا\u001b[0m يعرفه\t3\n",
            "ja:יגוזJA_words[reg_ind]:יג'וז\n",
            "JA_WORDS[reg_ind] (my version) will be outputed to both tests (with and without context)\n",
            "בל לא \u001b[31mיג'וז\u001b[0m אן יכון פעל\tبل لا \u001b[31mيجوز\u001b[0m أن يكون فعل\t2\n",
            "H H H . וארי \u001b[31mאן\u001b[0m אג'על\tH H H . وأرى \u001b[31mأن\u001b[0m أجعل\t5\n",
            "\u001b[31mיסתעסר\u001b[0m לה אן יעיד שיא\t\u001b[31mيستعسر\u001b[0m له أن يعيد شيئاً\t0\n",
            "#not founds:1\n"
          ],
          "name": "stdout"
        }
      ]
    },
    {
      "cell_type": "code",
      "metadata": {
        "id": "QNrQSIk2f9iG",
        "colab_type": "code",
        "colab": {}
      },
      "source": [
        "CELL_NAME=\"FOR NACHUM - CONTEXT ON KFIR 1\"\n",
        "\n",
        "PRINT_DETAILED=True\n",
        "\n",
        "#model=load_checkpoint('/gdrive/My Drive/checkpoints/2020-05-04 12:32:58.607342/ckpt')  #THIS IS THE FIRST ACTIVATIION, BY WHICH I PRODUCED THE EXCEL FOR NACHUM\n",
        "\n",
        "#model=load_checkpoint('/gdrive/My Drive/checkpoints/2020-05-05 13:01:42.636420/ckpt')\n",
        "#if STATEFUL:\n",
        "model.reset_states()\n",
        "test_kfir(\"with_context.txt\",replace_GAIN=True,SHOW_PRINT=PRINT_DETAILED,index_path=\"context_idexes.txt\")\n",
        "\n",
        "print(\"=\"*200)\n",
        "#if STATEFUL:\n",
        "model.reset_states()\n",
        "\n",
        "test_kfir(\"no_context.txt\",replace_GAIN=True,SHOW_PRINT=PRINT_DETAILED)\n",
        "\n",
        "# print(\"=\"*200)\n",
        "# model.reset_states()\n",
        "\n",
        "# test_kfir(\"no_context.txt\",True)\n",
        "\n",
        "# print(\"=\"*200)\n",
        "# model.reset_states()\n",
        "\n",
        "# test_kfir(\"no_context.txt\",True)\n",
        "\n",
        "#model.reset_states()\n",
        "#test_kfir(kfir_rasag_test,True)"
      ],
      "execution_count": 0,
      "outputs": []
    },
    {
      "cell_type": "markdown",
      "metadata": {
        "id": "DjJv0g7qoF5L",
        "colab_type": "text"
      },
      "source": [
        "##test baseline"
      ]
    },
    {
      "cell_type": "code",
      "metadata": {
        "id": "bnZGDfiE4brU",
        "colab_type": "code",
        "colab": {}
      },
      "source": [
        "CELL_NAME=\"TEST_BASELINE\"\n",
        "\n",
        "def baseline(this_dataset=test_dataset_double_kuzari,print_only_first_in_bath=True,limit=False):\n",
        "  num_of_paths=1\n",
        "  total_loss=0\n",
        "  total_accuracy=0\n",
        "  total_examples=0\n",
        "  line_counter=1\n",
        "  if limit:\n",
        "    this_dataset=this_dataset.take(limit)\n",
        "  for input_batch, target_batch, inputs_len,targets_len in this_dataset:\t\t\t\n",
        "          for i in range(BATCH_SIZE):\n",
        "                heb_input=decode_JA(input_batch[i])\n",
        "                heb_input=undouble_hebrew(heb_input).strip(BLANK)\n",
        "                prediction=simple_letter_map(heb_input)\n",
        "                real=decode_arr(target_batch[i],targets_len[i].numpy()).strip(BLANK)\n",
        "                accuracy=editdistance.eval(real, prediction)\n",
        "                accuracy/=len(real)\n",
        "                total_accuracy+=accuracy\n",
        "                if print_only_first_in_bath and i!=0:\n",
        "                    continue\n",
        "                real,prediction=show_diff(real,prediction,'red')\n",
        "                print_log_screen(\"({0})\".format(line_counter),LTRchar,heb_input.strip(BLANK),\"|\",real,\"|\",prediction,\"|\",\"{0:.4f}\".format(accuracy))\n",
        "                line_counter+=1\n",
        "          total_examples+=BATCH_SIZE\n",
        "\t\t\t\t\t\t\t \n",
        "  if total_accuracy!=0:\n",
        "    total_accuracy/=total_examples\n",
        "    print_log_screen(\"baseline accuracy: \",1-total_accuracy)\n",
        "\t\t\t\t\t\t\t\t\t\t\t\t\n",
        "  return 1-total_accuracy\n",
        "#baseline(limit=3)\n"
      ],
      "execution_count": 0,
      "outputs": []
    },
    {
      "cell_type": "code",
      "metadata": {
        "id": "6WehJRO5foBi",
        "colab_type": "code",
        "colab": {}
      },
      "source": [
        "baseline(limit=3)\n",
        "# print_log_screen(\"KUZARI TEST\")\n",
        "# baseline(test_dataset_double_kuzari)\n",
        "# print_log_screen(\"RASAG TEST\")\n",
        "# baseline(test_dataset_double_rasag)\n",
        "\n",
        "\n"
      ],
      "execution_count": 0,
      "outputs": []
    },
    {
      "cell_type": "markdown",
      "metadata": {
        "id": "zKWMVLTywwIW",
        "colab_type": "text"
      },
      "source": [
        "##TEST BASELINE KFIR"
      ]
    },
    {
      "cell_type": "code",
      "metadata": {
        "id": "QlrcOFoswu-7",
        "colab_type": "code",
        "colab": {}
      },
      "source": [
        "CELL_NAME=\"DEF TEST_BASELINE_KFIR\"\n",
        "\n",
        "\n",
        "\n",
        "\n",
        "\n",
        "#only once per file\n",
        "kfir_rasag_lines=preprocess_lines(\n",
        "    load_lines(kfir_rasag_test)\n",
        ")\n",
        "kfir_rasag_phrases=create_parralel_phrases(kfir_rasag_lines,1)\n",
        "\n",
        "kfir_kuzari_lines=preprocess_lines(\n",
        "    load_lines(kfir_kuzari_test)\n",
        ")\n",
        "kfir_kuzari_phrases=create_parralel_phrases(kfir_kuzari_lines,1)\n",
        "\n",
        "\n",
        "#data_path options:\n",
        "# kfir_kuzari_test\n",
        "# kfir_rasag_test\n",
        "\n",
        "#replace_GAIN - replace JAIN with GIMEL\n",
        "\n",
        "\n",
        "\n",
        "\n",
        "def baseline_kfir(pairs,replace_GAIN=False,SHOW_PRINT=False): \n",
        "  if replace_GAIN:\n",
        "    print_log_screen(\"replaceing gimel with jain to match my train convention\")\n",
        "    hebrew_lines=[heb.replace(\"גג\",\"גג''\").replace(\"גג''''\",\"גג\") for heb, arr in pairs] #ייננבבגג''יי\n",
        "  else:\n",
        "    hebrew_lines=[heb for heb, arr in pairs]\n",
        "  arab_lines=[arr for heb, arr in pairs]\n",
        "  \n",
        "  total_examples=len(pairs)\n",
        "  total_loss=0\n",
        "  sum_of_e_dist=0\n",
        "  num_of_letters=0\n",
        "  for l in arab_lines:\n",
        "    num_of_letters+=len(l)\n",
        "  total_accuracy=0\n",
        "  line_counter=1\n",
        "  for heb_input,real in zip(hebrew_lines,arab_lines):\n",
        "                heb_input=undouble_hebrew(heb_input).strip(BLANK)\n",
        "                prediction=simple_letter_map(heb_input)                \n",
        "                accuracy=editdistance.eval(real, prediction)\n",
        "                normalized_accuracy=accuracy/len(real)\n",
        "                total_accuracy+=normalized_accuracy\n",
        "                real,prediction=show_diff(real,prediction,'red')\n",
        "                sum_of_e_dist+=accuracy\n",
        "                if SHOW_PRINT:\n",
        "                  print_log_screen(\"({0})\".format(line_counter),LTRchar,heb_input.strip(BLANK),\"|\",real,\"|\",prediction,\"|\",str(accuracy))\n",
        "                line_counter+=1\n",
        "\t\t\t\t\t\t\t   \n",
        "  total_accuracy/=total_examples\n",
        "  sum_of_e_dist/num_of_letters\n",
        "  print_log_screen(\"accuracy: \",1-total_accuracy)\n",
        "  print_log_screen(\"accuracy1: \",1-sum_of_e_dist/num_of_letters)\n",
        "\t\t\t\t\t\t\t\t\t\t\t\t\n",
        "  return 0,total_accuracy,sum_of_e_dist/num_of_letters\n",
        "#baseline(limit=3)\n",
        "#baseline_kfir(kfir_kuzari_phrases)\n",
        "baseline_kfir(kfir_kuzari_phrases,False,True)\n",
        "#baseline_kfir(kfir_rasag_phrases)\n",
        "baseline_kfir(kfir_rasag_phrases,False,True)"
      ],
      "execution_count": 0,
      "outputs": []
    },
    {
      "cell_type": "markdown",
      "metadata": {
        "id": "DVLQxjcHkq74",
        "colab_type": "text"
      },
      "source": [
        "##test our model"
      ]
    },
    {
      "cell_type": "code",
      "metadata": {
        "id": "e1pus1Jr4rLk",
        "colab_type": "code",
        "colab": {}
      },
      "source": [
        "CELL_NAME=\"DEF general TEST_LOSS\"\n",
        "\n",
        "\n",
        "def test(this_dataset=test_dataset_double_kuzari,only_first=True,limit=False):\n",
        "  num_of_paths=1\n",
        "  total_loss=0\n",
        "  total_accuracy=0\n",
        "  total_examples=0\n",
        "  line_counter=1\n",
        "  if limit:\n",
        "    this_dataset=this_dataset.take(limit)\n",
        "  for input_example_batch, target_example_batch, inputs_len,targets_len in this_dataset:\n",
        "          predictions = model(input_example_batch)                 \n",
        "          logits=tf.transpose(predictions,perm=[1,0,2])    \n",
        "          #loss=tf.nn.ctc_loss_v2(target_example_batch,logits, targets_len,inputs_len,blank_index=targ_lang.char2idx[BLANK])\n",
        "          loss=tf.nn.ctc_loss(target_example_batch,logits, targets_len,inputs_len,blank_index=targ_lang.char2idx[BLANK])\n",
        "          cost = tf.reduce_mean(loss)\n",
        "          total_loss+=cost \n",
        "          \n",
        "          \n",
        "          #decoded, log_probabilities=tf.nn.ctc_beam_search_decoder_v2(\n",
        "          decoded, log_probabilities=tf.nn.ctc_beam_search_decoder(\n",
        "                      logits,\n",
        "                      inputs_len,top_paths=num_of_paths) \n",
        "          dense=tf.sparse.to_dense(decoded[0])\n",
        "            \n",
        "          for i in range(BATCH_SIZE):\n",
        "                heb_input=decode_JA(input_example_batch[i])\n",
        "\n",
        "                heb_input=undouble_hebrew(heb_input).strip(BLANK)\n",
        "                prediction=decode_arr(dense[i]).strip() #SHOULD BE STRING(BLANKS)?\n",
        "                real=decode_arr(target_example_batch[i],targets_len[i].numpy()).strip(BLANK)  \n",
        "                accuracy=editdistance.eval(real, prediction)\n",
        "                accuracy/=len(real)\n",
        "                total_accuracy+=accuracy\n",
        "                if only_first and i!=0: \n",
        "                  continue\n",
        "                real,prediction=show_diff(real,prediction,'red')\n",
        "                print_log_screen(\"({0})\".format(line_counter),LTRchar,heb_input.strip(BLANK),\"|\",real,\"|\",prediction,\"|\",\"{0:.4f}\".format(accuracy))\n",
        "                line_counter+=1\n",
        "\n",
        "          total_examples+=BATCH_SIZE\n",
        "  #total_loss/=total_examples\n",
        "  if total_accuracy!=0:\n",
        "    total_accuracy/=total_examples\n",
        "    print_log_screen(\"LER (label error rate): \",total_accuracy)\n",
        "  #print_log(\"total_test loss: \",total_loss.numpy())\n",
        "  return total_loss.numpy(),total_accuracy\n",
        "\n",
        "#test(limit=3)"
      ],
      "execution_count": 0,
      "outputs": []
    },
    {
      "cell_type": "code",
      "metadata": {
        "id": "rpW54oxAkxCo",
        "colab_type": "code",
        "colab": {}
      },
      "source": [
        "test(test_dataset_double_kuzari,limit=3)"
      ],
      "execution_count": 0,
      "outputs": []
    },
    {
      "cell_type": "markdown",
      "metadata": {
        "id": "hcIFcI-ghO2f",
        "colab_type": "text"
      },
      "source": [
        "##test guide perplex"
      ]
    },
    {
      "cell_type": "code",
      "metadata": {
        "colab_type": "code",
        "id": "DGjAhEUfxbRc",
        "colab": {}
      },
      "source": [
        "CELL_NAME=\"GUIDE TEXT\"\n",
        "#NOTICE:there's a mix up compared to the arab translitartaion by attai in the 5 6 raw mark here in brackets\n",
        "\n",
        "###TODO : change hebrew insertion to \"H\"\n",
        "\n",
        "#THIS IS THE ORIGNAL FROM THE GNIZA WEBSITE\n",
        "guide_text='''כנת איהא אלתלמיד' אלעזיז עברית-ר' עברית-יוסף עברית-ש\"צ עברית-ב\"ר \n",
        "עברית-יהודה עברית-נ\"ע למא מת'לת ענדי וקצדת\n",
        " מן אקאצי אלבלאד ללקראה עלי , עט'ם שאנך ענדי לשדהֿ חרצך עלי \n",
        " אלטלב ולמא ראיתה פי אשעארך מן שדה' אלאשתיאק ללאמור אלנט'ריה וכאן ד'לך מנד' וצלתני רסאילך ומקאמאתך מן\n",
        "אלאסכנדריה קבל אן אמתחן\n",
        "תצורך וקלת לעל שוקה אקוי מן אדראכה פלמא קראת עלי מא קד\n",
        "קראתה מן עלם אלהיאה ומא תקדם לך ממא לא בד מנה תוטיה להא מן אלתעאלים \n",
        "זדת בך גבטה לג'ודה' ד'הנך וסרעה' תצורך וראית שוקך ללתעאלים \n",
        "עט'ימא פתרכתך ללארתיאץ' פיהא לעלמי במאלך.   \n",
        "פלמא קראת עלי מא קד קראתה מן צנאעה' אלמנטק תעלקת אמאלי בך \n",
        "וראיתך אהלא לתכשף לך אסראר אלכתב אלנבויה חתי תטלע מנהא עלי מא ינבגי \n",
        "אן יטלע עליה אלכאמלון פאכ'ד'ת אן אלוח לך תלויחאת ואשיר לך באשאראת\n",
        "פראיתך תטלב מני אלאזדיאד וסמתני אן אבין לך אשיא מן אלאמור'''\n",
        "\n",
        "guide_text=re.sub(r'עברית-[^\\s]+', 'H',guide_text)\n",
        "guide_lines=guide_text.split('\\n')\n",
        "\n",
        "for l in guide_lines:\n",
        "  print(LTRchar+l)\n",
        "\n",
        "#AND THIS IS FROM THE SECOND PAGE ON (in attai book)\n",
        "#      אלאלאהיה ואן אכ'ברך בהד'ה מקאצד\n",
        "# אלמתכלמין והל תלך אלטרק ברהאניה ואן לם תכן פמן אי צנאעה הי\n",
        "# וראיתך קד שדות שיא מן ד'לך עלי גירי ואנת חאיר קד בדתך אלדהשה\n",
        "# ונפסך אלשריפה תטאלבך למצא דברי חפץ פלם אזל אדפעך ען ד'לך\n",
        "# ואמרך אן תאכ'ד' אלאשיא עלי תרתיב קצדא מני אן יצח לך אלחק\n",
        "# בטרקה לא אן יקע אליקין באלערץ' ולם אמתנע טאל אג'תמאעך בי אד'א\n",
        "# מא ד'כר עברית-פסוק או נץ מן נצוץ אלחכמים פיה תנביה עלי מעני גריב מן\n",
        "# תביין ד'לך לך . פלמא קדר אללה באלאפתראק ותוג'הת אלי חית' תוג'הת\n",
        "# את'ארת מני תלך אלאג'תמאעאת עזימה קד כאנת פתרת וחרכתני גיבתך\n",
        "# לוצ'ע הד'ה אלמקאלה אלתי וצ'עתהא לך ולאמת'אלך וקלילא מא הם\n",
        "# וג'עלתהא פצולא מנת'ורה וכל מא אנכתב מנהא פהו יצלך אולא אולא\n",
        "# חית' כנת ואנת סאלם'''"
      ],
      "execution_count": 0,
      "outputs": []
    },
    {
      "cell_type": "code",
      "metadata": {
        "id": "tbZb2SwOhSxT",
        "colab_type": "code",
        "colab": {}
      },
      "source": [
        "CELL_NAME=\"DEF TEST_GUIDE\"\n",
        "\n",
        "def test_guide(limit=1000000,num_of_paths=5):\n",
        "  return forward_text(guide_lines,num_of_paths,BATCH_SIZE)\n",
        "print_log_screen(test_guide())"
      ],
      "execution_count": 0,
      "outputs": []
    },
    {
      "cell_type": "markdown",
      "metadata": {
        "id": "NpeiuwvnOySt",
        "colab_type": "text"
      },
      "source": [
        "#TRAIN"
      ]
    },
    {
      "cell_type": "markdown",
      "metadata": {
        "id": "EqCrkXujeClQ",
        "colab_type": "text"
      },
      "source": [
        "##pre-train letters"
      ]
    },
    {
      "cell_type": "code",
      "metadata": {
        "id": "bq9adhW06Rjb",
        "colab_type": "code",
        "colab": {}
      },
      "source": [
        "CELL_NAME=\"DEF pretrain_letters\"\n",
        "#train only non-tag letters with cross_entropy\n",
        "\n",
        "\n",
        "\n",
        "\n",
        "LEN=10\n",
        "\n",
        "def pretrain_letters(EPOCHS=10000,_BATCH_SIZE=BATCH_SIZE):\n",
        "  \n",
        "  for epoch in range(EPOCHS):\n",
        "    total_loss=0\n",
        "    if STATEFUL:\n",
        "      hidden = model.reset_states()  #needed?\n",
        "    for batch_n in range(30):\n",
        "        inp=[]\n",
        "        target=[]\n",
        "        for i in range(_BATCH_SIZE):\n",
        "          #draw hebrew letter with tag or not. translate to ints   ###SHOULD USE THE DICT #arab_heb_maping\n",
        "          heb_res=[]\n",
        "          arab_res=[]\n",
        "          for jj in range(LEN):\n",
        "            choosen_arr=random.choice(list(arab_heb_maping.keys()))            \n",
        "            choosen_heb=arab_heb_maping[choosen_arr]\n",
        "            if len(choosen_heb)==2:\n",
        "              heb_res.append(choosen_heb[0])\n",
        "            else:\n",
        "              heb_res.append(choosen_heb)\n",
        "            arab_res.append(choosen_arr)       \n",
        "          heb_choosen_int=[inp_lang.char2idx[cr] for cr in heb_res]\n",
        "          arab_choosen_int=[targ_lang.char2idx[cr] for cr in arab_res]              \n",
        "          inp.append(heb_choosen_int)          \n",
        "          target.append(arab_choosen_int)    \n",
        "\n",
        "        inp=tf.convert_to_tensor(inp)\n",
        "        target=tf.convert_to_tensor(target)\n",
        "        \n",
        "        with tf.GradientTape() as tape:\n",
        "            predictions = model(inp)   \n",
        "            cost = tf.compat.v1.losses.sparse_softmax_cross_entropy(target, predictions)\n",
        "            total_loss+=cost\n",
        "\n",
        "        grads = tape.gradient(cost, model.trainable_variables)\n",
        "        optimizer.apply_gradients(zip(grads, model.trainable_variables))\n",
        "\n",
        "    template = 'Epoch {} Loss {:.4f}'\n",
        "    #test_single_letters()\n",
        "    print_log_screen(template.format(epoch+1,  total_loss))\n"
      ],
      "execution_count": 0,
      "outputs": []
    },
    {
      "cell_type": "code",
      "metadata": {
        "id": "JJQQCzYQPWy0",
        "colab_type": "code",
        "colab": {}
      },
      "source": [
        "# BASIC_MODEL=\"/gdrive/My Drive/checkpoints/BASIC_MODEL_PRETRAIN\"\n",
        "\n",
        "\n",
        "# optimizer = tf.compat.v1.train.RMSPropOptimizer(0.001)\n",
        "\n",
        "# #model=load_checkpoint(BASIC_MODEL)\n",
        "# pretrain_letters(10)\n",
        "\n",
        "# save_checkpoint(\"\",ckp_path=BASIC_MODEL)\n"
      ],
      "execution_count": 0,
      "outputs": []
    },
    {
      "cell_type": "code",
      "metadata": {
        "id": "OUMwJyqa6ZA-",
        "colab_type": "code",
        "colab": {}
      },
      "source": [
        "CELL_NAME=\"TRAIN SINGLE LETTERS AND TEST LETTERS\"\n",
        "# model=rebuild()\n",
        "# test_single_letters()\n",
        "# optimizer = tf.compat.v1.train.RMSPropOptimizer(0.001)\n",
        "# pretrain_letters(10,BATCH_SIZE)\n",
        "# test_single_letters()\n",
        "# save_checkpoint(\"testing1\")\n",
        "# model=rebuild()\n",
        "# test_single_letters()\n",
        "# model=load_checkpoint()\n",
        "# test_single_letters()"
      ],
      "execution_count": 0,
      "outputs": []
    },
    {
      "cell_type": "markdown",
      "metadata": {
        "id": "LaFWkYAG99Du",
        "colab_type": "text"
      },
      "source": [
        "##train loop"
      ]
    },
    {
      "cell_type": "code",
      "metadata": {
        "id": "6ZNb9x9W6bS_",
        "colab_type": "code",
        "colab": {}
      },
      "source": [
        "CELL_NAME=\"DEF main TRAIN_LOOP\"\n",
        "\n",
        "\n",
        "#A SINGLE EPOCH\n",
        "def train(cur_dataset=train_dataset_double_kuzari,stop_loop=10000000000):\n",
        "  global GLOBAL_epoch\n",
        "  if STATEFUL:\n",
        "    hidden = model.reset_states()\n",
        "  total_loss=0\n",
        "  for (batch_n, (inp, target,input_lens,target_lens)) in enumerate(cur_dataset):\n",
        "        if batch_n>stop_loop:\n",
        "          break\n",
        "        with tf.GradientTape() as tape:            \n",
        "            predictions = model(inp)                \n",
        "            #labels=tf.cast(target, tf.int32) #need?\n",
        "            logits=tf.transpose(predictions,perm=[1,0,2])  \n",
        "            loss=tf.nn.ctc_loss(target,logits, target_lens,input_lens,blank_index=targ_lang.char2idx[BLANK])              \n",
        "            \n",
        "            cost = tf.reduce_mean(loss)\n",
        "            total_loss+=cost\n",
        "\n",
        "        grads = tape.gradient(cost, model.trainable_variables)\n",
        "        optimizer.apply_gradients(zip(grads, model.trainable_variables))\n",
        "\n",
        "        if batch_n % 10 == 0:\n",
        "            template = 'Epoch {} Batch {} Loss {:.4f}'\n",
        "            print_log_screen(template.format(GLOBAL_epoch+1, batch_n, cost))\n",
        "  GLOBAL_epoch+=1\n",
        "  return total_loss.numpy()\n",
        "  \n"
      ],
      "execution_count": 0,
      "outputs": []
    },
    {
      "cell_type": "markdown",
      "metadata": {
        "id": "mtlmUGP0i-uA",
        "colab_type": "text"
      },
      "source": [
        "#MAIN"
      ]
    },
    {
      "cell_type": "code",
      "metadata": {
        "id": "FiPPcVK2jDyG",
        "colab_type": "code",
        "colab": {}
      },
      "source": [
        "CELL_NAME=\"MAIN\"\n",
        "\n",
        "##############################################\n",
        "####RUN PARAMETERS:\n",
        "mail_subject=\"NOT STATEFULL: pretrain letters. synt DROPOUT 0.9 no KUZARI\"\n",
        "mail_subject=this_time+\":\"+mail_subject\n",
        "\n",
        "pretrain_letter=15\n",
        "synth=True\n",
        "keep_percent=0.85\n",
        "\n",
        "description=\"\\n\"+\"pretrain: \"+str(pretrain_letter)+\"\\n\"+ \\\n",
        "    (\"no synth\" if not synth else \"with synth data\")+ \\\n",
        "    \"\\n\"+\"dropout:\"+str(keep_percent) +\"\\n\"\n",
        "print_log_screen(description)\n",
        "#################################\n",
        "\n",
        "#INIT\n",
        "BEST_ACCURACY=1\n",
        "f= open(\"my_log.txt\",\"w+\") #attach to mail summary of tests\n",
        "init_random()\n",
        "\n",
        "losses=[]\n",
        "test_losses=[]\n",
        "accuracys=[]\n",
        "\n",
        "model=rebuild()\n",
        "\n",
        "optimizer = tf.compat.v1.train.RMSPropOptimizer(0.001)\n",
        "\n",
        "###################################\n",
        "####PRETRAIN\n",
        "if pretrain_letter>0:\n",
        "  print_log_screen(\"PRETRAIN\")\n",
        "  pretrain_letters(pretrain_letter,BATCH_SIZE)\n",
        "  print_log_screen('-'*200)\n",
        "##################################\n",
        "print_log_screen(\"START TRAIN\")\n",
        "\n",
        "for jjj in range(6): #after each of this iterations - send mail and calc full test\n",
        "  for i in range(5): #iter without sendmail and only partial test    \n",
        "    if keep_percent<1:\n",
        "        train_dataset_double_kuzari= produce_dataset(\n",
        "            create_parralel_phrases(kuzari_lines_train,keep_percent),\n",
        "            to_shuffle=TO_SHUFFLE)        \n",
        "    if synth:\n",
        "      dataset_double_synt=gen_all_synth(keep_percent).concatenate(train_dataset_double_kuzari).shuffle(500)\n",
        "      loss=train(dataset_double_synt,stop_loop=350)\n",
        "    else:\n",
        "      loss=train(train_dataset_double_kuzari)\n",
        "    \n",
        "    #total_test_loss,total_accuracy=test(single_words_test_dataset,limit=5)\n",
        "    \n",
        "    total_test_loss,total_accuracy=test(limit=5)\n",
        "    test(this_dataset=test_dataset_double_rasag,limit=5)\n",
        "\n",
        "    #losses.append(loss)\n",
        "    #test_losses.append(total_test_loss)\n",
        "    #accuracys.append(total_accuracy)\n",
        "    # print ('Epoch {} Loss {:.4f} Test Loss {:.4f} accuracy {:.4f}' \\\n",
        "    #        .format(GLOBAL_epoch, loss, total_test_loss,total_accuracy))    \n",
        "       \n",
        "    print_log_screen('-'*200)\n",
        "    test_kfir(kfir_kuzari_test,False)\n",
        "    test_kfir(kfir_rasag_test,False)\n",
        "    print_log_screen('-'*200)\n",
        "    \n",
        "  print_log('FULL STATISTICS')\n",
        "  print_log('='*200)\n",
        "  test_kfir(kfir_kuzari_test,False,True)  \n",
        "  test_kfir(kfir_rasag_test,False,True)\n",
        "  #TESTING ALL EVERY OUTER LOOP \n",
        "  all_test_loss,all_accuracy=test()\n",
        "  #shuffle_loss,shuffle_accuracy=test_shuffle()\n",
        "  all_test_loss1,all_accuracy1=test(test_dataset_double_rasag)  #HAEMUNOT VEHADEOT\n",
        "  #shuffle_loss1,shuffle_accuracy1=test_shuffle(shuffle_test_dataset_double_rasag)\n",
        "  \n",
        "  \n",
        "  guide_result=test_guide()\n",
        "  \n",
        "  #TODO SAVE CHECKPOINT\n",
        "  if all_accuracy<BEST_ACCURACY:\n",
        "    save_checkpoint(\"improvement in accuracy. Current LER on KUZARI test data: \"+str(all_accuracy))\n",
        "    BEST_ACCURACY=all_accuracy\n",
        "\n",
        "#  my_plot_save(losses,\"train.png\",decor='r--')\n",
        "#  my_plot_save(test_losses,\"test.png\",decor='b-')\n",
        "#  my_plot_save(accuracys,\"accuracys.png\",decor='g-')\n",
        "  \n",
        "  print_log(\"full test: loss \",all_test_loss,\" accuracy \",all_accuracy)\n",
        "  print_log(\"full test (HAEMUNOT): loss \",all_test_loss1,\" accuracy \",all_accuracy1)\n",
        "\n",
        " # print_log(\"shuffle test (HAEMUNOT): loss \",shuffle_loss1,\" accuracy \",shuffle_accuracy1)\n",
        "  print('='*200)\n",
        "  print('CONTINUE TRAINING')\n",
        "\n",
        "  # for l,t,a in zip(losses,test_losses,accuracys):\n",
        "  #   print(l,t,a)\n",
        "  #   f.write(\"%.3f %.3f %.6f\\r\\n\" % (l,t,a))\n",
        "  \n",
        "  f.write(\"EPOCH \"+str(GLOBAL_epoch)+'\\n')\n",
        "  f.write(\"full test: loss %.6f accuracy %.6f\\r\\n\" % (all_test_loss,all_accuracy))\n",
        "  f.write(\"full test (HAEMUNOT): loss  %.6f accuracy %.6f\\r\\n\" % (all_test_loss1,all_accuracy1))\n",
        "  #f.write(\"shuffle test (HAEMUNOT): loss %.6f accuracy %.6f\\r\\n\" % (shuffle_loss1,shuffle_accuracy1))\n",
        "  \n",
        "\n",
        "\n",
        "\n",
        "\n",
        "  #[(l,t,a) for l,t,a in zip(losses,test_losses,accuracys)]\n",
        "  \n",
        "  log_flush()\n",
        "  f.flush()\n",
        "  send_results(mail_subject,str(all_accuracy)+'\\n'+str(all_accuracy1)+description+'\\n\\n'+guide_result)\n",
        "\n",
        "\n",
        "  \n",
        "f.close()\n",
        "close_log()"
      ],
      "execution_count": 0,
      "outputs": []
    },
    {
      "cell_type": "markdown",
      "metadata": {
        "id": "QwpwDinoeIu5",
        "colab_type": "text"
      },
      "source": [
        "#MAIN OUTPUT (ABOVE)"
      ]
    },
    {
      "cell_type": "code",
      "metadata": {
        "id": "zdj5RlXokVZM",
        "colab_type": "code",
        "colab": {}
      },
      "source": [
        "# test()\n",
        "#test(test_dataset_double_rasag)"
      ],
      "execution_count": 0,
      "outputs": []
    },
    {
      "cell_type": "code",
      "metadata": {
        "id": "pFG_Z9-HjEVH",
        "colab_type": "code",
        "colab": {}
      },
      "source": [
        "# test_guide()\n",
        "# test_shuffle()"
      ],
      "execution_count": 0,
      "outputs": []
    },
    {
      "cell_type": "code",
      "metadata": {
        "id": "yj4qfAwZhuDd",
        "colab_type": "code",
        "colab": {}
      },
      "source": [
        ""
      ],
      "execution_count": 0,
      "outputs": []
    },
    {
      "cell_type": "code",
      "metadata": {
        "id": "GXh1zFNmDjX2",
        "colab_type": "code",
        "colab": {}
      },
      "source": [
        "# for i in range(50):\n",
        "#   train()\n",
        "#   test(single_words_test_dataset,limit=5)\n",
        "#   test(limit=5)"
      ],
      "execution_count": 0,
      "outputs": []
    },
    {
      "cell_type": "code",
      "metadata": {
        "id": "CcQWJJJiGMYX",
        "colab_type": "code",
        "colab": {}
      },
      "source": [
        "  # test(only_first=False)"
      ],
      "execution_count": 0,
      "outputs": []
    },
    {
      "cell_type": "code",
      "metadata": {
        "id": "b4ukMRiAym05",
        "colab_type": "code",
        "colab": {}
      },
      "source": [
        "test(this_dataset=test_dataset_double_kuzari,only_first=False)"
      ],
      "execution_count": 0,
      "outputs": []
    },
    {
      "cell_type": "code",
      "metadata": {
        "id": "cPjO2JYZhw02",
        "colab_type": "code",
        "colab": {}
      },
      "source": [
        "shuffle_loss,shuffle_accuracy=test_shuffle()"
      ],
      "execution_count": 0,
      "outputs": []
    },
    {
      "cell_type": "code",
      "metadata": {
        "id": "mxrgk68_hwBb",
        "colab_type": "code",
        "colab": {}
      },
      "source": [
        "  shuffle_loss1,shuffle_accuracy1=test_shuffle(shuffle_test_dataset_double_rasag)"
      ],
      "execution_count": 0,
      "outputs": []
    },
    {
      "cell_type": "code",
      "metadata": {
        "id": "hVg68eKuh2eA",
        "colab_type": "code",
        "colab": {}
      },
      "source": [
        "test(this_dataset=test_dataset_double_rasag,only_first=False)"
      ],
      "execution_count": 0,
      "outputs": []
    },
    {
      "cell_type": "markdown",
      "metadata": {
        "id": "YBxC8ziVJuTe",
        "colab_type": "text"
      },
      "source": [
        "test_guide(limit=3)TESTTtttt#TODO\n",
        "\n",
        "\n",
        "1.   varied length for data - to makes the system more robust for sentneces with different lengths. can do this with SENTENCE_LIMIT=20 set to random limit when sentences length exceedes current limit\n",
        "\n",
        "2.   abstraction for the testing functions (see comparesment in notpad++)\n",
        "\n",
        "3.   try TPU\n",
        "\n",
        "4.   new idea: input - arab baseline. train network to correct it\n",
        "\n",
        "5.    predict only middle word. input (1 true arab words) - (2 arab baseline word) - (3 true arab words) output - the middle word in corrected arab.\n",
        "\n",
        "or calc results only on middle word(s)\n",
        "\n",
        "6.   transformer (see tf tutorial)\n",
        "\n",
        "7.    NEW AND INTERESTING!!!!!: add space to each line at start and at end\n",
        "so the network knows this is end of word!\n",
        "\n",
        "\n"
      ]
    },
    {
      "cell_type": "markdown",
      "metadata": {
        "id": "1zcZ9IdHq23e",
        "colab_type": "text"
      },
      "source": [
        "#OLD STAFF"
      ]
    },
    {
      "cell_type": "code",
      "metadata": {
        "id": "xIrBodSVerlM",
        "colab_type": "code",
        "colab": {}
      },
      "source": [
        "# CELL_NAME=\"SMALL TRY\"\n",
        "\n",
        "# this_string='وأهل الأديان ثمّ على'\n",
        "# this_string='سُئِلْتُ عمّا عنديَ من الاحتجاج'\n",
        "# this_string='ثمّ'\n",
        "\n",
        "# #this_string='كان عند مَلِك الخَزَرِ الداخل'\n",
        "# print_log_screen(len(this_string))\n",
        "# this_string=normalize_unicode(remove_arab_nikud(this_string)) #new!!!!\n",
        "\n",
        "# print_log_screen(len(this_string))\n",
        "# this_string"
      ],
      "execution_count": 0,
      "outputs": []
    },
    {
      "cell_type": "code",
      "metadata": {
        "id": "KBvz3vMxLIH2",
        "colab_type": "code",
        "colab": {}
      },
      "source": [
        "# CELL_NAME=\"TRY SYNTH\"\n",
        "\n",
        "# #ACTIVATE\n",
        "# ibnsina_text=load_lines_synth()\n",
        "\n",
        "# #STATSTICS OF SYNTH TEXT\n",
        "# sina_vocab=sorted(set(ibnsina_text))\n",
        "\n",
        "# print_log(\"NOT IN LETTER LIST:\")\n",
        "# for c in sina_vocab:\n",
        "#    if c not in targ_lang.char2idx:\n",
        "#       print_log(\"(\",c,\")\")\n",
        "\n",
        "# print_log(\"\\nLETTER COUNTS\")\n",
        "# for i in range(len(sina_vocab)):\n",
        "#   print_log(LTRchar,i,'\"',sina_vocab[i],'\"',ibnsina_text.count(sina_vocab[i])) #64 is shadda   \n",
        "\n",
        "# #ibnsina_text=ibnsina_text.replace(\"\\r\\n\\r\\n\",\"\\r\\n\").replace(\"\\r\\n\",\" \\r\\n \") #TODO rethink this\n",
        "# #sina_words=ibnsina_text.split(\" \")\n",
        "# #ibnsina_text=ibnsina_text.replace(\"\\r\\n\\r\\n\",\"\\r\\n\").replace(\"\\r\\n\",\". \") #TODO rethink this\n",
        "# sina_words=ibnsina_text.split() #for removing also newlines\n",
        "# print_log(ibnsina_text[:100])\n",
        "# sina_words[0:10]"
      ],
      "execution_count": 0,
      "outputs": []
    },
    {
      "cell_type": "markdown",
      "metadata": {
        "id": "cMQxNPpy_MXA",
        "colab_type": "text"
      },
      "source": [
        "##Shuffled test (NOT USED NOW)"
      ]
    },
    {
      "cell_type": "code",
      "metadata": {
        "id": "6wjB8kq4zAli",
        "colab_type": "code",
        "colab": {}
      },
      "source": [
        "# CELL_NAME=\"SHUFFLED TEST\"\n",
        "\n",
        "# def get_shuffled_word_pairs(test_dataset):\n",
        "  \n",
        "#   val_inputs_list=[]\n",
        "#   val_outputs_list=[]\n",
        "\n",
        "#   for i,j,l1,l2 in test_dataset:\n",
        "#     for tt in range(BATCH_SIZE):\n",
        "#      # print_log(i[tt],j[tt])\n",
        "#       i_prediction=decode_JA(tf.constant(i[tt]),l1[tt])\n",
        "#       j_prediction=decode_arr(tf.constant(j[tt]),l2[tt])      \n",
        "#       if (len(i_prediction.split())==len(j_prediction.split())):\n",
        "#         val_inputs_list+=i_prediction.split()\n",
        "#         val_outputs_list+=j_prediction.split()\n",
        "    \n",
        "#   print_log(\"len(val_inputs_list),len(val_outputs_list)\",len(val_inputs_list),len(val_outputs_list)) #10836 10836\n",
        "\n",
        "#   word_pairs=list(zip(val_inputs_list,val_outputs_list))\n",
        "#   print_log(\"BEFORE SHUFFLE\")\n",
        "#   for i in word_pairs[:5]:\n",
        "#     print_log(i)\n",
        "#   random.shuffle(word_pairs)\n",
        "#   print_log(\"AFTER SHUFFLE\")\n",
        "#   for i in word_pairs[:5]:\n",
        "#     print_log(i)\n",
        "#   return word_pairs\n",
        "\n",
        "# #TESTING\n",
        "# #word_pairs1=get_shuffled_word_pairs(test_dataset_double_rasag.take(1))\n"
      ],
      "execution_count": 0,
      "outputs": []
    },
    {
      "cell_type": "code",
      "metadata": {
        "id": "bXrW_yjRZS_L",
        "colab_type": "code",
        "colab": {}
      },
      "source": [
        "# CELL_NAME=\"DEF GET SHUFFLE DATA\"\n",
        "# def get_shuffled_data(word_pairs):\n",
        "\n",
        "#   accum=0\n",
        "#   heb_acum=\"\"\n",
        "#   arab_acum=\"\"\n",
        "#   results_line=[]\n",
        "#   for i,j in word_pairs:\n",
        "#     if accum>19:\n",
        "#       results_line.append(undouble_hebrew(heb_acum)+'\\t'+arab_acum)\n",
        "#       assert(len(i)%2==0)\n",
        "#       accum=len(i)/2\n",
        "#       heb_acum=i\n",
        "#       arab_acum=j\n",
        "#     else:\n",
        "#       heb_acum+=\" \"+i\n",
        "#       arab_acum+=\" \"+j \n",
        "#       assert(len(i)%2==0)\n",
        "#       accum += len(i)/2 + 1;\n",
        "#   results_line.append(heb_acum+'\\t'+arab_acum)  #needed?\n",
        "\n",
        "#   print_log(\"len(results_line)\",len(results_line)) # 2175 before was: 2185 lines \n",
        "\n",
        "\n",
        "#   input_tensor_shuffle, target_tensor_shuffle \\\n",
        "#   ,input_lenghts_shuffle,target_lengths_shuffle = create_data_tensors(create_parralel_phrases(results_line))\n",
        "\n",
        "#   print_log(\"len(input_tensor_shuffle), len(input_lenghts_shuffle)\",len(input_tensor_shuffle), len(input_lenghts_shuffle))\n",
        "#   print_log(\"len(target_tensor_shuffle),  len(target_lengths_shuffle)\",len(target_tensor_shuffle), len(target_lengths_shuffle))\n",
        "\n",
        "#   BUFFER_SIZE = len(target_lengths_shuffle)\n",
        "\n",
        "#   shuffle_test_dataset = tf.data.Dataset.from_tensor_slices((input_tensor_shuffle,\n",
        "#                                                             target_tensor_shuffle,\n",
        "#                                                             input_lenghts_shuffle,\n",
        "#                                                             target_lengths_shuffle)).shuffle(BUFFER_SIZE)\n",
        "\n",
        "#   shuffle_test_dataset_double=shuffle_test_dataset.batch(BATCH_SIZE, drop_remainder=True)\n",
        "#   return shuffle_test_dataset_double\n",
        "\n"
      ],
      "execution_count": 0,
      "outputs": []
    },
    {
      "cell_type": "code",
      "metadata": {
        "id": "9QPdoa03o6gD",
        "colab_type": "code",
        "colab": {}
      },
      "source": [
        "CELL_NAME=\"GEN SHUFFLED DATA\"\n",
        "\n",
        "# word_pairs=get_shuffled_word_pairs(test_dataset_double_kuzari)\n",
        "# shuffle_test_dataset_double=get_shuffled_data(word_pairs)\n",
        "# view_data(shuffle_test_dataset_double)\n",
        "\n",
        "\n",
        "# word_pairs1=get_shuffled_word_pairs(test_dataset_double_rasag)\n",
        "# shuffle_test_dataset_double_rasag=get_shuffled_data(word_pairs1)\n",
        "# view_data(shuffle_test_dataset_double_rasag)\n",
        "\n",
        "\n"
      ],
      "execution_count": 0,
      "outputs": []
    },
    {
      "cell_type": "markdown",
      "metadata": {
        "id": "2jI08UDJhkS9",
        "colab_type": "text"
      },
      "source": [
        "##test shuffle"
      ]
    },
    {
      "cell_type": "code",
      "metadata": {
        "id": "KSpgkEQxhmFG",
        "colab_type": "code",
        "colab": {}
      },
      "source": [
        "# CELL_NAME=\"DEF TEST_SHUFFLE\"\n",
        "# def test_shuffle(data=shuffle_test_dataset_double,limit=False):\n",
        "#   return test(this_dataset=data,limit=limit)\n",
        "# #shuffle_loss,shuffle_accuracy=test_shuffle(limit=3)"
      ],
      "execution_count": 0,
      "outputs": []
    },
    {
      "cell_type": "markdown",
      "metadata": {
        "id": "lFLoKpwg9rJ6",
        "colab_type": "text"
      },
      "source": [
        "\n",
        "##Single words test (NOT USED NOW)"
      ]
    },
    {
      "cell_type": "code",
      "metadata": {
        "id": "ZSr5HALl9qDu",
        "colab_type": "code",
        "colab": {}
      },
      "source": [
        "# CELL_NAME=\"GEN SINGEL WORDS\"\n",
        "\n",
        "# # results_line=[]\n",
        "# # for i,j in word_pairs:\n",
        "# #     results_line.append(undouble_hebrew(i)+'\\t'+j)\n",
        "\n",
        "# # print_log(\"len(results_line)\",len(results_line)) \n",
        "\n",
        "\n",
        "# # input_tensor_shuffle, target_tensor_shuffle \\\n",
        "# # , input_lenghts_shuffle,target_lengths_shuffle = create_data_tensors(create_parralel_phrases(results_line))\n",
        "\n",
        "# # print_log(\"len(input_tensor_shuffle), len(target_tensor_shuffle), len(input_lenghts_shuffle), len(target_lengths_shuffle)\",len(input_tensor_shuffle), len(target_tensor_shuffle), len(input_lenghts_shuffle), len(target_lengths_shuffle))\n",
        "\n",
        "# # BUFFER_SIZE = len(target_lengths_shuffle)\n",
        "\n",
        "# # single_words_test_dataset = tf.data.Dataset.from_tensor_slices((input_tensor_shuffle,\n",
        "# #                                                                 target_tensor_shuffle,\n",
        "# #                                                                 input_lenghts_shuffle,\n",
        "# #                                                                 target_lengths_shuffle)).shuffle(BUFFER_SIZE)\n",
        "\n",
        "# # single_words_test_dataset=single_words_test_dataset.batch(BATCH_SIZE, drop_remainder=True)\n",
        "\n",
        "# # view_data(single_words_test_dataset)"
      ],
      "execution_count": 0,
      "outputs": []
    }
  ]
}